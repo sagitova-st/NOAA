{
 "cells": [
  {
   "cell_type": "code",
   "execution_count": 1,
   "metadata": {},
   "outputs": [],
   "source": [
    "from typing import Tuple, List\n",
    "from datetime import datetime, timedelta, timezone\n",
    "\n",
    "import numpy as np\n",
    "\n",
    "from sgp4.api import Satrec\n",
    "from sgp4.api import jday\n",
    "from astropy import coordinates\n",
    "from astropy.coordinates.builtin_frames import GCRS, ITRS\n",
    "\n",
    "from SATELLITES import SATELLITES\n",
    "from coordinate_system.EarhRotating import build_default_rotating_cs\n",
    "from XtoY.cartesianfromgeo import get_cartesian_geo_from_geo_angles\n",
    "from coordinate_system.earth_models import get_wgs_84\n",
    "from XtoY.xyz_rfilam import xyz_to_rfilam\n",
    "\n",
    "from matplotlib import pyplot as plt"
   ]
  },
  {
   "cell_type": "code",
   "execution_count": 47,
   "metadata": {},
   "outputs": [
    {
     "name": "stdout",
     "output_type": "stream",
     "text": [
      "2020-09-08 12:09:18+00:00\n",
      "[[-6191.31571761 -3424.62064665 -1487.27766034]\n",
      " [-6209.87616187 -3421.41507939 -1415.49803421]\n",
      " [-6227.7809839  -3417.84828845 -1343.56858621]\n",
      " ...\n",
      " [ 5486.42779415  2071.82412518 -4199.42253689]\n",
      " [ 5451.46146617  2043.41695118 -4258.57502009]\n",
      " [ 5415.91668957  2014.79295342 -4317.2744816 ]]\n"
     ]
    }
   ],
   "source": [
    "def get_satellite_trajectory(tle2lines: Tuple[str, str], time_points: List[datetime]):\n",
    "    satellite = Satrec.twoline2rv(*tle2lines)\n",
    "    jd_fr = np.array([jday(*(point.utctimetuple()[:6])) for point in time_points])\n",
    "    result = [satellite.sgp4(jd, fr)[1] for jd, fr in jd_fr]\n",
    "    return np.array(result)\n",
    "\n",
    "\n",
    "\n",
    "# s = '1 15427U 84123A   20251.91176968  .00000010  00000-0  28072-4 0  9998'\n",
    "# t = '2 15427  98.9487 206.5692 0014348 199.4765 227.6432 14.16105412844969'\n",
    "s = '1 15427U 84123A   20251.91176968  .00000010  00000-0  28072-4 0  9998'\n",
    "t = '2 15427  98.9487 206.5692 0014348 199.4765 227.6432 14.16105412844969'\n",
    "\n",
    "t0 = datetime(2020, 9, 8, 9, 22, 48, tzinfo=timezone.utc)\n",
    "time_points = [t0 + timedelta(seconds=i * 10)  for i in range(1000)]\n",
    "print(time_points[-1])\n",
    "\n",
    "\n",
    "trajectory = get_satellite_trajectory((s, t), time_points)\n",
    "\n",
    "print(trajectory)\n",
    "    \n",
    "\n",
    "\n",
    "# # широта и долгота ЛК\n",
    "# lk_coord = [55.930148, 37.518151]\n",
    "# print(\"Широта и долгота ЛК\", lk_coord)\n",
    "\n",
    "# # декартовы координты ЛК\n",
    "# lk_cartesian = get_cartesian_geo_from_geo_angles(latitude=lk_coord[0], longitude=lk_coord[1], model=get_wgs_84())\n",
    "\n",
    "# print(\"Декартовы координаты ЛК\", lk_cartesian)\n",
    "\n",
    "\n",
    "# satellite = Satrec.twoline2rv(s, t)\n",
    "\n",
    "# jd, fr = jday(2020, 9, 9, 14, 00, 0)\n",
    "\n",
    "# # получаем векторы координат и скорости спутника в конкретный момент времени\n",
    "# result = satellite.sgp4(jd, fr)\n",
    "\n",
    "# print(\"Координаты спутника x, y, z\", result[1])\n",
    "# print(\"Скорсть спутника v_x, v_y, v_z\", result[2])\n",
    "\n",
    "# # получаем матрицу перехода от ИСО в НеИСО в момент времени data\n",
    "# data = datetime(2020, 9, 7).timestamp()\n",
    "# rotator = build_default_rotating_cs()\n",
    "# rm = rotator.get_matrix(data)\n",
    "\n",
    "# # координаты в нужной системе отсчета\n",
    "# result_in_itrs = rm.dot(result[1])\n",
    "# print(\"Координаты спутника в НеИСО\", result_in_itrs)\n",
    "\n",
    "# lk_in_itrs = rm.dot(lk_cartesian)\n",
    "# print(\"Координаты ЛК в НеИСО в километрах\", lk_in_itrs/1000)"
   ]
  },
  {
   "cell_type": "code",
   "execution_count": 48,
   "metadata": {},
   "outputs": [
    {
     "name": "stdout",
     "output_type": "stream",
     "text": [
      "[2834.00415972 2176.03463504 5265.64894931]\n",
      "[[ 1152.66817902  6978.19411056 -1499.52484205]\n",
      " [ 1171.88129992  6990.022204   -1427.78205014]\n",
      " [ 1190.98799409  7001.0880871  -1355.88813944]\n",
      " ...\n",
      " [-5051.20649686 -2994.95656886 -4188.5609541 ]\n",
      " [-5023.98031577 -2957.26420077 -4247.78252609]\n",
      " [-4996.16854482 -2919.29974782 -4306.55222157]]\n"
     ]
    }
   ],
   "source": [
    "rotator = build_default_rotating_cs()\n",
    "wgs84 = get_wgs_84()\n",
    "\n",
    "def get_terrestrial_point_coordinates(geo_angles: Tuple[float, float], time_points: List[datetime]):\n",
    "    coordinates = get_cartesian_geo_from_geo_angles(latitude=geo_angles[0], longitude=geo_angles[1], model=wgs84)\n",
    "    time_points_timestamps = [time_point.timestamp() for time_point in time_points]\n",
    "    rotation_matrix_list = rotator.get_matrix(time_points_timestamps)\n",
    "    coordinates_in_inertial_system = np.array([rm.dot(coordinates) / 1000 for rm in rotation_matrix_list])\n",
    "    return coordinates_in_inertial_system\n",
    "\n",
    "def move_satellite_trajectory_to_earth_coordinates(\n",
    "    trajectory: np.ndarray, time_points: List[datetime]\n",
    "):\n",
    "    time_points_timestamps = [time_point.timestamp() for time_point in time_points]\n",
    "    rotation_matrix_list = rotator.get_matrix(time_points_timestamps)\n",
    "    trajectory_in_earth_coordinates = np.array([rm.dot(coordinate) for rm, coordinate in zip(rotation_matrix_list, trajectory)])\n",
    "    return trajectory_in_earth_coordinates\n",
    "\n",
    "lk_coord = [55.930148 / 180 * np.pi, 37.518151 / 180 * np.pi]\n",
    "lk_coordinate = get_cartesian_geo_from_geo_angles(latitude=lk_coord[0], longitude=lk_coord[1], model=wgs84) / 1000\n",
    "# lk_coordnates = get_terrestrial_point_coordinates(lk_coord, time_points)\n",
    "print(lk_coordinate)\n",
    "\n",
    "earth_sk_trajectory = move_satellite_trajectory_to_earth_coordinates(trajectory, time_points)\n",
    "\n",
    "print(earth_sk_trajectory)"
   ]
  },
  {
   "cell_type": "code",
   "execution_count": 49,
   "metadata": {},
   "outputs": [],
   "source": [
    "# coordinates.CoordinateTransform(GCRS,ITRS, priority=1)"
   ]
  },
  {
   "cell_type": "code",
   "execution_count": 72,
   "metadata": {
    "scrolled": true
   },
   "outputs": [
    {
     "name": "stdout",
     "output_type": "stream",
     "text": [
      "[-4.70470870e+03 -4.63274156e+03 -4.56095743e+03 -4.48936431e+03\n",
      " -4.41797022e+03 -4.34678316e+03 -4.27581111e+03 -4.20506199e+03\n",
      " -4.13454375e+03 -4.06426427e+03 -3.99423143e+03 -3.92445308e+03\n",
      " -3.85493704e+03 -3.78569107e+03 -3.71672297e+03 -3.64804044e+03\n",
      " -3.57965118e+03 -3.51156288e+03 -3.44378314e+03 -3.37631957e+03\n",
      " -3.30917975e+03 -3.24237118e+03 -3.17590137e+03 -3.10977777e+03\n",
      " -3.04400779e+03 -2.97859881e+03 -2.91355817e+03 -2.84889317e+03\n",
      " -2.78461104e+03 -2.72071903e+03 -2.65722427e+03 -2.59413391e+03\n",
      " -2.53145502e+03 -2.46919463e+03 -2.40735974e+03 -2.34595728e+03\n",
      " -2.28499415e+03 -2.22447718e+03 -2.16441317e+03 -2.10480887e+03\n",
      " -2.04567097e+03 -1.98700610e+03 -1.92882087e+03 -1.87112179e+03\n",
      " -1.81391535e+03 -1.75720798e+03 -1.70100603e+03 -1.64531584e+03\n",
      " -1.59014366e+03 -1.53549567e+03 -1.48137803e+03 -1.42779681e+03\n",
      " -1.37475802e+03 -1.32226765e+03 -1.27033158e+03 -1.21895565e+03\n",
      " -1.16814564e+03 -1.11790726e+03 -1.06824614e+03 -1.01916790e+03\n",
      " -9.70678029e+02 -9.22781986e+02 -8.75485167e+02 -8.28792886e+02\n",
      " -7.82710389e+02 -7.37242874e+02 -6.92395449e+02 -6.48173155e+02\n",
      " -6.04580981e+02 -5.61623828e+02 -5.19306526e+02 -4.77633850e+02\n",
      " -4.36610487e+02 -3.96241051e+02 -3.56530102e+02 -3.17482107e+02\n",
      " -2.79101459e+02 -2.41392497e+02 -2.04359464e+02 -1.68006531e+02\n",
      " -1.32337807e+02 -9.73573098e+01 -6.30689817e+01 -2.94767016e+01\n",
      "  3.41574366e+00  3.56046451e+01  6.70863575e+01  9.78573291e+01\n",
      "  1.27914087e+02  1.57253223e+02  1.85871424e+02  2.13765457e+02\n",
      "  2.40932155e+02  2.67368445e+02  2.93071338e+02  3.18037909e+02\n",
      "  3.42265333e+02  3.65750863e+02  3.88491824e+02  4.10485635e+02\n",
      "  4.31729798e+02  4.52221889e+02  4.71959574e+02  4.90940609e+02\n",
      "  5.09162821e+02  5.26624125e+02  5.43322529e+02  5.59256113e+02\n",
      "  5.74423052e+02  5.88821605e+02  6.02450107e+02  6.15306989e+02\n",
      "  6.27390766e+02  6.38700031e+02  6.49233470e+02  6.58989856e+02\n",
      "  6.67968040e+02  6.76166968e+02  6.83585670e+02  6.90223257e+02\n",
      "  6.96078933e+02  7.01151988e+02  7.05441793e+02  7.08947812e+02\n",
      "  7.11669595e+02  7.13606774e+02  7.14759071e+02  7.15126299e+02\n",
      "  7.14708349e+02  7.13505206e+02  7.11516941e+02  7.08743706e+02\n",
      "  7.05185747e+02  7.00843395e+02  6.95717064e+02  6.89807258e+02\n",
      "  6.83114569e+02  6.75639671e+02  6.67383327e+02  6.58346389e+02\n",
      "  6.48529791e+02  6.37934554e+02  6.26561788e+02  6.14412685e+02\n",
      "  6.01488525e+02  5.87790675e+02  5.73320584e+02  5.58079789e+02\n",
      "  5.42069912e+02  5.25292658e+02  5.07749820e+02  4.89443272e+02\n",
      "  4.70374976e+02  4.50546975e+02  4.29961399e+02  4.08620460e+02\n",
      "  3.86526453e+02  3.63681758e+02  3.40088837e+02  3.15750234e+02\n",
      "  2.90668577e+02  2.64846577e+02  2.38287023e+02  2.10992790e+02\n",
      "  1.82966831e+02  1.54212183e+02  1.24731961e+02  9.45293623e+01\n",
      "  6.36076631e+01  3.19702183e+01 -3.79535622e-01 -3.34380828e+01\n",
      " -6.72018331e+01 -1.01667112e+02 -1.36830173e+02 -1.72687191e+02\n",
      " -2.09234258e+02 -2.46467398e+02 -2.84382555e+02 -3.22975594e+02\n",
      " -3.62242309e+02 -4.02178422e+02 -4.42779570e+02 -4.84041327e+02\n",
      " -5.25959190e+02 -5.68528578e+02 -6.11744844e+02 -6.55603268e+02\n",
      " -7.00099054e+02 -7.45227340e+02 -7.90983194e+02 -8.37361606e+02\n",
      " -8.84357506e+02 -9.31965752e+02 -9.80181129e+02 -1.02899836e+03\n",
      " -1.07841210e+03 -1.12841694e+03 -1.17900739e+03 -1.23017791e+03\n",
      " -1.28192289e+03 -1.33423667e+03 -1.38711349e+03 -1.44054756e+03\n",
      " -1.49453302e+03 -1.54906395e+03 -1.60413434e+03 -1.65973816e+03\n",
      " -1.71586931e+03 -1.77252161e+03 -1.82968884e+03 -1.88736471e+03\n",
      " -1.94554289e+03 -2.00421698e+03 -2.06338053e+03 -2.12302702e+03\n",
      " -2.18314989e+03 -2.24374254e+03 -2.30479828e+03 -2.36631040e+03\n",
      " -2.42827212e+03 -2.49067662e+03 -2.55351702e+03 -2.61678640e+03\n",
      " -2.68047777e+03 -2.74458413e+03 -2.80909841e+03 -2.87401348e+03\n",
      " -2.93932218e+03 -3.00501732e+03 -3.07109164e+03 -3.13753785e+03\n",
      " -3.20434861e+03 -3.27151654e+03 -3.33903423e+03 -3.40689422e+03\n",
      " -3.47508900e+03 -3.54361105e+03 -3.61245279e+03 -3.68160660e+03\n",
      " -3.75106485e+03 -3.82081985e+03 -3.89086388e+03 -3.96118919e+03\n",
      " -4.03178801e+03 -4.10265251e+03 -4.17377485e+03 -4.24514716e+03\n",
      " -4.31676154e+03 -4.38861004e+03 -4.46068473e+03 -4.53297759e+03\n",
      " -4.60548063e+03 -4.67818582e+03 -4.75108508e+03 -4.82417034e+03\n",
      " -4.89743349e+03 -4.97086640e+03 -5.04446094e+03 -5.11820894e+03\n",
      " -5.19210220e+03 -5.26613254e+03 -5.34029174e+03 -5.41457155e+03\n",
      " -5.48896374e+03 -5.56346004e+03 -5.63805219e+03 -5.71273188e+03\n",
      " -5.78749085e+03 -5.86232076e+03 -5.93721331e+03 -6.01216018e+03\n",
      " -6.08715303e+03 -6.16218353e+03 -6.23724335e+03 -6.31232412e+03\n",
      " -6.38741751e+03 -6.46251517e+03 -6.53760873e+03 -6.61268986e+03\n",
      " -6.68775019e+03 -6.76278138e+03 -6.83777508e+03 -6.91272294e+03\n",
      " -6.98761663e+03 -7.06244780e+03 -7.13720815e+03 -7.21188932e+03\n",
      " -7.28648303e+03 -7.36098097e+03 -7.43537483e+03 -7.50965634e+03\n",
      " -7.58381724e+03 -7.65784926e+03 -7.73174415e+03 -7.80549371e+03\n",
      " -7.87908970e+03 -7.95252393e+03 -8.02578824e+03 -8.09887445e+03\n",
      " -8.17177443e+03 -8.24448008e+03 -8.31698327e+03 -8.38927594e+03\n",
      " -8.46135006e+03 -8.53319757e+03 -8.60481049e+03 -8.67618085e+03\n",
      " -8.74730068e+03 -8.81816208e+03 -8.88875716e+03 -8.95907805e+03\n",
      " -9.02911692e+03 -9.09886599e+03 -9.16831748e+03 -9.23746366e+03\n",
      " -9.30629684e+03 -9.37480934e+03 -9.44299356e+03 -9.51084191e+03\n",
      " -9.57834682e+03 -9.64550079e+03 -9.71229635e+03 -9.77872607e+03\n",
      " -9.84478256e+03 -9.91045848e+03 -9.97574651e+03 -1.00406394e+04\n",
      " -1.01051299e+04 -1.01692109e+04 -1.02328753e+04 -1.02961160e+04\n",
      " -1.03589258e+04 -1.04212980e+04 -1.04832255e+04 -1.05447015e+04\n",
      " -1.06057191e+04 -1.06662716e+04 -1.07263522e+04 -1.07859543e+04\n",
      " -1.08450713e+04 -1.09036965e+04 -1.09618236e+04 -1.10194460e+04\n",
      " -1.10765574e+04 -1.11331514e+04 -1.11892218e+04 -1.12447624e+04\n",
      " -1.12997669e+04 -1.13542294e+04 -1.14081437e+04 -1.14615040e+04\n",
      " -1.15143042e+04 -1.15665387e+04 -1.16182015e+04 -1.16692870e+04\n",
      " -1.17197895e+04 -1.17697035e+04 -1.18190235e+04 -1.18677440e+04\n",
      " -1.19158595e+04 -1.19633649e+04 -1.20102549e+04 -1.20565242e+04\n",
      " -1.21021679e+04 -1.21471808e+04 -1.21915581e+04 -1.22352948e+04\n",
      " -1.22783861e+04 -1.23208273e+04 -1.23626137e+04 -1.24037407e+04\n",
      " -1.24442038e+04 -1.24839986e+04 -1.25231206e+04 -1.25615657e+04\n",
      " -1.25993295e+04 -1.26364080e+04 -1.26727971e+04 -1.27084927e+04\n",
      " -1.27434911e+04 -1.27777883e+04 -1.28113806e+04 -1.28442644e+04\n",
      " -1.28764360e+04 -1.29078920e+04 -1.29386288e+04 -1.29686433e+04\n",
      " -1.29979320e+04 -1.30264919e+04 -1.30543198e+04 -1.30814126e+04\n",
      " -1.31077675e+04 -1.31333816e+04 -1.31582520e+04 -1.31823762e+04\n",
      " -1.32057515e+04 -1.32283754e+04 -1.32502454e+04 -1.32713592e+04\n",
      " -1.32917145e+04 -1.33113092e+04 -1.33301410e+04 -1.33482080e+04\n",
      " -1.33655083e+04 -1.33820400e+04 -1.33978014e+04 -1.34127907e+04\n",
      " -1.34270064e+04 -1.34404470e+04 -1.34531110e+04 -1.34649971e+04\n",
      " -1.34761040e+04 -1.34864307e+04 -1.34959760e+04 -1.35047389e+04\n",
      " -1.35127186e+04 -1.35199141e+04 -1.35263249e+04 -1.35319501e+04\n",
      " -1.35367894e+04 -1.35408421e+04 -1.35441080e+04 -1.35465866e+04\n",
      " -1.35482779e+04 -1.35491817e+04 -1.35492979e+04 -1.35486266e+04\n",
      " -1.35471679e+04 -1.35449220e+04 -1.35418893e+04 -1.35380701e+04\n",
      " -1.35334650e+04 -1.35280744e+04 -1.35218990e+04 -1.35149396e+04\n",
      " -1.35071970e+04 -1.34986721e+04 -1.34893659e+04 -1.34792795e+04\n",
      " -1.34684139e+04 -1.34567706e+04 -1.34443507e+04 -1.34311558e+04\n",
      " -1.34171872e+04 -1.34024467e+04 -1.33869359e+04 -1.33706565e+04\n",
      " -1.33536103e+04 -1.33357994e+04 -1.33172256e+04 -1.32978911e+04\n",
      " -1.32777980e+04 -1.32569486e+04 -1.32353452e+04 -1.32129903e+04\n",
      " -1.31898862e+04 -1.31660357e+04 -1.31414413e+04 -1.31161058e+04\n",
      " -1.30900320e+04 -1.30632228e+04 -1.30356812e+04 -1.30074102e+04\n",
      " -1.29784130e+04 -1.29486928e+04 -1.29182528e+04 -1.28870965e+04\n",
      " -1.28552272e+04 -1.28226486e+04 -1.27893641e+04 -1.27553775e+04\n",
      " -1.27206925e+04 -1.26853130e+04 -1.26492428e+04 -1.26124859e+04\n",
      " -1.25750464e+04 -1.25369284e+04 -1.24981360e+04 -1.24586736e+04\n",
      " -1.24185455e+04 -1.23777560e+04 -1.23363098e+04 -1.22942112e+04\n",
      " -1.22514650e+04 -1.22080759e+04 -1.21640485e+04 -1.21193878e+04\n",
      " -1.20740986e+04 -1.20281858e+04 -1.19816546e+04 -1.19345100e+04\n",
      " -1.18867572e+04 -1.18384014e+04 -1.17894478e+04 -1.17399020e+04\n",
      " -1.16897692e+04 -1.16390550e+04 -1.15877648e+04 -1.15359044e+04\n",
      " -1.14834794e+04 -1.14304955e+04 -1.13769585e+04 -1.13228742e+04\n",
      " -1.12682487e+04 -1.12130877e+04 -1.11573974e+04 -1.11011838e+04\n",
      " -1.10444531e+04 -1.09872115e+04 -1.09294651e+04 -1.08712204e+04\n",
      " -1.08124836e+04 -1.07532612e+04 -1.06935597e+04 -1.06333854e+04\n",
      " -1.05727451e+04 -1.05116453e+04 -1.04500927e+04 -1.03880940e+04\n",
      " -1.03256559e+04 -1.02627853e+04 -1.01994890e+04 -1.01357738e+04\n",
      " -1.00716469e+04 -1.00071150e+04 -9.94218536e+03 -9.87686492e+03\n",
      " -9.81116085e+03 -9.74508028e+03 -9.67863042e+03 -9.61181851e+03\n",
      " -9.54465182e+03 -9.47713768e+03 -9.40928343e+03 -9.34109645e+03\n",
      " -9.27258419e+03 -9.20375409e+03 -9.13461365e+03 -9.06517040e+03\n",
      " -8.99543190e+03 -8.92540574e+03 -8.85509956e+03 -8.78452099e+03\n",
      " -8.71367773e+03 -8.64257748e+03 -8.57122800e+03 -8.49963703e+03\n",
      " -8.42781239e+03 -8.35576189e+03 -8.28349336e+03 -8.21101468e+03\n",
      " -8.13833374e+03 -8.06545844e+03 -7.99239673e+03 -7.91915655e+03\n",
      " -7.84574588e+03 -7.77217271e+03 -7.69844504e+03 -7.62457090e+03\n",
      " -7.55055834e+03 -7.47641541e+03 -7.40215018e+03 -7.32777073e+03\n",
      " -7.25328516e+03 -7.17870158e+03 -7.10402812e+03 -7.02927289e+03\n",
      " -6.95444403e+03 -6.87954969e+03 -6.80459802e+03 -6.72959719e+03\n",
      " -6.65455535e+03 -6.57948067e+03 -6.50438134e+03 -6.42926551e+03\n",
      " -6.35414138e+03 -6.27901711e+03 -6.20390089e+03 -6.12880089e+03\n",
      " -6.05372529e+03 -5.97868227e+03 -5.90367998e+03 -5.82872659e+03\n",
      " -5.75383027e+03 -5.67899918e+03 -5.60424144e+03 -5.52956520e+03\n",
      " -5.45497860e+03 -5.38048975e+03 -5.30610676e+03 -5.23183772e+03\n",
      " -5.15769072e+03 -5.08367384e+03 -5.00979513e+03 -4.93606262e+03\n",
      " -4.86248435e+03 -4.78906833e+03 -4.71582254e+03 -4.64275496e+03\n",
      " -4.56987354e+03 -4.49718621e+03 -4.42470089e+03 -4.35242546e+03\n",
      " -4.28036778e+03 -4.20853570e+03 -4.13693704e+03 -4.06557958e+03\n",
      " -3.99447109e+03 -3.92361931e+03 -3.85303194e+03 -3.78271667e+03\n",
      " -3.71268115e+03 -3.64293298e+03 -3.57347976e+03 -3.50432905e+03\n",
      " -3.43548836e+03 -3.36696518e+03 -3.29876697e+03 -3.23090113e+03\n",
      " -3.16337505e+03 -3.09619607e+03 -3.02937149e+03 -2.96290857e+03\n",
      " -2.89681455e+03 -2.83109660e+03 -2.76576186e+03 -2.70081744e+03\n",
      " -2.63627039e+03 -2.57212772e+03 -2.50839640e+03 -2.44508336e+03\n",
      " -2.38219546e+03 -2.31973954e+03 -2.25772238e+03 -2.19615071e+03\n",
      " -2.13503121e+03 -2.07437052e+03 -2.01417523e+03 -1.95445185e+03\n",
      " -1.89520688e+03 -1.83644673e+03 -1.77817779e+03 -1.72040636e+03\n",
      " -1.66313871e+03 -1.60638106e+03 -1.55013954e+03 -1.49442026e+03\n",
      " -1.43922925e+03 -1.38457249e+03 -1.33045590e+03 -1.27688533e+03\n",
      " -1.22386660e+03 -1.17140543e+03 -1.11950750e+03 -1.06817843e+03\n",
      " -1.01742377e+03 -9.67249000e+02 -9.17659553e+02 -8.68660788e+02\n",
      " -8.20257999e+02 -7.72456411e+02 -7.25261191e+02 -6.78677433e+02\n",
      " -6.32710162e+02 -5.87364343e+02 -5.42644865e+02 -4.98556549e+02\n",
      " -4.55104153e+02 -4.12292356e+02 -3.70125770e+02 -3.28608940e+02\n",
      " -2.87746333e+02 -2.47542347e+02 -2.08001310e+02 -1.69127472e+02\n",
      " -1.30925012e+02 -9.33980371e+01 -5.65505778e+01 -2.03865887e+01\n",
      "  1.50900460e+01  4.98755217e+01  8.39661101e+01  1.17358155e+02\n",
      "  1.50048080e+02  1.82032386e+02  2.13307651e+02  2.43870528e+02\n",
      "  2.73717751e+02  3.02846132e+02  3.31252561e+02  3.58934008e+02\n",
      "  3.85887521e+02  4.12110229e+02  4.37599341e+02  4.62352144e+02\n",
      "  4.86366009e+02  5.09638385e+02  5.32166802e+02  5.53948873e+02\n",
      "  5.74982293e+02  5.95264835e+02  6.14794357e+02  6.33568800e+02\n",
      "  6.51586184e+02  6.68844614e+02  6.85342278e+02  7.01077444e+02\n",
      "  7.16048466e+02  7.30253780e+02  7.43691905e+02  7.56361444e+02\n",
      "  7.68261085e+02  7.79389596e+02  7.89745832e+02  7.99328731e+02\n",
      "  8.08137314e+02  8.16170688e+02  8.23428043e+02  8.29908653e+02\n",
      "  8.35611876e+02  8.40537155e+02  8.44684018e+02  8.48052076e+02\n",
      "  8.50641024e+02  8.52450643e+02  8.53480798e+02  8.53731437e+02\n",
      "  8.53202593e+02  8.51894385e+02  8.49807013e+02  8.46940765e+02\n",
      "  8.43296010e+02  8.38873202e+02  8.33672880e+02  8.27695666e+02\n",
      "  8.20942266e+02  8.13413470e+02  8.05110152e+02  7.96033267e+02\n",
      "  7.86183859e+02  7.75563048e+02  7.64172043e+02  7.52012133e+02\n",
      "  7.39084692e+02  7.25391173e+02  7.10933115e+02  6.95712138e+02\n",
      "  6.79729943e+02  6.62988317e+02  6.45489123e+02  6.27234307e+02\n",
      "  6.08225902e+02  5.88466013e+02  5.67956832e+02  5.46700630e+02\n",
      "  5.24699758e+02  5.01956646e+02  4.78473804e+02  4.54253825e+02\n",
      "  4.29299376e+02  4.03613206e+02  3.77198142e+02  3.50057087e+02\n",
      "  3.22193027e+02  2.93609020e+02  2.64308203e+02  2.34293793e+02\n",
      "  2.03569081e+02  1.72137431e+02  1.40002290e+02  1.07167175e+02\n",
      "  7.36356779e+01  3.94114706e+01  4.49829404e+00 -3.11000370e+01\n",
      " -6.73796293e+01 -1.04336521e+02 -1.41966679e+02 -1.80265992e+02\n",
      " -2.19230281e+02 -2.58855298e+02 -2.99136717e+02 -3.40070147e+02\n",
      " -3.81651130e+02 -4.23875129e+02 -4.66737546e+02 -5.10233713e+02\n",
      " -5.54358891e+02 -5.99108276e+02 -6.44476999e+02 -6.90460119e+02\n",
      " -7.37052634e+02 -7.84249476e+02 -8.32045508e+02 -8.80435533e+02\n",
      " -9.29414292e+02 -9.78976455e+02 -1.02911664e+03 -1.07982939e+03\n",
      " -1.13110920e+03 -1.18295049e+03 -1.23534763e+03 -1.28829494e+03\n",
      " -1.34178665e+03 -1.39581696e+03 -1.45038000e+03 -1.50546985e+03\n",
      " -1.56108052e+03 -1.61720597e+03 -1.67384012e+03 -1.73097682e+03\n",
      " -1.78860985e+03 -1.84673297e+03 -1.90533988e+03 -1.96442420e+03\n",
      " -2.02397952e+03 -2.08399940e+03 -2.14447730e+03 -2.20540668e+03\n",
      " -2.26678091e+03 -2.32859335e+03 -2.39083728e+03 -2.45350596e+03\n",
      " -2.51659258e+03 -2.58009030e+03 -2.64399224e+03 -2.70829146e+03\n",
      " -2.77298099e+03 -2.83805382e+03 -2.90350287e+03 -2.96932107e+03\n",
      " -3.03550126e+03 -3.10203628e+03 -3.16891890e+03 -3.23614188e+03\n",
      " -3.30369791e+03 -3.37157969e+03 -3.43977984e+03 -3.50829097e+03\n",
      " -3.57710565e+03 -3.64621641e+03 -3.71561577e+03 -3.78529620e+03\n",
      " -3.85525014e+03 -3.92547001e+03 -3.99594819e+03 -4.06667704e+03\n",
      " -4.13764889e+03 -4.20885605e+03 -4.28029079e+03 -4.35194537e+03\n",
      " -4.42381201e+03 -4.49588294e+03 -4.56815032e+03 -4.64060633e+03\n",
      " -4.71324311e+03 -4.78605278e+03 -4.85902745e+03 -4.93215921e+03\n",
      " -5.00544013e+03 -5.07886226e+03 -5.15241765e+03 -5.22609831e+03\n",
      " -5.29989626e+03 -5.37380351e+03 -5.44781203e+03 -5.52191381e+03\n",
      " -5.59610081e+03 -5.67036498e+03 -5.74469829e+03 -5.81909268e+03\n",
      " -5.89354007e+03 -5.96803240e+03 -6.04256160e+03 -6.11711958e+03\n",
      " -6.19169828e+03 -6.26628961e+03 -6.34088548e+03 -6.41547781e+03\n",
      " -6.49005853e+03 -6.56461954e+03 -6.63915278e+03 -6.71365017e+03\n",
      " -6.78810363e+03 -6.86250512e+03 -6.93684656e+03 -7.01111990e+03\n",
      " -7.08531712e+03 -7.15943016e+03 -7.23345101e+03 -7.30737166e+03\n",
      " -7.38118410e+03 -7.45488034e+03 -7.52845241e+03 -7.60189235e+03\n",
      " -7.67519221e+03 -7.74834407e+03 -7.82134001e+03 -7.89417214e+03\n",
      " -7.96683257e+03 -8.03931346e+03 -8.11160698e+03 -8.18370530e+03\n",
      " -8.25560063e+03 -8.32728521e+03 -8.39875130e+03 -8.46999117e+03\n",
      " -8.54099713e+03 -8.61176152e+03 -8.68227669e+03 -8.75253504e+03\n",
      " -8.82252899e+03 -8.89225098e+03 -8.96169350e+03 -9.03084905e+03\n",
      " -9.09971019e+03 -9.16826948e+03 -9.23651956e+03 -9.30445305e+03\n",
      " -9.37206265e+03 -9.43934108e+03 -9.50628110e+03 -9.57287550e+03\n",
      " -9.63911713e+03 -9.70499885e+03 -9.77051359e+03 -9.83565430e+03\n",
      " -9.90041399e+03 -9.96478571e+03 -1.00287625e+04 -1.00923376e+04\n",
      " -1.01555041e+04 -1.02182553e+04 -1.02805844e+04 -1.03424847e+04\n",
      " -1.04039497e+04 -1.04649727e+04 -1.05255472e+04 -1.05856667e+04\n",
      " -1.06453248e+04 -1.07045152e+04 -1.07632315e+04 -1.08214674e+04\n",
      " -1.08792167e+04 -1.09364733e+04 -1.09932310e+04 -1.10494838e+04\n",
      " -1.11052258e+04 -1.11604510e+04 -1.12151534e+04 -1.12693274e+04\n",
      " -1.13229671e+04 -1.13760668e+04 -1.14286210e+04 -1.14806240e+04\n",
      " -1.15320703e+04 -1.15829545e+04 -1.16332712e+04 -1.16830151e+04\n",
      " -1.17321809e+04 -1.17807634e+04 -1.18287576e+04 -1.18761582e+04\n",
      " -1.19229604e+04 -1.19691593e+04 -1.20147498e+04 -1.20597274e+04\n",
      " -1.21040872e+04 -1.21478246e+04 -1.21909350e+04 -1.22334139e+04\n",
      " -1.22752569e+04 -1.23164596e+04 -1.23570176e+04 -1.23969268e+04\n",
      " -1.24361830e+04 -1.24747822e+04 -1.25127202e+04 -1.25499932e+04\n",
      " -1.25865974e+04 -1.26225288e+04 -1.26577839e+04 -1.26923590e+04\n",
      " -1.27262504e+04 -1.27594548e+04 -1.27919687e+04 -1.28237888e+04\n",
      " -1.28549118e+04 -1.28853346e+04 -1.29150539e+04 -1.29440670e+04\n",
      " -1.29723706e+04 -1.29999621e+04 -1.30268386e+04 -1.30529974e+04\n",
      " -1.30784359e+04 -1.31031514e+04 -1.31271416e+04 -1.31504041e+04]\n"
     ]
    }
   ],
   "source": [
    "def get_related_spherical_coordinates(ref_point_coordinate, target_coordinates):\n",
    "    dr_list = target_coordinates - ref_point_coordinate\n",
    "#     print(dr_list)\n",
    "    e1 = ref_point_coordinate\n",
    "    e1 = e1 / np.linalg.norm(e1)\n",
    "    e2 = np.cross([0, 0, 1], ref_point_coordinate)\n",
    "    e2 = e2 / np.linalg.norm(e2)\n",
    "    e3 = np.cross(e1, e2)\n",
    "    e3 = e3 / np.linalg.norm(e3)\n",
    "#     print(e1, e2, e3)\n",
    "\n",
    "    coor_e1 = np.dot(dr_list, e1)\n",
    "    coor_e2 = np.dot(dr_list, e2)\n",
    "    coor_e3 = np.dot(dr_list, e3)\n",
    "    length = np.linalg.norm(dr_list, axis=1)\n",
    "    print(coor_e1)\n",
    "    \n",
    "    lam = np.arcsin(coor_e3 / length) * 180 / np.pi\n",
    "    phi = -np.arctan(coor_e2 / coor_e1) * 180 / np.pi\n",
    "    return phi, lam, coor_e1\n",
    "\n",
    "phis, lams, coor_e1 = get_related_spherical_coordinates(lk_coordinate, earth_sk_trajectory)"
   ]
  },
  {
   "cell_type": "code",
   "execution_count": 75,
   "metadata": {
    "scrolled": false
   },
   "outputs": [
    {
     "data": {
      "image/png": "[encoded data removed]",
      "text/plain": [
       "<Figure size 432x288 with 1 Axes>"
      ]
     },
     "metadata": {
      "needs_background": "light"
     },
     "output_type": "display_data"
    }
   ],
   "source": [
    "plus_indexes = coor_e1 > 0\n",
    "\n",
    "plt.xlim(-90, 90)\n",
    "plt.ylim(-90, 90)\n",
    "\n",
    "curve_x = []\n",
    "curve_y = []\n",
    "\n",
    "# for phi, lam, c_e1 in zip(phis, lams, coor_e1):\n",
    "#     if c_e1 <0:\n",
    "#         curve_x = []\n",
    "#         curve_y = []\n",
    "#     else:\n",
    "#         curve_x.append(phi)\n",
    "#         curve_y.append(lam)\n",
    "#         plt.xlim(-90, 90)\n",
    "#         plt.ylim(-90, 90)\n",
    "#         plt.plot(curve_x, curve_y)\n",
    "#         plt.show()\n",
    "# # plt.plot(phis[plus_indexes], lams[plus_indexes])\n",
    "# # plt.show()\n",
    "\n",
    "# print(coor_e1)"
   ]
  },
  {
   "cell_type": "code",
   "execution_count": 74,
   "metadata": {},
   "outputs": [
    {
     "data": {
      "application/vnd.plotly.v1+json": {
       "config": {
        "plotlyServerURL": "https://plot.ly"
       },
       "data": [
        {
         "text": [
          "2020-09-08 09:22:48+00:00",
          "2020-09-08 09:22:58+00:00",
          "2020-09-08 09:23:08+00:00",
          "2020-09-08 09:23:18+00:00",
          "2020-09-08 09:23:28+00:00",
          "2020-09-08 09:23:38+00:00",
          "2020-09-08 09:23:48+00:00",
          "2020-09-08 09:23:58+00:00",
          "2020-09-08 09:24:08+00:00",
          "2020-09-08 09:24:18+00:00",
          "2020-09-08 09:24:28+00:00",
          "2020-09-08 09:24:38+00:00",
          "2020-09-08 09:24:48+00:00",
          "2020-09-08 09:24:58+00:00",
          "2020-09-08 09:25:08+00:00",
          "2020-09-08 09:25:18+00:00",
          "2020-09-08 09:25:28+00:00",
          "2020-09-08 09:25:38+00:00",
          "2020-09-08 09:25:48+00:00",
          "2020-09-08 09:25:58+00:00",
          "2020-09-08 09:26:08+00:00",
          "2020-09-08 09:26:18+00:00",
          "2020-09-08 09:26:28+00:00",
          "2020-09-08 09:26:38+00:00",
          "2020-09-08 09:26:48+00:00",
          "2020-09-08 09:26:58+00:00",
          "2020-09-08 09:27:08+00:00",
          "2020-09-08 09:27:18+00:00",
          "2020-09-08 09:27:28+00:00",
          "2020-09-08 09:27:38+00:00",
          "2020-09-08 09:27:48+00:00",
          "2020-09-08 09:27:58+00:00",
          "2020-09-08 09:28:08+00:00",
          "2020-09-08 09:28:18+00:00",
          "2020-09-08 09:28:28+00:00",
          "2020-09-08 09:28:38+00:00",
          "2020-09-08 09:28:48+00:00",
          "2020-09-08 09:28:58+00:00",
          "2020-09-08 09:29:08+00:00",
          "2020-09-08 09:29:18+00:00",
          "2020-09-08 09:29:28+00:00",
          "2020-09-08 09:29:38+00:00",
          "2020-09-08 09:29:48+00:00",
          "2020-09-08 09:29:58+00:00",
          "2020-09-08 09:30:08+00:00",
          "2020-09-08 09:30:18+00:00",
          "2020-09-08 09:30:28+00:00",
          "2020-09-08 09:30:38+00:00",
          "2020-09-08 09:30:48+00:00",
          "2020-09-08 09:30:58+00:00",
          "2020-09-08 09:31:08+00:00",
          "2020-09-08 09:31:18+00:00",
          "2020-09-08 09:31:28+00:00",
          "2020-09-08 09:31:38+00:00",
          "2020-09-08 09:31:48+00:00",
          "2020-09-08 09:31:58+00:00",
          "2020-09-08 09:32:08+00:00",
          "2020-09-08 09:32:18+00:00",
          "2020-09-08 09:32:28+00:00",
          "2020-09-08 09:32:38+00:00",
          "2020-09-08 09:32:48+00:00",
          "2020-09-08 09:32:58+00:00",
          "2020-09-08 09:33:08+00:00",
          "2020-09-08 09:33:18+00:00",
          "2020-09-08 09:33:28+00:00",
          "2020-09-08 09:33:38+00:00",
          "2020-09-08 09:33:48+00:00",
          "2020-09-08 09:33:58+00:00",
          "2020-09-08 09:34:08+00:00",
          "2020-09-08 09:34:18+00:00",
          "2020-09-08 09:34:28+00:00",
          "2020-09-08 09:34:38+00:00",
          "2020-09-08 09:34:48+00:00",
          "2020-09-08 09:34:58+00:00",
          "2020-09-08 09:35:08+00:00",
          "2020-09-08 09:35:18+00:00",
          "2020-09-08 09:35:28+00:00",
          "2020-09-08 09:35:38+00:00",
          "2020-09-08 09:35:48+00:00",
          "2020-09-08 09:35:58+00:00",
          "2020-09-08 09:36:08+00:00",
          "2020-09-08 09:36:18+00:00",
          "2020-09-08 09:36:28+00:00",
          "2020-09-08 09:36:38+00:00",
          "2020-09-08 09:36:48+00:00",
          "2020-09-08 09:36:58+00:00",
          "2020-09-08 09:37:08+00:00",
          "2020-09-08 09:37:18+00:00",
          "2020-09-08 09:37:28+00:00",
          "2020-09-08 09:37:38+00:00",
          "2020-09-08 09:37:48+00:00",
          "2020-09-08 09:37:58+00:00",
          "2020-09-08 09:38:08+00:00",
          "2020-09-08 09:38:18+00:00",
          "2020-09-08 09:38:28+00:00",
          "2020-09-08 09:38:38+00:00",
          "2020-09-08 09:38:48+00:00",
          "2020-09-08 09:38:58+00:00",
          "2020-09-08 09:39:08+00:00",
          "2020-09-08 09:39:18+00:00",
          "2020-09-08 09:39:28+00:00",
          "2020-09-08 09:39:38+00:00",
          "2020-09-08 09:39:48+00:00",
          "2020-09-08 09:39:58+00:00",
          "2020-09-08 09:40:08+00:00",
          "2020-09-08 09:40:18+00:00",
          "2020-09-08 09:40:28+00:00",
          "2020-09-08 09:40:38+00:00",
          "2020-09-08 09:40:48+00:00",
          "2020-09-08 09:40:58+00:00",
          "2020-09-08 09:41:08+00:00",
          "2020-09-08 09:41:18+00:00",
          "2020-09-08 09:41:28+00:00",
          "2020-09-08 09:41:38+00:00",
          "2020-09-08 09:41:48+00:00",
          "2020-09-08 09:41:58+00:00",
          "2020-09-08 09:42:08+00:00",
          "2020-09-08 09:42:18+00:00",
          "2020-09-08 09:42:28+00:00",
          "2020-09-08 09:42:38+00:00",
          "2020-09-08 09:42:48+00:00",
          "2020-09-08 09:42:58+00:00",
          "2020-09-08 09:43:08+00:00",
          "2020-09-08 09:43:18+00:00",
          "2020-09-08 09:43:28+00:00",
          "2020-09-08 09:43:38+00:00",
          "2020-09-08 09:43:48+00:00",
          "2020-09-08 09:43:58+00:00",
          "2020-09-08 09:44:08+00:00",
          "2020-09-08 09:44:18+00:00",
          "2020-09-08 09:44:28+00:00",
          "2020-09-08 09:44:38+00:00",
          "2020-09-08 09:44:48+00:00",
          "2020-09-08 09:44:58+00:00",
          "2020-09-08 09:45:08+00:00",
          "2020-09-08 09:45:18+00:00",
          "2020-09-08 09:45:28+00:00",
          "2020-09-08 09:45:38+00:00",
          "2020-09-08 09:45:48+00:00",
          "2020-09-08 09:45:58+00:00",
          "2020-09-08 09:46:08+00:00",
          "2020-09-08 09:46:18+00:00",
          "2020-09-08 09:46:28+00:00",
          "2020-09-08 09:46:38+00:00",
          "2020-09-08 09:46:48+00:00",
          "2020-09-08 09:46:58+00:00",
          "2020-09-08 09:47:08+00:00",
          "2020-09-08 09:47:18+00:00",
          "2020-09-08 09:47:28+00:00",
          "2020-09-08 09:47:38+00:00",
          "2020-09-08 09:47:48+00:00",
          "2020-09-08 09:47:58+00:00",
          "2020-09-08 09:48:08+00:00",
          "2020-09-08 09:48:18+00:00",
          "2020-09-08 09:48:28+00:00",
          "2020-09-08 09:48:38+00:00",
          "2020-09-08 09:48:48+00:00",
          "2020-09-08 09:48:58+00:00",
          "2020-09-08 09:49:08+00:00",
          "2020-09-08 09:49:18+00:00",
          "2020-09-08 09:49:28+00:00",
          "2020-09-08 09:49:38+00:00",
          "2020-09-08 09:49:48+00:00",
          "2020-09-08 09:49:58+00:00",
          "2020-09-08 09:50:08+00:00",
          "2020-09-08 09:50:18+00:00",
          "2020-09-08 09:50:28+00:00",
          "2020-09-08 09:50:38+00:00",
          "2020-09-08 09:50:48+00:00",
          "2020-09-08 09:50:58+00:00",
          "2020-09-08 09:51:08+00:00",
          "2020-09-08 09:51:18+00:00",
          "2020-09-08 09:51:28+00:00",
          "2020-09-08 09:51:38+00:00",
          "2020-09-08 09:51:48+00:00",
          "2020-09-08 09:51:58+00:00",
          "2020-09-08 09:52:08+00:00",
          "2020-09-08 09:52:18+00:00",
          "2020-09-08 09:52:28+00:00",
          "2020-09-08 09:52:38+00:00",
          "2020-09-08 09:52:48+00:00",
          "2020-09-08 09:52:58+00:00",
          "2020-09-08 09:53:08+00:00",
          "2020-09-08 09:53:18+00:00",
          "2020-09-08 09:53:28+00:00",
          "2020-09-08 09:53:38+00:00",
          "2020-09-08 09:53:48+00:00",
          "2020-09-08 09:53:58+00:00",
          "2020-09-08 09:54:08+00:00",
          "2020-09-08 09:54:18+00:00",
          "2020-09-08 09:54:28+00:00",
          "2020-09-08 09:54:38+00:00",
          "2020-09-08 09:54:48+00:00",
          "2020-09-08 09:54:58+00:00",
          "2020-09-08 09:55:08+00:00",
          "2020-09-08 09:55:18+00:00",
          "2020-09-08 09:55:28+00:00",
          "2020-09-08 09:55:38+00:00",
          "2020-09-08 09:55:48+00:00",
          "2020-09-08 09:55:58+00:00",
          "2020-09-08 09:56:08+00:00",
          "2020-09-08 09:56:18+00:00",
          "2020-09-08 09:56:28+00:00",
          "2020-09-08 09:56:38+00:00",
          "2020-09-08 09:56:48+00:00",
          "2020-09-08 09:56:58+00:00",
          "2020-09-08 09:57:08+00:00",
          "2020-09-08 09:57:18+00:00",
          "2020-09-08 09:57:28+00:00",
          "2020-09-08 09:57:38+00:00",
          "2020-09-08 09:57:48+00:00",
          "2020-09-08 09:57:58+00:00",
          "2020-09-08 09:58:08+00:00",
          "2020-09-08 09:58:18+00:00",
          "2020-09-08 09:58:28+00:00",
          "2020-09-08 09:58:38+00:00",
          "2020-09-08 09:58:48+00:00",
          "2020-09-08 09:58:58+00:00",
          "2020-09-08 09:59:08+00:00",
          "2020-09-08 09:59:18+00:00",
          "2020-09-08 09:59:28+00:00",
          "2020-09-08 09:59:38+00:00",
          "2020-09-08 09:59:48+00:00",
          "2020-09-08 09:59:58+00:00",
          "2020-09-08 10:00:08+00:00",
          "2020-09-08 10:00:18+00:00",
          "2020-09-08 10:00:28+00:00",
          "2020-09-08 10:00:38+00:00",
          "2020-09-08 10:00:48+00:00",
          "2020-09-08 10:00:58+00:00",
          "2020-09-08 10:01:08+00:00",
          "2020-09-08 10:01:18+00:00",
          "2020-09-08 10:01:28+00:00",
          "2020-09-08 10:01:38+00:00",
          "2020-09-08 10:01:48+00:00",
          "2020-09-08 10:01:58+00:00",
          "2020-09-08 10:02:08+00:00",
          "2020-09-08 10:02:18+00:00",
          "2020-09-08 10:02:28+00:00",
          "2020-09-08 10:02:38+00:00",
          "2020-09-08 10:02:48+00:00",
          "2020-09-08 10:02:58+00:00",
          "2020-09-08 10:03:08+00:00",
          "2020-09-08 10:03:18+00:00",
          "2020-09-08 10:03:28+00:00",
          "2020-09-08 10:03:38+00:00",
          "2020-09-08 10:03:48+00:00",
          "2020-09-08 10:03:58+00:00",
          "2020-09-08 10:04:08+00:00",
          "2020-09-08 10:04:18+00:00",
          "2020-09-08 10:04:28+00:00",
          "2020-09-08 10:04:38+00:00",
          "2020-09-08 10:04:48+00:00",
          "2020-09-08 10:04:58+00:00",
          "2020-09-08 10:05:08+00:00",
          "2020-09-08 10:05:18+00:00",
          "2020-09-08 10:05:28+00:00",
          "2020-09-08 10:05:38+00:00",
          "2020-09-08 10:05:48+00:00",
          "2020-09-08 10:05:58+00:00",
          "2020-09-08 10:06:08+00:00",
          "2020-09-08 10:06:18+00:00",
          "2020-09-08 10:06:28+00:00",
          "2020-09-08 10:06:38+00:00",
          "2020-09-08 10:06:48+00:00",
          "2020-09-08 10:06:58+00:00",
          "2020-09-08 10:07:08+00:00",
          "2020-09-08 10:07:18+00:00",
          "2020-09-08 10:07:28+00:00",
          "2020-09-08 10:07:38+00:00",
          "2020-09-08 10:07:48+00:00",
          "2020-09-08 10:07:58+00:00",
          "2020-09-08 10:08:08+00:00",
          "2020-09-08 10:08:18+00:00",
          "2020-09-08 10:08:28+00:00",
          "2020-09-08 10:08:38+00:00",
          "2020-09-08 10:08:48+00:00",
          "2020-09-08 10:08:58+00:00",
          "2020-09-08 10:09:08+00:00",
          "2020-09-08 10:09:18+00:00",
          "2020-09-08 10:09:28+00:00",
          "2020-09-08 10:09:38+00:00",
          "2020-09-08 10:09:48+00:00",
          "2020-09-08 10:09:58+00:00",
          "2020-09-08 10:10:08+00:00",
          "2020-09-08 10:10:18+00:00",
          "2020-09-08 10:10:28+00:00",
          "2020-09-08 10:10:38+00:00",
          "2020-09-08 10:10:48+00:00",
          "2020-09-08 10:10:58+00:00",
          "2020-09-08 10:11:08+00:00",
          "2020-09-08 10:11:18+00:00",
          "2020-09-08 10:11:28+00:00",
          "2020-09-08 10:11:38+00:00",
          "2020-09-08 10:11:48+00:00",
          "2020-09-08 10:11:58+00:00",
          "2020-09-08 10:12:08+00:00",
          "2020-09-08 10:12:18+00:00",
          "2020-09-08 10:12:28+00:00",
          "2020-09-08 10:12:38+00:00",
          "2020-09-08 10:12:48+00:00",
          "2020-09-08 10:12:58+00:00",
          "2020-09-08 10:13:08+00:00",
          "2020-09-08 10:13:18+00:00",
          "2020-09-08 10:13:28+00:00",
          "2020-09-08 10:13:38+00:00",
          "2020-09-08 10:13:48+00:00",
          "2020-09-08 10:13:58+00:00",
          "2020-09-08 10:14:08+00:00",
          "2020-09-08 10:14:18+00:00",
          "2020-09-08 10:14:28+00:00",
          "2020-09-08 10:14:38+00:00",
          "2020-09-08 10:14:48+00:00",
          "2020-09-08 10:14:58+00:00",
          "2020-09-08 10:15:08+00:00",
          "2020-09-08 10:15:18+00:00",
          "2020-09-08 10:15:28+00:00",
          "2020-09-08 10:15:38+00:00",
          "2020-09-08 10:15:48+00:00",
          "2020-09-08 10:15:58+00:00",
          "2020-09-08 10:16:08+00:00",
          "2020-09-08 10:16:18+00:00",
          "2020-09-08 10:16:28+00:00",
          "2020-09-08 10:16:38+00:00",
          "2020-09-08 10:16:48+00:00",
          "2020-09-08 10:16:58+00:00",
          "2020-09-08 10:17:08+00:00",
          "2020-09-08 10:17:18+00:00",
          "2020-09-08 10:17:28+00:00",
          "2020-09-08 10:17:38+00:00",
          "2020-09-08 10:17:48+00:00",
          "2020-09-08 10:17:58+00:00",
          "2020-09-08 10:18:08+00:00",
          "2020-09-08 10:18:18+00:00",
          "2020-09-08 10:18:28+00:00",
          "2020-09-08 10:18:38+00:00",
          "2020-09-08 10:18:48+00:00",
          "2020-09-08 10:18:58+00:00",
          "2020-09-08 10:19:08+00:00",
          "2020-09-08 10:19:18+00:00",
          "2020-09-08 10:19:28+00:00",
          "2020-09-08 10:19:38+00:00",
          "2020-09-08 10:19:48+00:00",
          "2020-09-08 10:19:58+00:00",
          "2020-09-08 10:20:08+00:00",
          "2020-09-08 10:20:18+00:00",
          "2020-09-08 10:20:28+00:00",
          "2020-09-08 10:20:38+00:00",
          "2020-09-08 10:20:48+00:00",
          "2020-09-08 10:20:58+00:00",
          "2020-09-08 10:21:08+00:00",
          "2020-09-08 10:21:18+00:00",
          "2020-09-08 10:21:28+00:00",
          "2020-09-08 10:21:38+00:00",
          "2020-09-08 10:21:48+00:00",
          "2020-09-08 10:21:58+00:00",
          "2020-09-08 10:22:08+00:00",
          "2020-09-08 10:22:18+00:00",
          "2020-09-08 10:22:28+00:00",
          "2020-09-08 10:22:38+00:00",
          "2020-09-08 10:22:48+00:00",
          "2020-09-08 10:22:58+00:00",
          "2020-09-08 10:23:08+00:00",
          "2020-09-08 10:23:18+00:00",
          "2020-09-08 10:23:28+00:00",
          "2020-09-08 10:23:38+00:00",
          "2020-09-08 10:23:48+00:00",
          "2020-09-08 10:23:58+00:00",
          "2020-09-08 10:24:08+00:00",
          "2020-09-08 10:24:18+00:00",
          "2020-09-08 10:24:28+00:00",
          "2020-09-08 10:24:38+00:00",
          "2020-09-08 10:24:48+00:00",
          "2020-09-08 10:24:58+00:00",
          "2020-09-08 10:25:08+00:00",
          "2020-09-08 10:25:18+00:00",
          "2020-09-08 10:25:28+00:00",
          "2020-09-08 10:25:38+00:00",
          "2020-09-08 10:25:48+00:00",
          "2020-09-08 10:25:58+00:00",
          "2020-09-08 10:26:08+00:00",
          "2020-09-08 10:26:18+00:00",
          "2020-09-08 10:26:28+00:00",
          "2020-09-08 10:26:38+00:00",
          "2020-09-08 10:26:48+00:00",
          "2020-09-08 10:26:58+00:00",
          "2020-09-08 10:27:08+00:00",
          "2020-09-08 10:27:18+00:00",
          "2020-09-08 10:27:28+00:00",
          "2020-09-08 10:27:38+00:00",
          "2020-09-08 10:27:48+00:00",
          "2020-09-08 10:27:58+00:00",
          "2020-09-08 10:28:08+00:00",
          "2020-09-08 10:28:18+00:00",
          "2020-09-08 10:28:28+00:00",
          "2020-09-08 10:28:38+00:00",
          "2020-09-08 10:28:48+00:00",
          "2020-09-08 10:28:58+00:00",
          "2020-09-08 10:29:08+00:00",
          "2020-09-08 10:29:18+00:00",
          "2020-09-08 10:29:28+00:00",
          "2020-09-08 10:29:38+00:00",
          "2020-09-08 10:29:48+00:00",
          "2020-09-08 10:29:58+00:00",
          "2020-09-08 10:30:08+00:00",
          "2020-09-08 10:30:18+00:00",
          "2020-09-08 10:30:28+00:00",
          "2020-09-08 10:30:38+00:00",
          "2020-09-08 10:30:48+00:00",
          "2020-09-08 10:30:58+00:00",
          "2020-09-08 10:31:08+00:00",
          "2020-09-08 10:31:18+00:00",
          "2020-09-08 10:31:28+00:00",
          "2020-09-08 10:31:38+00:00",
          "2020-09-08 10:31:48+00:00",
          "2020-09-08 10:31:58+00:00",
          "2020-09-08 10:32:08+00:00",
          "2020-09-08 10:32:18+00:00",
          "2020-09-08 10:32:28+00:00",
          "2020-09-08 10:32:38+00:00",
          "2020-09-08 10:32:48+00:00",
          "2020-09-08 10:32:58+00:00",
          "2020-09-08 10:33:08+00:00",
          "2020-09-08 10:33:18+00:00",
          "2020-09-08 10:33:28+00:00",
          "2020-09-08 10:33:38+00:00",
          "2020-09-08 10:33:48+00:00",
          "2020-09-08 10:33:58+00:00",
          "2020-09-08 10:34:08+00:00",
          "2020-09-08 10:34:18+00:00",
          "2020-09-08 10:34:28+00:00",
          "2020-09-08 10:34:38+00:00",
          "2020-09-08 10:34:48+00:00",
          "2020-09-08 10:34:58+00:00",
          "2020-09-08 10:35:08+00:00",
          "2020-09-08 10:35:18+00:00",
          "2020-09-08 10:35:28+00:00",
          "2020-09-08 10:35:38+00:00",
          "2020-09-08 10:35:48+00:00",
          "2020-09-08 10:35:58+00:00",
          "2020-09-08 10:36:08+00:00",
          "2020-09-08 10:36:18+00:00",
          "2020-09-08 10:36:28+00:00",
          "2020-09-08 10:36:38+00:00",
          "2020-09-08 10:36:48+00:00",
          "2020-09-08 10:36:58+00:00",
          "2020-09-08 10:37:08+00:00",
          "2020-09-08 10:37:18+00:00",
          "2020-09-08 10:37:28+00:00",
          "2020-09-08 10:37:38+00:00",
          "2020-09-08 10:37:48+00:00",
          "2020-09-08 10:37:58+00:00",
          "2020-09-08 10:38:08+00:00",
          "2020-09-08 10:38:18+00:00",
          "2020-09-08 10:38:28+00:00",
          "2020-09-08 10:38:38+00:00",
          "2020-09-08 10:38:48+00:00",
          "2020-09-08 10:38:58+00:00",
          "2020-09-08 10:39:08+00:00",
          "2020-09-08 10:39:18+00:00",
          "2020-09-08 10:39:28+00:00",
          "2020-09-08 10:39:38+00:00",
          "2020-09-08 10:39:48+00:00",
          "2020-09-08 10:39:58+00:00",
          "2020-09-08 10:40:08+00:00",
          "2020-09-08 10:40:18+00:00",
          "2020-09-08 10:40:28+00:00",
          "2020-09-08 10:40:38+00:00",
          "2020-09-08 10:40:48+00:00",
          "2020-09-08 10:40:58+00:00",
          "2020-09-08 10:41:08+00:00",
          "2020-09-08 10:41:18+00:00",
          "2020-09-08 10:41:28+00:00",
          "2020-09-08 10:41:38+00:00",
          "2020-09-08 10:41:48+00:00",
          "2020-09-08 10:41:58+00:00",
          "2020-09-08 10:42:08+00:00",
          "2020-09-08 10:42:18+00:00",
          "2020-09-08 10:42:28+00:00",
          "2020-09-08 10:42:38+00:00",
          "2020-09-08 10:42:48+00:00",
          "2020-09-08 10:42:58+00:00",
          "2020-09-08 10:43:08+00:00",
          "2020-09-08 10:43:18+00:00",
          "2020-09-08 10:43:28+00:00",
          "2020-09-08 10:43:38+00:00",
          "2020-09-08 10:43:48+00:00",
          "2020-09-08 10:43:58+00:00",
          "2020-09-08 10:44:08+00:00",
          "2020-09-08 10:44:18+00:00",
          "2020-09-08 10:44:28+00:00",
          "2020-09-08 10:44:38+00:00",
          "2020-09-08 10:44:48+00:00",
          "2020-09-08 10:44:58+00:00",
          "2020-09-08 10:45:08+00:00",
          "2020-09-08 10:45:18+00:00",
          "2020-09-08 10:45:28+00:00",
          "2020-09-08 10:45:38+00:00",
          "2020-09-08 10:45:48+00:00",
          "2020-09-08 10:45:58+00:00",
          "2020-09-08 10:46:08+00:00",
          "2020-09-08 10:46:18+00:00",
          "2020-09-08 10:46:28+00:00",
          "2020-09-08 10:46:38+00:00",
          "2020-09-08 10:46:48+00:00",
          "2020-09-08 10:46:58+00:00",
          "2020-09-08 10:47:08+00:00",
          "2020-09-08 10:47:18+00:00",
          "2020-09-08 10:47:28+00:00",
          "2020-09-08 10:47:38+00:00",
          "2020-09-08 10:47:48+00:00",
          "2020-09-08 10:47:58+00:00",
          "2020-09-08 10:48:08+00:00",
          "2020-09-08 10:48:18+00:00",
          "2020-09-08 10:48:28+00:00",
          "2020-09-08 10:48:38+00:00",
          "2020-09-08 10:48:48+00:00",
          "2020-09-08 10:48:58+00:00",
          "2020-09-08 10:49:08+00:00",
          "2020-09-08 10:49:18+00:00",
          "2020-09-08 10:49:28+00:00",
          "2020-09-08 10:49:38+00:00",
          "2020-09-08 10:49:48+00:00",
          "2020-09-08 10:49:58+00:00",
          "2020-09-08 10:50:08+00:00",
          "2020-09-08 10:50:18+00:00",
          "2020-09-08 10:50:28+00:00",
          "2020-09-08 10:50:38+00:00",
          "2020-09-08 10:50:48+00:00",
          "2020-09-08 10:50:58+00:00",
          "2020-09-08 10:51:08+00:00",
          "2020-09-08 10:51:18+00:00",
          "2020-09-08 10:51:28+00:00",
          "2020-09-08 10:51:38+00:00",
          "2020-09-08 10:51:48+00:00",
          "2020-09-08 10:51:58+00:00",
          "2020-09-08 10:52:08+00:00",
          "2020-09-08 10:52:18+00:00",
          "2020-09-08 10:52:28+00:00",
          "2020-09-08 10:52:38+00:00",
          "2020-09-08 10:52:48+00:00",
          "2020-09-08 10:52:58+00:00",
          "2020-09-08 10:53:08+00:00",
          "2020-09-08 10:53:18+00:00",
          "2020-09-08 10:53:28+00:00",
          "2020-09-08 10:53:38+00:00",
          "2020-09-08 10:53:48+00:00",
          "2020-09-08 10:53:58+00:00",
          "2020-09-08 10:54:08+00:00",
          "2020-09-08 10:54:18+00:00",
          "2020-09-08 10:54:28+00:00",
          "2020-09-08 10:54:38+00:00",
          "2020-09-08 10:54:48+00:00",
          "2020-09-08 10:54:58+00:00",
          "2020-09-08 10:55:08+00:00",
          "2020-09-08 10:55:18+00:00",
          "2020-09-08 10:55:28+00:00",
          "2020-09-08 10:55:38+00:00",
          "2020-09-08 10:55:48+00:00",
          "2020-09-08 10:55:58+00:00",
          "2020-09-08 10:56:08+00:00",
          "2020-09-08 10:56:18+00:00",
          "2020-09-08 10:56:28+00:00",
          "2020-09-08 10:56:38+00:00",
          "2020-09-08 10:56:48+00:00",
          "2020-09-08 10:56:58+00:00",
          "2020-09-08 10:57:08+00:00",
          "2020-09-08 10:57:18+00:00",
          "2020-09-08 10:57:28+00:00",
          "2020-09-08 10:57:38+00:00",
          "2020-09-08 10:57:48+00:00",
          "2020-09-08 10:57:58+00:00",
          "2020-09-08 10:58:08+00:00",
          "2020-09-08 10:58:18+00:00",
          "2020-09-08 10:58:28+00:00",
          "2020-09-08 10:58:38+00:00",
          "2020-09-08 10:58:48+00:00",
          "2020-09-08 10:58:58+00:00",
          "2020-09-08 10:59:08+00:00",
          "2020-09-08 10:59:18+00:00",
          "2020-09-08 10:59:28+00:00",
          "2020-09-08 10:59:38+00:00",
          "2020-09-08 10:59:48+00:00",
          "2020-09-08 10:59:58+00:00",
          "2020-09-08 11:00:08+00:00",
          "2020-09-08 11:00:18+00:00",
          "2020-09-08 11:00:28+00:00",
          "2020-09-08 11:00:38+00:00",
          "2020-09-08 11:00:48+00:00",
          "2020-09-08 11:00:58+00:00",
          "2020-09-08 11:01:08+00:00",
          "2020-09-08 11:01:18+00:00",
          "2020-09-08 11:01:28+00:00",
          "2020-09-08 11:01:38+00:00",
          "2020-09-08 11:01:48+00:00",
          "2020-09-08 11:01:58+00:00",
          "2020-09-08 11:02:08+00:00",
          "2020-09-08 11:02:18+00:00",
          "2020-09-08 11:02:28+00:00",
          "2020-09-08 11:02:38+00:00",
          "2020-09-08 11:02:48+00:00",
          "2020-09-08 11:02:58+00:00",
          "2020-09-08 11:03:08+00:00",
          "2020-09-08 11:03:18+00:00",
          "2020-09-08 11:03:28+00:00",
          "2020-09-08 11:03:38+00:00",
          "2020-09-08 11:03:48+00:00",
          "2020-09-08 11:03:58+00:00",
          "2020-09-08 11:04:08+00:00",
          "2020-09-08 11:04:18+00:00",
          "2020-09-08 11:04:28+00:00",
          "2020-09-08 11:04:38+00:00",
          "2020-09-08 11:04:48+00:00",
          "2020-09-08 11:04:58+00:00",
          "2020-09-08 11:05:08+00:00",
          "2020-09-08 11:05:18+00:00",
          "2020-09-08 11:05:28+00:00",
          "2020-09-08 11:05:38+00:00",
          "2020-09-08 11:05:48+00:00",
          "2020-09-08 11:05:58+00:00",
          "2020-09-08 11:06:08+00:00",
          "2020-09-08 11:06:18+00:00",
          "2020-09-08 11:06:28+00:00",
          "2020-09-08 11:06:38+00:00",
          "2020-09-08 11:06:48+00:00",
          "2020-09-08 11:06:58+00:00",
          "2020-09-08 11:07:08+00:00",
          "2020-09-08 11:07:18+00:00",
          "2020-09-08 11:07:28+00:00",
          "2020-09-08 11:07:38+00:00",
          "2020-09-08 11:07:48+00:00",
          "2020-09-08 11:07:58+00:00",
          "2020-09-08 11:08:08+00:00",
          "2020-09-08 11:08:18+00:00",
          "2020-09-08 11:08:28+00:00",
          "2020-09-08 11:08:38+00:00",
          "2020-09-08 11:08:48+00:00",
          "2020-09-08 11:08:58+00:00",
          "2020-09-08 11:09:08+00:00",
          "2020-09-08 11:09:18+00:00",
          "2020-09-08 11:09:28+00:00",
          "2020-09-08 11:09:38+00:00",
          "2020-09-08 11:09:48+00:00",
          "2020-09-08 11:09:58+00:00",
          "2020-09-08 11:10:08+00:00",
          "2020-09-08 11:10:18+00:00",
          "2020-09-08 11:10:28+00:00",
          "2020-09-08 11:10:38+00:00",
          "2020-09-08 11:10:48+00:00",
          "2020-09-08 11:10:58+00:00",
          "2020-09-08 11:11:08+00:00",
          "2020-09-08 11:11:18+00:00",
          "2020-09-08 11:11:28+00:00",
          "2020-09-08 11:11:38+00:00",
          "2020-09-08 11:11:48+00:00",
          "2020-09-08 11:11:58+00:00",
          "2020-09-08 11:12:08+00:00",
          "2020-09-08 11:12:18+00:00",
          "2020-09-08 11:12:28+00:00",
          "2020-09-08 11:12:38+00:00",
          "2020-09-08 11:12:48+00:00",
          "2020-09-08 11:12:58+00:00",
          "2020-09-08 11:13:08+00:00",
          "2020-09-08 11:13:18+00:00",
          "2020-09-08 11:13:28+00:00",
          "2020-09-08 11:13:38+00:00",
          "2020-09-08 11:13:48+00:00",
          "2020-09-08 11:13:58+00:00",
          "2020-09-08 11:14:08+00:00",
          "2020-09-08 11:14:18+00:00",
          "2020-09-08 11:14:28+00:00",
          "2020-09-08 11:14:38+00:00",
          "2020-09-08 11:14:48+00:00",
          "2020-09-08 11:14:58+00:00",
          "2020-09-08 11:15:08+00:00",
          "2020-09-08 11:15:18+00:00",
          "2020-09-08 11:15:28+00:00",
          "2020-09-08 11:15:38+00:00",
          "2020-09-08 11:15:48+00:00",
          "2020-09-08 11:15:58+00:00",
          "2020-09-08 11:16:08+00:00",
          "2020-09-08 11:16:18+00:00",
          "2020-09-08 11:16:28+00:00",
          "2020-09-08 11:16:38+00:00",
          "2020-09-08 11:16:48+00:00",
          "2020-09-08 11:16:58+00:00",
          "2020-09-08 11:17:08+00:00",
          "2020-09-08 11:17:18+00:00",
          "2020-09-08 11:17:28+00:00",
          "2020-09-08 11:17:38+00:00",
          "2020-09-08 11:17:48+00:00",
          "2020-09-08 11:17:58+00:00",
          "2020-09-08 11:18:08+00:00",
          "2020-09-08 11:18:18+00:00",
          "2020-09-08 11:18:28+00:00",
          "2020-09-08 11:18:38+00:00",
          "2020-09-08 11:18:48+00:00",
          "2020-09-08 11:18:58+00:00",
          "2020-09-08 11:19:08+00:00",
          "2020-09-08 11:19:18+00:00",
          "2020-09-08 11:19:28+00:00",
          "2020-09-08 11:19:38+00:00",
          "2020-09-08 11:19:48+00:00",
          "2020-09-08 11:19:58+00:00",
          "2020-09-08 11:20:08+00:00",
          "2020-09-08 11:20:18+00:00",
          "2020-09-08 11:20:28+00:00",
          "2020-09-08 11:20:38+00:00",
          "2020-09-08 11:20:48+00:00",
          "2020-09-08 11:20:58+00:00",
          "2020-09-08 11:21:08+00:00",
          "2020-09-08 11:21:18+00:00",
          "2020-09-08 11:21:28+00:00",
          "2020-09-08 11:21:38+00:00",
          "2020-09-08 11:21:48+00:00",
          "2020-09-08 11:21:58+00:00",
          "2020-09-08 11:22:08+00:00",
          "2020-09-08 11:22:18+00:00",
          "2020-09-08 11:22:28+00:00",
          "2020-09-08 11:22:38+00:00",
          "2020-09-08 11:22:48+00:00",
          "2020-09-08 11:22:58+00:00",
          "2020-09-08 11:23:08+00:00",
          "2020-09-08 11:23:18+00:00",
          "2020-09-08 11:23:28+00:00",
          "2020-09-08 11:23:38+00:00",
          "2020-09-08 11:23:48+00:00",
          "2020-09-08 11:23:58+00:00",
          "2020-09-08 11:24:08+00:00",
          "2020-09-08 11:24:18+00:00",
          "2020-09-08 11:24:28+00:00",
          "2020-09-08 11:24:38+00:00",
          "2020-09-08 11:24:48+00:00",
          "2020-09-08 11:24:58+00:00",
          "2020-09-08 11:25:08+00:00",
          "2020-09-08 11:25:18+00:00",
          "2020-09-08 11:25:28+00:00",
          "2020-09-08 11:25:38+00:00",
          "2020-09-08 11:25:48+00:00",
          "2020-09-08 11:25:58+00:00",
          "2020-09-08 11:26:08+00:00",
          "2020-09-08 11:26:18+00:00",
          "2020-09-08 11:26:28+00:00",
          "2020-09-08 11:26:38+00:00",
          "2020-09-08 11:26:48+00:00",
          "2020-09-08 11:26:58+00:00",
          "2020-09-08 11:27:08+00:00",
          "2020-09-08 11:27:18+00:00",
          "2020-09-08 11:27:28+00:00",
          "2020-09-08 11:27:38+00:00",
          "2020-09-08 11:27:48+00:00",
          "2020-09-08 11:27:58+00:00",
          "2020-09-08 11:28:08+00:00",
          "2020-09-08 11:28:18+00:00",
          "2020-09-08 11:28:28+00:00",
          "2020-09-08 11:28:38+00:00",
          "2020-09-08 11:28:48+00:00",
          "2020-09-08 11:28:58+00:00",
          "2020-09-08 11:29:08+00:00",
          "2020-09-08 11:29:18+00:00",
          "2020-09-08 11:29:28+00:00",
          "2020-09-08 11:29:38+00:00",
          "2020-09-08 11:29:48+00:00",
          "2020-09-08 11:29:58+00:00",
          "2020-09-08 11:30:08+00:00",
          "2020-09-08 11:30:18+00:00",
          "2020-09-08 11:30:28+00:00",
          "2020-09-08 11:30:38+00:00",
          "2020-09-08 11:30:48+00:00",
          "2020-09-08 11:30:58+00:00",
          "2020-09-08 11:31:08+00:00",
          "2020-09-08 11:31:18+00:00",
          "2020-09-08 11:31:28+00:00",
          "2020-09-08 11:31:38+00:00",
          "2020-09-08 11:31:48+00:00",
          "2020-09-08 11:31:58+00:00",
          "2020-09-08 11:32:08+00:00",
          "2020-09-08 11:32:18+00:00",
          "2020-09-08 11:32:28+00:00",
          "2020-09-08 11:32:38+00:00",
          "2020-09-08 11:32:48+00:00",
          "2020-09-08 11:32:58+00:00",
          "2020-09-08 11:33:08+00:00",
          "2020-09-08 11:33:18+00:00",
          "2020-09-08 11:33:28+00:00",
          "2020-09-08 11:33:38+00:00",
          "2020-09-08 11:33:48+00:00",
          "2020-09-08 11:33:58+00:00",
          "2020-09-08 11:34:08+00:00",
          "2020-09-08 11:34:18+00:00",
          "2020-09-08 11:34:28+00:00",
          "2020-09-08 11:34:38+00:00",
          "2020-09-08 11:34:48+00:00",
          "2020-09-08 11:34:58+00:00",
          "2020-09-08 11:35:08+00:00",
          "2020-09-08 11:35:18+00:00",
          "2020-09-08 11:35:28+00:00",
          "2020-09-08 11:35:38+00:00",
          "2020-09-08 11:35:48+00:00",
          "2020-09-08 11:35:58+00:00",
          "2020-09-08 11:36:08+00:00",
          "2020-09-08 11:36:18+00:00",
          "2020-09-08 11:36:28+00:00",
          "2020-09-08 11:36:38+00:00",
          "2020-09-08 11:36:48+00:00",
          "2020-09-08 11:36:58+00:00",
          "2020-09-08 11:37:08+00:00",
          "2020-09-08 11:37:18+00:00",
          "2020-09-08 11:37:28+00:00",
          "2020-09-08 11:37:38+00:00",
          "2020-09-08 11:37:48+00:00",
          "2020-09-08 11:37:58+00:00",
          "2020-09-08 11:38:08+00:00",
          "2020-09-08 11:38:18+00:00",
          "2020-09-08 11:38:28+00:00",
          "2020-09-08 11:38:38+00:00",
          "2020-09-08 11:38:48+00:00",
          "2020-09-08 11:38:58+00:00",
          "2020-09-08 11:39:08+00:00",
          "2020-09-08 11:39:18+00:00",
          "2020-09-08 11:39:28+00:00",
          "2020-09-08 11:39:38+00:00",
          "2020-09-08 11:39:48+00:00",
          "2020-09-08 11:39:58+00:00",
          "2020-09-08 11:40:08+00:00",
          "2020-09-08 11:40:18+00:00",
          "2020-09-08 11:40:28+00:00",
          "2020-09-08 11:40:38+00:00",
          "2020-09-08 11:40:48+00:00",
          "2020-09-08 11:40:58+00:00",
          "2020-09-08 11:41:08+00:00",
          "2020-09-08 11:41:18+00:00",
          "2020-09-08 11:41:28+00:00",
          "2020-09-08 11:41:38+00:00",
          "2020-09-08 11:41:48+00:00",
          "2020-09-08 11:41:58+00:00",
          "2020-09-08 11:42:08+00:00",
          "2020-09-08 11:42:18+00:00",
          "2020-09-08 11:42:28+00:00",
          "2020-09-08 11:42:38+00:00",
          "2020-09-08 11:42:48+00:00",
          "2020-09-08 11:42:58+00:00",
          "2020-09-08 11:43:08+00:00",
          "2020-09-08 11:43:18+00:00",
          "2020-09-08 11:43:28+00:00",
          "2020-09-08 11:43:38+00:00",
          "2020-09-08 11:43:48+00:00",
          "2020-09-08 11:43:58+00:00",
          "2020-09-08 11:44:08+00:00",
          "2020-09-08 11:44:18+00:00",
          "2020-09-08 11:44:28+00:00",
          "2020-09-08 11:44:38+00:00",
          "2020-09-08 11:44:48+00:00",
          "2020-09-08 11:44:58+00:00",
          "2020-09-08 11:45:08+00:00",
          "2020-09-08 11:45:18+00:00",
          "2020-09-08 11:45:28+00:00",
          "2020-09-08 11:45:38+00:00",
          "2020-09-08 11:45:48+00:00",
          "2020-09-08 11:45:58+00:00",
          "2020-09-08 11:46:08+00:00",
          "2020-09-08 11:46:18+00:00",
          "2020-09-08 11:46:28+00:00",
          "2020-09-08 11:46:38+00:00",
          "2020-09-08 11:46:48+00:00",
          "2020-09-08 11:46:58+00:00",
          "2020-09-08 11:47:08+00:00",
          "2020-09-08 11:47:18+00:00",
          "2020-09-08 11:47:28+00:00",
          "2020-09-08 11:47:38+00:00",
          "2020-09-08 11:47:48+00:00",
          "2020-09-08 11:47:58+00:00",
          "2020-09-08 11:48:08+00:00",
          "2020-09-08 11:48:18+00:00",
          "2020-09-08 11:48:28+00:00",
          "2020-09-08 11:48:38+00:00",
          "2020-09-08 11:48:48+00:00",
          "2020-09-08 11:48:58+00:00",
          "2020-09-08 11:49:08+00:00",
          "2020-09-08 11:49:18+00:00",
          "2020-09-08 11:49:28+00:00",
          "2020-09-08 11:49:38+00:00",
          "2020-09-08 11:49:48+00:00",
          "2020-09-08 11:49:58+00:00",
          "2020-09-08 11:50:08+00:00",
          "2020-09-08 11:50:18+00:00",
          "2020-09-08 11:50:28+00:00",
          "2020-09-08 11:50:38+00:00",
          "2020-09-08 11:50:48+00:00",
          "2020-09-08 11:50:58+00:00",
          "2020-09-08 11:51:08+00:00",
          "2020-09-08 11:51:18+00:00",
          "2020-09-08 11:51:28+00:00",
          "2020-09-08 11:51:38+00:00",
          "2020-09-08 11:51:48+00:00",
          "2020-09-08 11:51:58+00:00",
          "2020-09-08 11:52:08+00:00",
          "2020-09-08 11:52:18+00:00",
          "2020-09-08 11:52:28+00:00",
          "2020-09-08 11:52:38+00:00",
          "2020-09-08 11:52:48+00:00",
          "2020-09-08 11:52:58+00:00",
          "2020-09-08 11:53:08+00:00",
          "2020-09-08 11:53:18+00:00",
          "2020-09-08 11:53:28+00:00",
          "2020-09-08 11:53:38+00:00",
          "2020-09-08 11:53:48+00:00",
          "2020-09-08 11:53:58+00:00",
          "2020-09-08 11:54:08+00:00",
          "2020-09-08 11:54:18+00:00",
          "2020-09-08 11:54:28+00:00",
          "2020-09-08 11:54:38+00:00",
          "2020-09-08 11:54:48+00:00",
          "2020-09-08 11:54:58+00:00",
          "2020-09-08 11:55:08+00:00",
          "2020-09-08 11:55:18+00:00",
          "2020-09-08 11:55:28+00:00",
          "2020-09-08 11:55:38+00:00",
          "2020-09-08 11:55:48+00:00",
          "2020-09-08 11:55:58+00:00",
          "2020-09-08 11:56:08+00:00",
          "2020-09-08 11:56:18+00:00",
          "2020-09-08 11:56:28+00:00",
          "2020-09-08 11:56:38+00:00",
          "2020-09-08 11:56:48+00:00",
          "2020-09-08 11:56:58+00:00",
          "2020-09-08 11:57:08+00:00",
          "2020-09-08 11:57:18+00:00",
          "2020-09-08 11:57:28+00:00",
          "2020-09-08 11:57:38+00:00",
          "2020-09-08 11:57:48+00:00",
          "2020-09-08 11:57:58+00:00",
          "2020-09-08 11:58:08+00:00",
          "2020-09-08 11:58:18+00:00",
          "2020-09-08 11:58:28+00:00",
          "2020-09-08 11:58:38+00:00",
          "2020-09-08 11:58:48+00:00",
          "2020-09-08 11:58:58+00:00",
          "2020-09-08 11:59:08+00:00",
          "2020-09-08 11:59:18+00:00",
          "2020-09-08 11:59:28+00:00",
          "2020-09-08 11:59:38+00:00",
          "2020-09-08 11:59:48+00:00",
          "2020-09-08 11:59:58+00:00",
          "2020-09-08 12:00:08+00:00",
          "2020-09-08 12:00:18+00:00",
          "2020-09-08 12:00:28+00:00",
          "2020-09-08 12:00:38+00:00",
          "2020-09-08 12:00:48+00:00",
          "2020-09-08 12:00:58+00:00",
          "2020-09-08 12:01:08+00:00",
          "2020-09-08 12:01:18+00:00",
          "2020-09-08 12:01:28+00:00",
          "2020-09-08 12:01:38+00:00",
          "2020-09-08 12:01:48+00:00",
          "2020-09-08 12:01:58+00:00",
          "2020-09-08 12:02:08+00:00",
          "2020-09-08 12:02:18+00:00",
          "2020-09-08 12:02:28+00:00",
          "2020-09-08 12:02:38+00:00",
          "2020-09-08 12:02:48+00:00",
          "2020-09-08 12:02:58+00:00",
          "2020-09-08 12:03:08+00:00",
          "2020-09-08 12:03:18+00:00",
          "2020-09-08 12:03:28+00:00",
          "2020-09-08 12:03:38+00:00",
          "2020-09-08 12:03:48+00:00",
          "2020-09-08 12:03:58+00:00",
          "2020-09-08 12:04:08+00:00",
          "2020-09-08 12:04:18+00:00",
          "2020-09-08 12:04:28+00:00",
          "2020-09-08 12:04:38+00:00",
          "2020-09-08 12:04:48+00:00",
          "2020-09-08 12:04:58+00:00",
          "2020-09-08 12:05:08+00:00",
          "2020-09-08 12:05:18+00:00",
          "2020-09-08 12:05:28+00:00",
          "2020-09-08 12:05:38+00:00",
          "2020-09-08 12:05:48+00:00",
          "2020-09-08 12:05:58+00:00",
          "2020-09-08 12:06:08+00:00",
          "2020-09-08 12:06:18+00:00",
          "2020-09-08 12:06:28+00:00",
          "2020-09-08 12:06:38+00:00",
          "2020-09-08 12:06:48+00:00",
          "2020-09-08 12:06:58+00:00",
          "2020-09-08 12:07:08+00:00",
          "2020-09-08 12:07:18+00:00",
          "2020-09-08 12:07:28+00:00",
          "2020-09-08 12:07:38+00:00",
          "2020-09-08 12:07:48+00:00",
          "2020-09-08 12:07:58+00:00",
          "2020-09-08 12:08:08+00:00",
          "2020-09-08 12:08:18+00:00",
          "2020-09-08 12:08:28+00:00",
          "2020-09-08 12:08:38+00:00",
          "2020-09-08 12:08:48+00:00",
          "2020-09-08 12:08:58+00:00",
          "2020-09-08 12:09:08+00:00",
          "2020-09-08 12:09:18+00:00"
         ],
         "type": "scatter",
         "x": [
          45.76967647689721,
          46.1972761009636,
          46.62716028680915,
          47.05934077597955,
          47.49382901745102,
          47.9306362755531,
          48.369773378532486,
          48.811250831142225,
          49.255078918009495,
          49.70126746112405,
          50.149825928116364,
          50.60076353167379,
          51.05408899634211,
          51.509810663172054,
          51.96793658414955,
          52.42847430022431,
          52.891430941433946,
          53.35681331682309,
          53.82462770447934,
          54.29487994769315,
          54.767575538837654,
          55.242719424321535,
          55.72031609591414,
          56.20036966825467,
          56.68288370075922,
          57.16786128376446,
          57.655305109313844,
          58.14521731185465,
          58.63759954953422,
          59.13245306714896,
          59.62977855862068,
          60.12957624231652,
          60.631845916604014,
          61.136586846101316,
          61.64379783084549,
          62.15347725418029,
          62.665622995278,
          63.180232491980426,
          63.697302770950806,
          64.21683042962738,
          64.73881162974261,
          65.26324217241117,
          65.79011746024415,
          66.31943254685467,
          66.85118216080001,
          67.38536071318404,
          67.92196234072574,
          68.46098092161141,
          69.00241012050606,
          69.5462434253605,
          70.09247415522731,
          70.64109554597042,
          71.19210078102847,
          71.74548299154712,
          72.3012353861457,
          72.85935127611386,
          73.41982406835237,
          73.98264744309353,
          74.54781537366904,
          75.11532211373726,
          75.6851624263489,
          76.25733159985833,
          76.83182543020206,
          77.40864050586636,
          77.9877742214056,
          78.56922475651498,
          79.15299142174749,
          79.73907467165219,
          80.32747608372226,
          80.91819876912798,
          81.51124738988636,
          82.10662813982398,
          82.70434922814626,
          83.30442090367262,
          83.90685544296423,
          84.51166771440943,
          85.11887521615115,
          85.72849807583646,
          86.34055970714894,
          86.95508686747462,
          87.57210967987531,
          88.19166239288607,
          88.8137834695896,
          89.43851564363852,
          -89.93409320144849,
          -89.3039898968786,
          -88.67111588217267,
          -88.03540618354408,
          -87.39678921423096,
          -86.7551865915157,
          -86.1105119466625,
          -85.462670629199,
          -84.81155941752117,
          -84.15706511977135,
          -83.4990641415243,
          -82.83742204423645,
          -82.17199188240839,
          -81.50261357701972,
          -80.82911325469169,
          -80.15130124775109,
          -79.46897118585929,
          -78.78189902531831,
          -78.08984059744667,
          -77.39253030042953,
          -76.68967951452699,
          -75.98097419243118,
          -75.26607199396648,
          -74.54460086255226,
          -73.81615494353122,
          -73.08029184750993,
          -72.33652961649304,
          -71.5843415875168,
          -70.8231523948614,
          -70.05233349663895,
          -69.27119626396806,
          -68.47898608006194,
          -67.6748756812215,
          -66.85795558822421,
          -66.02722528786636,
          -65.18158318650083,
          -64.31981297369487,
          -63.440570223834,
          -62.542367014186674,
          -61.62355189215919,
          -60.682289154064144,
          -59.716534869839386,
          -58.72400655722351,
          -57.70215051034781,
          -56.648103703287624,
          -55.558646553092224,
          -54.43015039038453,
          -53.25851581098992,
          -52.039097221721995,
          -50.76661704157953,
          -49.43506460332452,
          -48.037573748601154,
          -46.566282021212835,
          -45.012165304127365,
          -43.36484086868965,
          -41.61234238436614,
          -39.740861976944814,
          -37.734455940569724,
          -35.57472718084939,
          -33.24049576602293,
          -30.70748318572384,
          -27.9480743283408,
          -24.931249262099655,
          -21.62283503831572,
          -17.986324521698744,
          -13.984593618431107,
          -9.582932433908773,
          -4.7538252437450845,
          0.5163142742532459,
          6.218849594157376,
          12.314533502185922,
          18.727826436183207,
          25.347431138683604,
          32.03545628212165,
          38.64438498959069,
          45.03713785390598,
          51.10378712991406,
          56.770350779607284,
          61.99900348415884,
          66.78221359343259,
          71.13431338214404,
          75.08324776286301,
          78.66391955332114,
          81.91349014900182,
          84.86840949865136,
          87.56274552468884,
          -89.97260400913378,
          -87.71014861514952,
          -85.62572529590442,
          -83.69825522424935,
          -81.90942854076766,
          -80.24337374339285,
          -78.68634010832517,
          -77.22640670679908,
          -75.85322479048354,
          -74.55779334681594,
          -73.33226515262893,
          -72.16978158583495,
          -71.06433206780473,
          -70.01063402553181,
          -69.00403168300514,
          -68.0404102392109,
          -67.11612226528426,
          -66.22792577362542,
          -65.37293151107971,
          -64.54855720326387,
          -63.752489102745436,
          -62.98264906877949,
          -62.23716545909739,
          -61.514348780988534,
          -60.812670709004806,
          -60.13074506290651,
          -59.46731207040291,
          -58.8212247228406,
          -58.19143598413038,
          -57.576988422370185,
          -56.977005177608625,
          -56.39068109980939,
          -55.81727580627779,
          -55.25610760942806,
          -54.7065471893469,
          -54.16801288335257,
          -53.6399665569472,
          -53.12190894235387,
          -52.613376417168574,
          -52.113938173827684,
          -51.6231926779567,
          -51.140765455821494,
          -50.6663071527678,
          -50.19949075496695,
          -49.74001007490657,
          -49.28757842801014,
          -48.84192638414305,
          -48.402800744687084,
          -47.969963654548835,
          -47.54319073031665,
          -47.122270385218805,
          -46.70700325661021,
          -46.29720060058713,
          -45.89268387179275,
          -45.49328437940843,
          -45.09884187498502,
          -44.70920431968697,
          -44.32422770881509,
          -43.94377480172644,
          -43.56771502686046,
          -43.19592443558275,
          -42.82828453381015,
          -42.464682293870666,
          -42.10501020288159,
          -41.74916517346185,
          -41.397048635511254,
          -41.048566657178334,
          -40.70362891397161,
          -40.3621488454567,
          -40.024043828060506,
          -39.689234192395816,
          -39.35764342702317,
          -39.02919839407039,
          -38.70382838286054,
          -38.381465350568064,
          -38.06204417110044,
          -37.74550171754558,
          -37.431777132033204,
          -37.120812098743365,
          -36.81254995323552,
          -36.50693597131267,
          -36.20391766409794,
          -35.903443906126654,
          -35.60546524197399,
          -35.30993419715079,
          -35.01680442222935,
          -34.726031013402235,
          -34.43757083569936,
          -34.151381681189925,
          -33.86742259863086,
          -33.585654100042234,
          -33.30603784652294,
          -33.02853620910416,
          -32.753113131502374,
          -32.47973317753141,
          -32.208361877459986,
          -31.938966077078618,
          -31.671513123013632,
          -31.405971217495267,
          -31.142309767820294,
          -30.88049858255027,
          -30.620508229417077,
          -30.362310387537136,
          -30.105877052210953,
          -29.851180895216935,
          -29.598195618758222,
          -29.346895168520543,
          -29.09725409577641,
          -28.84924791046705,
          -28.602852305797732,
          -28.358043517458814,
          -28.114798678738758,
          -27.873095052538744,
          -27.63291039072073,
          -27.39422328866023,
          -27.157012425139364,
          -26.921256921136127,
          -26.686936693411976,
          -26.454031702513294,
          -26.222522308841103,
          -25.99238962821959,
          -25.76361478428064,
          -25.536179264804776,
          -25.31006527511311,
          -25.08525499830863,
          -24.861730949822697,
          -24.639476328563088,
          -24.41847428517699,
          -24.19870827437947,
          -23.98016240404779,
          -23.762820709746265,
          -23.546667507978093,
          -23.331687739244074,
          -23.11786625232764,
          -22.905188154507968,
          -22.693639151680408,
          -22.483204840846838,
          -22.273871057714953,
          -22.065624212074578,
          -21.85845059179558,
          -21.652336704093745,
          -21.447269609187487,
          -21.243236232368293,
          -21.040223701976643,
          -20.838219679556744,
          -20.637211680438273,
          -20.437187408253767,
          -20.238135081441627,
          -20.040042762754613,
          -19.842898688647928,
          -19.646691595036856,
          -19.4514100524908,
          -19.25704279342159,
          -19.063579033574598,
          -18.87100781611307,
          -18.679318334933306,
          -18.48850014571242,
          -18.29854294496268,
          -18.109436249672633,
          -17.92117013777445,
          -17.733734502037226,
          -17.547119368198956,
          -17.36131520129644,
          -17.17631227711341,
          -16.992100995783883,
          -16.808672183776704,
          -16.62601647468023,
          -16.444124618754607,
          -16.262987779086075,
          -16.08259692460981,
          -15.902943132441585,
          -15.724017880938005,
          -15.545812451943375,
          -15.368318228655742,
          -15.19152698409496,
          -15.015430292959936,
          -14.84001982495217,
          -14.66528762857384,
          -14.491225552963877,
          -14.317825535283427,
          -14.14507988240953,
          -13.97298069994538,
          -13.801520176255467,
          -13.630690859042428,
          -13.460485094309751,
          -13.290895305637614,
          -13.121914265846316,
          -12.95353454600881,
          -12.785748789900287,
          -12.618549980932043,
          -12.451930900077937,
          -12.285884397898993,
          -12.120403653968978,
          -11.955481646300235,
          -11.791111418122393,
          -11.627286332253291,
          -11.46399955086001,
          -11.301244297420014,
          -11.139014104807597,
          -10.97730230782407,
          -10.816102297705646,
          -10.655407766229425,
          -10.495212208488818,
          -10.33550917227476,
          -10.176292496952632,
          -10.017555826816027,
          -9.85929285528497,
          -9.701497558497005,
          -9.544163719550067,
          -9.387285166382382,
          -9.230856002181019,
          -9.07487013822954,
          -8.919321527597504,
          -8.764204389887519,
          -8.609512754989607,
          -8.45524069142338,
          -8.301382525587918,
          -8.14793239652016,
          -7.994884478833907,
          -7.8422331966146,
          -7.689972788292749,
          -7.538097526098359,
          -7.386601922368035,
          -7.235480306633241,
          -7.084727039310017,
          -6.934336712389668,
          -6.784303737827237,
          -6.634622555798622,
          -6.485287763299331,
          -6.33629397841174,
          -6.187635646131409,
          -6.03930749159338,
          -5.891304066828164,
          -5.7436199458292085,
          -5.596249908071118,
          -5.449188562967804,
          -5.302430539201229,
          -5.1559706623887465,
          -5.009803591377803,
          -4.86392400095915,
          -4.718326755259438,
          -4.573006554175398,
          -4.427958111077903,
          -4.283176320011239,
          -4.138655914072103,
          -3.994391637197124,
          -3.850378405274739,
          -3.7066109765848654,
          -3.5630841176077297,
          -3.4197927581260763,
          -3.2767316731287024,
          -3.133895644007364,
          -2.991279606004159,
          -2.8488783431586215,
          -2.7066866431980774,
          -2.5646994387471196,
          -2.4229115147016222,
          -2.2813176570214337,
          -2.1399127869916974,
          -1.9986916824310765,
          -1.8576491189063156,
          -1.7167799982779814,
          -1.5760790824152593,
          -1.4355411280931214,
          -1.2951610090831331,
          -1.1549334626411552,
          -1.0148532180174898,
          -0.8749151120124969,
          -0.7351138484859763,
          -0.595444119873728,
          -0.4559007171868446,
          -0.3164783015174375,
          -0.17717151957373825,
          -0.03797510681205626,
          0.10111632778879046,
          0.2401081928165275,
          0.3790058181343197,
          0.5178146566819481,
          0.6565401822732477,
          0.7951878001525827,
          0.9337630356271969,
          1.0722714378256901,
          1.210718498121239,
          1.3491098245597577,
          1.4874510526518698,
          1.6257477708638606,
          1.764005681116147,
          1.9022305166138096,
          2.0404279745057665,
          2.1786038622744823,
          2.3167640226451804,
          2.454914273813076,
          2.5930605409473992,
          2.7312087889382184,
          2.8693649877785528,
          3.0075351564827275,
          3.145725414183676,
          3.2839418600534525,
          3.4221906946951166,
          3.5604781677770627,
          3.698810540022278,
          3.8371941712623245,
          3.975635475347024,
          4.114140889985808,
          4.252716949689302,
          4.391370248314218,
          4.530107416840364,
          4.668935180977398,
          4.807860331469235,
          4.946889709932012,
          5.0860302509651545,
          5.225288960202874,
          5.364672908524354,
          5.5041892582470595,
          5.64384524929545,
          5.7836482017187745,
          5.923605525820241,
          6.063724716575562,
          6.204013364607701,
          6.344479149998822,
          6.485129845120353,
          6.625973334168242,
          6.767017590518087,
          6.908270687992135,
          7.049740829221392,
          7.191436306195727,
          7.333365520194524,
          7.475537019128293,
          7.617959441038663,
          7.760641542693018,
          7.903592246447387,
          8.046820566022125,
          8.190335644254963,
          8.334146809388345,
          8.478263483075276,
          8.622695227353605,
          8.767451810603612,
          8.912543097456599,
          9.057979105202197,
          9.203770079710187,
          9.349926366574824,
          9.496458477837983,
          9.643377177397735,
          9.790693333659354,
          9.938417996169465,
          10.086562491340636,
          10.23513825595996,
          10.38415692404547,
          10.533630433154746,
          10.683570838380755,
          10.833990409794893,
          10.984901749131579,
          11.1363175848799,
          11.288250879512816,
          11.44071495780413,
          11.593723281615462,
          11.747289568119061,
          11.901427929619851,
          12.056152627850071,
          12.211478202875398,
          12.36741957811501,
          12.523991982773136,
          12.681210809214424,
          12.83909196605585,
          12.997651541929548,
          13.156905958662268,
          13.31687214916104,
          13.477567245842371,
          13.639008746248228,
          13.80121470426832,
          13.964203395281967,
          14.127993496292282,
          14.292604289160513,
          14.458055303585322,
          14.624366510531008,
          14.791558539520683,
          14.959652298218549,
          15.128669179818305,
          15.298631294956166,
          15.469561067420287,
          15.641481456273155,
          15.814416201951955,
          15.988389399712716,
          16.163425734829083,
          16.33955074556526,
          16.516790371720806,
          16.695171205544707,
          16.874720771330818,
          17.055467049050844,
          17.237438740515106,
          17.420665568831,
          17.605177774026533,
          17.791006397649674,
          17.97818360045501,
          18.166742131896378,
          18.356715632946358,
          18.548138973243105,
          18.74104769407684,
          18.935478330467355,
          19.131468769193393,
          19.329057663472383,
          19.528284778414285,
          19.72919136797454,
          19.931819563943076,
          20.136212743010862,
          20.34241592687742,
          20.550475143985906,
          20.760437819997197,
          20.972353202682573,
          21.18627169636156,
          21.402245277875615,
          21.620327946360614,
          21.84057503403981,
          22.063043645828945,
          22.287793003719045,
          22.51488427180849,
          22.744380216529873,
          22.97634625515422,
          23.210849580136347,
          23.447959658015314,
          23.687748779109743,
          23.930291286418278,
          24.175664111588816,
          24.423947361968096,
          24.675223525515083,
          24.92957804566244,
          25.187099950102027,
          25.44788103362334,
          25.71201647628163,
          25.97960551915753,
          26.250750625374216,
          26.525558151483953,
          26.80413907083058,
          27.086608120703374,
          27.373084528533443,
          27.663692793875057,
          27.958561824252964,
          28.25782572411502,
          28.561624643775495,
          28.870103909888236,
          29.183414887002776,
          29.501715900592263,
          29.82517137555047,
          30.15395277551019,
          30.48823961745519,
          30.828218622434214,
          31.174084751707127,
          31.526042324956094,
          31.884304196655503,
          32.249092905829116,
          32.62064168332597,
          32.999194597342715,
          33.38500644928839,
          33.77834508321048,
          34.179490432049285,
          34.58873596038535,
          35.006390223343374,
          35.43277623048207,
          35.86823307773978,
          36.31311770892262,
          36.76780439631886,
          37.23268660516018,
          37.70817898745045,
          38.19471702492478,
          38.69275916041795,
          39.202789074549855,
          39.72531553244493,
          40.26087483005026,
          40.81003340149363,
          41.37338791911762,
          41.951568105023185,
          42.54523971277558,
          43.15510493797968,
          43.78190563001573,
          44.42642669423006,
          45.08949684054018,
          45.77199222623343,
          46.47484028241102,
          47.199020800959445,
          47.94556997849756,
          48.71558460561301,
          49.510223408922144,
          50.33071135005029,
          51.17834398372694,
          52.0544887911075,
          52.96058938370703,
          53.89816954793743,
          54.86883400498045,
          55.87427175720025,
          56.91625886457172,
          57.99665748584784,
          59.11741693007303,
          60.280573383060315,
          61.48824516252547,
          62.74262891797727,
          64.04599328601036,
          65.40066688795847,
          66.80902557985152,
          68.27347533752534,
          69.79642783344103,
          71.38027294415666,
          73.0273446249792,
          74.73987775105434,
          76.51995948374234,
          78.36947221787644,
          80.2900270261667,
          82.28289090993268,
          84.34890659634094,
          86.48840649274288,
          88.70112461338967,
          -89.01389168819684,
          -86.65836454410439,
          -84.23485846683177,
          -81.74683811005004,
          -79.19870184079821,
          -76.59578855879181,
          -73.94435179078808,
          -71.25149569714863,
          -68.5250718495063,
          -65.77354504219215,
          -63.005820322545816,
          -60.23105115682401,
          -57.45843465255821,
          -54.696997338445094,
          -51.95539622558224,
          -49.241740450609456,
          -46.563433186492624,
          -43.92705580119743,
          -41.33829021563485,
          -38.801869686563435,
          -36.32157356677243,
          -33.900253110987514,
          -31.53987252927231,
          -29.241578399817524,
          -27.00578197002541,
          -24.83223856164572,
          -22.720139244233764,
          -20.66820102912885,
          -18.674742748651035,
          -16.73776461161786,
          -14.855020120381734,
          -13.02407019317369,
          -11.242338946369145,
          -9.507161430301176,
          -7.815814592714592,
          -6.165551068670262,
          -4.5536267433806845,
          -2.977314112427063,
          -1.4339202395241215,
          0.07919940020918634,
          1.5646387968348476,
          3.024933264777265,
          4.462553820534741,
          5.879911280266388,
          7.279353568915425,
          8.663164442936893,
          10.033570497521495,
          11.39274107709228,
          12.742788912710292,
          14.085777983030189,
          15.423724273779605,
          16.758596847682902,
          18.092325272381363,
          19.42680014553615,
          20.763873604734084,
          22.105365487457842,
          23.453062803060206,
          24.80871894574786,
          26.174057875424783,
          27.55077182854387,
          28.940518526731296,
          30.34492266770696,
          31.76557115005429,
          33.204007516982365,
          34.66173002391056,
          36.140183605926644,
          37.64075083832529,
          39.16474587283468,
          40.71340253498154,
          42.28786129399473,
          43.88915873544429,
          45.51821166255867,
          47.17580026736098,
          48.862553676572794,
          50.57893106843292,
          52.325202559400964,
          54.10143296780647,
          55.90746275429115,
          57.742890422546836,
          59.60705766219692,
          61.49903676728626,
          63.4176184729642,
          65.36130708887902,
          67.32831743896608,
          69.31657709921788,
          71.3237360015139,
          73.34718002755221,
          75.3840508895133,
          77.4312734341475,
          79.4855869678709,
          81.5435817386698,
          83.60174067502278,
          85.65648283302467,
          87.70420870304928,
          89.74134682638532,
          -88.23560165252565,
          -86.23002068745474,
          -84.24513978514777,
          -82.28399987336026,
          -80.34942443644398,
          -78.44399577604997,
          -76.5700380908704,
          -74.72960658762138,
          -72.92448173037428,
          -71.15616955903786,
          -69.42590681263361,
          -67.73466948770296,
          -66.08318548344114,
          -64.4719499353861,
          -62.90124175820334,
          -61.37114219815655,
          -59.88155411555,
          -58.432220635847386,
          -57.02274432706912,
          -55.65260582607196,
          -54.321180706231665,
          -53.02775614129569,
          -51.77154643231669,
          -50.55170628962304,
          -49.36734376443353,
          -48.217531943261186,
          -47.10131833115491,
          -46.017734062564,
          -44.96580204129071,
          -43.944542891996065,
          -42.95298106091914,
          -41.99015009249329,
          -41.05509590582134,
          -40.14688055086583,
          -39.26458538473716,
          -38.407312422489206,
          -37.57418645567048,
          -36.764356792313095,
          -35.976997303641234,
          -35.211307473490386,
          -34.46651321033369,
          -33.741866064406146,
          -33.03664361703913,
          -32.35014973645434,
          -31.681713295888837,
          -31.030688188880607,
          -30.39645327622443,
          -29.778410833526568,
          -29.175986375024046,
          -28.588628294292416,
          -28.01580683475389,
          -27.457012865014445,
          -26.91175829031493,
          -26.379574166596612,
          -25.8600104558153,
          -25.35263579944471,
          -24.857035808857002,
          -24.372812858328146,
          -23.899585908931275,
          -23.436988836934894,
          -22.984670288436057,
          -22.542293563474608,
          -22.10953500168269,
          -21.68608390344805,
          -21.271642479338713,
          -20.86592429856895,
          -20.468654276764525,
          -20.079568689862807,
          -19.69841368333547,
          -19.32494532735439,
          -18.95892968554074,
          -18.600141386983353,
          -18.24836373784065,
          -17.903388843636513,
          -17.565016237664544,
          -17.233053043393422,
          -16.90731414153066,
          -16.587620854826067,
          -16.27380114958323,
          -15.9656898457603,
          -15.66312734840776,
          -15.365959886687198,
          -15.074039758705505,
          -14.787224105662984,
          -14.505375182645814,
          -14.228360632783957,
          -13.95605230053942,
          -13.688326526900035,
          -13.425064452556608,
          -13.166150861779366,
          -12.911474502041587,
          -12.660928406977389,
          -12.414408772260064,
          -12.17181529344882,
          -11.9330515055035,
          -11.69802368793632,
          -11.46664121747969,
          -11.238816921413752,
          -11.014466007458626,
          -10.79350643269423,
          -10.575859263164466,
          -10.361447630872071,
          -10.150197111589549,
          -9.942036092805699,
          -9.736894753883861,
          -9.534705451474721,
          -9.335403091680512,
          -9.138924136128304,
          -8.945206988477768,
          -8.754192373345248,
          -8.565822362318594,
          -8.380040764264375,
          -8.196793507404438,
          -8.016027684615025,
          -7.8376919461950045,
          -7.661736737062568,
          -7.488113948451383,
          -7.316776427597276,
          -7.147678955426826,
          -6.980777176752375,
          -6.8160279946664,
          -6.653389958846928,
          -6.492822360028877,
          -6.334285623866091,
          -6.177741698312064,
          -6.0231531644174545,
          -5.870483628933976,
          -5.719698110482224,
          -5.570762164239161,
          -5.423642276513477,
          -5.27830624489109,
          -5.13472232021066,
          -4.9928595983387245,
          -4.852688397647422,
          -4.7141794160270365,
          -4.577304120055834,
          -4.442035117606791,
          -4.308345333212917,
          -4.1762083902104825,
          -4.045598981803377,
          -3.916492060369748,
          -3.7888632159956974,
          -3.66268904380061,
          -3.5379463473042407,
          -3.4146125130590192,
          -3.2926658739588675,
          -3.1720849267963023,
          -3.0528487009843026,
          -2.9349371211160475,
          -2.8183302346549945,
          -2.703008578058829,
          -2.588953534471476,
          -2.4761465749355582,
          -2.364569619944865,
          -2.25420539244748,
          -2.1450366724264405,
          -2.037046653716078,
          -1.9302192924876205,
          -1.8245385734174724,
          -1.7199888649190267,
          -1.616555259341208,
          -1.5142228539313807,
          -1.4129771006741085,
          -1.3128041414348697,
          -1.2136901019389605,
          -1.1156214367548072,
          -1.0185852577033403,
          -0.9225686439120812,
          -0.8275589783755649,
          -0.7335442727128342,
          -0.640512489699582,
          -0.5484518745236285,
          -0.4573512742054988,
          -0.3671994728598821,
          -0.27798551757106066,
          -0.18969903240110664,
          -0.10232956661804556,
          -0.015866913649484095,
          0.06969857744334997,
          0.15437664406503807,
          0.23817679514208978,
          0.321108005539663,
          0.40317934552778656,
          0.4843996714044442,
          0.564777325557033,
          0.6443207533295731,
          0.7230381992617904,
          0.8009374125742446,
          0.8780262528302468,
          0.9543123890990068,
          1.029803013930941,
          1.1045054350643766,
          1.178426780626377,
          1.2515737188471447,
          1.3239530372203183,
          1.3955713535037395,
          1.4664348412138177,
          1.5365497962464043,
          1.6059223534602236,
          1.6745582192610706,
          1.7424632231464405,
          1.8096430427024768,
          1.876102940755188,
          1.9418483046744592,
          2.0068843772301665,
          2.0712160862911144,
          2.134848224104998,
          2.197785707176336,
          2.2600329742344574,
          2.321594589969145,
          2.3824749876838096,
          2.4426782221789995,
          2.502208473543429,
          2.5610697957726116,
          2.6192658757200706,
          2.6768005242431236,
          2.7336774308219143,
          2.789899928400573,
          2.8454714729345763,
          2.9003954018749663,
          2.95467470733355,
          3.008312501786092,
          3.0613117829051903,
          3.1136752128610707,
          3.1654055712444182
         ],
         "y": [
          -37.17654182688405,
          -37.271412354184164,
          -37.36411333998802,
          -37.45460380539342,
          -37.542841814691016,
          -37.628784036408,
          -37.71238652042457,
          -37.793604263529254,
          -37.87239075702001,
          -37.94869877761688,
          -38.02247994100668,
          -38.093684231337676,
          -38.16226080944738,
          -38.22815754967611,
          -38.29132055211179,
          -38.351694966551726,
          -38.40922451349971,
          -38.46385097383421,
          -38.515515032016,
          -38.56415577583395,
          -38.60971016650314,
          -38.65211389580949,
          -38.69130086499183,
          -38.72720263316005,
          -38.75974928675885,
          -38.788868895638814,
          -38.81448693728884,
          -38.83652717885422,
          -38.85491110353083,
          -38.8695573130878,
          -38.88038241545336,
          -38.88730042344685,
          -38.89022212816756,
          -38.88905599121386,
          -38.88370751184542,
          -38.87407856756121,
          -38.86006830704835,
          -38.841572481045645,
          -38.818482926601064,
          -38.79068773811563,
          -38.75807162946724,
          -38.72051448417976,
          -38.67789240681655,
          -38.63007697040724,
          -38.57693442720635,
          -38.51832656456297,
          -38.45410989968899,
          -38.38413482705331,
          -38.30824645233566,
          -38.22628371955949,
          -38.13807849021939,
          -38.04345633857544,
          -37.94223560148161,
          -37.83422637565622,
          -37.719231259793155,
          -37.59704431188195,
          -37.46744994778183,
          -37.330223614836356,
          -37.18513063218619,
          -37.03192497651829,
          -36.87034985912743,
          -36.700136431752995,
          -36.52100242890083,
          -36.3326526231485,
          -36.13477736690351,
          -35.92705106028482,
          -35.709132450279924,
          -35.48066297220108,
          -35.241265008213006,
          -34.99054198259031,
          -34.7280764663172,
          -34.45342817496254,
          -34.16613381660005,
          -33.865704902999056,
          -33.55162543693266,
          -33.223351454191224,
          -32.88030848730673,
          -32.52188887800744,
          -32.14745095819491,
          -31.756316101055518,
          -31.347765608032727,
          -30.921039464525727,
          -30.475332931367966,
          -30.00979296366113,
          -29.52351650484083,
          -29.01554660106787,
          -28.484868354299117,
          -27.93040678059375,
          -27.35102250319383,
          -26.74550735321613,
          -26.112581939644365,
          -25.450891158469396,
          -24.758999753778717,
          -24.03539001952794,
          -23.27845768399901,
          -22.486508156794415,
          -21.657755273868297,
          -20.790318721198535,
          -19.882222426652035,
          -18.931396124064715,
          -17.935676524673347,
          -16.892810522908597,
          -15.800462778210552,
          -14.656224448775236,
          -13.457625905628047,
          -12.202154732777847,
          -10.887279168392167,
          -9.510475824316188,
          -8.069267174235437,
          -6.561265125381152,
          -4.984223516970014,
          -3.3361015733263777,
          -1.6151355903953437,
          0.1800795614899173,
          2.050498745826379,
          3.996528869879664,
          6.017926250229513,
          8.113691976354932,
          10.281972307820686,
          12.519968946668358,
          14.823865880688947,
          17.188781806482844,
          19.608754617038727,
          22.076764467440444,
          24.584800638474267,
          27.12397331239905,
          29.684668858159288,
          32.25674278807365,
          34.82974076407291,
          37.393135984777075,
          39.93656789601067,
          42.45006793353463,
          44.92426000676593,
          47.35052360721627,
          49.72111288687452,
          52.02922933846355,
          54.26904647894891,
          56.43569057885061,
          58.525183777962475,
          60.534354117159936,
          62.46072018348901,
          64.30235752035716,
          66.05775023084837,
          67.72563298883361,
          69.30482738781897,
          70.79407372187053,
          72.19186238448107,
          73.49627067953233,
          74.70481357319561,
          75.8143268679872,
          76.82091245804665,
          77.71998922260035,
          78.50650818639991,
          79.17539159252308,
          79.72222782614537,
          80.14418135505237,
          80.44096127100477,
          80.6155851167195,
          80.6746588447572,
          80.6280251810075,
          80.48786466662538,
          80.26752398957697,
          79.98038883480044,
          79.63902263134582,
          79.2546449208836,
          78.83691150052665,
          78.39391051435582,
          77.93228522363896,
          77.45741471345008,
          76.97360925514494,
          76.4842953162273,
          75.99217895040768,
          75.49938441436665,
          75.0075690868082,
          74.51801664065242,
          74.03171241149937,
          73.5494037701013,
          73.07164822957424,
          72.5988520034546,
          72.13130075102737,
          71.6691840797718,
          71.21261523898832,
          70.76164686811879,
          70.3162836409148,
          69.87649245989812,
          69.44221063257623,
          69.01335252309212,
          68.58981489212802,
          68.1714811760992,
          67.75822505145516,
          67.34991323424602,
          66.94640770423231,
          66.54756764692654,
          66.15325089131704,
          65.76331502553448,
          65.37761847378124,
          64.99602118898753,
          64.61838515964774,
          64.24457502275412,
          63.87445834308301,
          63.50790578083515,
          63.14479145860683,
          62.78499300868861,
          62.4283915518924,
          62.07487193731013,
          61.724322660037224,
          61.376635735232426,
          61.0317068774766,
          60.6894353459432,
          60.3497237628218,
          60.012478268077075,
          59.67760832646914,
          59.3450265169283,
          59.0146486833681,
          58.68639372266618,
          58.36018336081444,
          58.035942310461756,
          57.71359805076887,
          57.39308059995867,
          57.07432268359604,
          56.75725951392111,
          56.44182856261813,
          56.127969743257644,
          55.8156251923789,
          55.50473904575338,
          55.19525763523479,
          54.88712927339553,
          54.58030403459629,
          54.274733965520596,
          53.97037287485869,
          53.66717611839677,
          53.365100823588584,
          53.06410568325785,
          52.76415074624126,
          52.46519765335707,
          52.167209435767084,
          51.870150310757886,
          51.5739859283951,
          51.27868317299569,
          50.98420996529858,
          50.6905355170544,
          50.39763013686864,
          50.105465037087065,
          49.81401259569227,
          49.523246166117616,
          49.23313988853611,
          48.94366895784139,
          48.65480943703675,
          48.366538073333295,
          48.07883256969122,
          47.791671403095606,
          47.50503364378629,
          47.218899230890266,
          46.93324879397299,
          46.648063475859615,
          46.36332521130664,
          46.07901655164072,
          45.795120490974206,
          45.51162074694314,
          45.22850158898502,
          44.9457477166648,
          44.66334434202704,
          44.38127732197502,
          44.09953278812211,
          43.818097481556336,
          43.53695858593111,
          43.25610356154327,
          42.97552043060895,
          42.69519761160211,
          42.415123757575344,
          42.13528804039249,
          41.85567998777604,
          41.57628932440561,
          41.297106255314304,
          41.018121305460454,
          40.73932516353889,
          40.46070896410389,
          40.18226412949776,
          39.90398221699375,
          39.625855197937454,
          39.34787530338649,
          39.070034873355006,
          38.79232663394829,
          38.51474354556503,
          38.23727865458566,
          37.959925368293064,
          37.68267730546712,
          37.40552815065541,
          37.12847192634683,
          36.851502846629124,
          36.5746151727495,
          36.29780348368342,
          36.021062531575744,
          35.744387100001866,
          35.46777227140404,
          35.191213284992145,
          34.91470539747111,
          34.63824414727191,
          34.361825214773404,
          34.08544428561394,
          33.809097311826065,
          33.53278037339387,
          33.25648954533275,
          32.98022115448074,
          32.70397164366141,
          32.42773744133039,
          32.15151521447301,
          31.8753017351516,
          31.599093753301382,
          31.32288824443078,
          31.046682279840514,
          30.770472901414387,
          30.494257365275892,
          30.218033014519133,
          29.941797156590635,
          29.66554730266455,
          29.389281042896176,
          29.112995926411728,
          28.836689696170872,
          28.56036016731104,
          28.28400510866362,
          28.00762247420062,
          27.73121028338541,
          27.454766505444827,
          27.17828928619748,
          26.901776830978,
          26.62522732842442,
          26.34863902489683,
          26.072010331956726,
          25.795339567617823,
          25.51862521130709,
          25.241865790985255,
          24.965059776334833,
          24.688205791209374,
          24.411302503503094,
          24.134348521007905,
          23.857342598929055,
          23.580283532321324,
          23.303170055093318,
          23.026001041593567,
          22.74877540265128,
          22.471491986800874,
          22.194149776924462,
          21.916747788957142,
          21.639284975819795,
          21.361760418965854,
          21.084173229768737,
          20.806522456168196,
          20.528807268991834,
          20.25102686645309,
          19.973180382684284,
          19.69526706970938,
          19.417286204214967,
          19.13923699892935,
          18.861118779335555,
          18.58293089315886,
          18.30467262451915,
          18.026343365340082,
          17.74794252756414,
          17.46946946001507,
          17.190923614839647,
          16.912304461708544,
          16.633611408228475,
          16.354843960615426,
          16.076001640744508,
          15.797083909348403,
          15.518090321266804,
          15.239020445217761,
          14.959873790131374,
          14.680649954256936,
          14.401348548423991,
          14.121969124820982,
          13.842511320710559,
          13.562974784476014,
          13.283359107212444,
          13.003663960948122,
          12.723889027487086,
          12.44403393282195,
          12.164098379772161,
          11.884082079928227,
          11.60398469030681,
          11.323805941027956,
          11.043545569768467,
          10.763203261345565,
          10.482778769785037,
          10.202271855604904,
          9.921682228276872,
          9.641009662656069,
          9.360253939105917,
          9.079414788797697,
          8.798492004722645,
          8.517485384172767,
          8.23639467743664,
          7.95521969286058,
          7.67396024226154,
          7.39261609251501,
          7.1111870648922935,
          6.829672983326997,
          6.548073644252827,
          6.266388848898054,
          5.984618446670287,
          5.702762231033068,
          5.420820042414151,
          5.138791722707963,
          4.856677075581961,
          4.574475948145557,
          4.292188188360264,
          4.009813608279687,
          3.7273520598777785,
          3.4448033955409043,
          3.1621674339289663,
          2.8794440302924924,
          2.596633039723255,
          2.3137342860328745,
          2.0307476261781217,
          1.747672916457025,
          1.4645099843852876,
          1.181258687199476,
          0.8979188810113702,
          0.6144903956743679,
          0.33097308744670223,
          0.04736681088807449,
          -0.2363286030101492,
          -0.520113300281508,
          -0.8039874290475344,
          -1.087951158368871,
          -1.3720046377231825,
          -1.656148019055019,
          -1.9403814725151827,
          -2.2247051521489354,
          -2.5091192147433303,
          -2.7936238326091622,
          -3.0782191653110598,
          -3.3629053754861715,
          -3.647682638551818,
          -3.932551120541258,
          -4.217510990869195,
          -4.502562428950713,
          -4.787705608183898,
          -5.072940705621447,
          -5.358267905530275,
          -5.643687389503968,
          -5.929199343084411,
          -6.214803956160538,
          -6.5005014193281765,
          -6.786291927406871,
          -7.07217567665983,
          -7.358152867447368,
          -7.644223704618634,
          -7.930388391522279,
          -8.216647139032766,
          -8.503000162730732,
          -8.789447673749649,
          -9.075989894171395,
          -9.362627051013037,
          -9.649359363853657,
          -9.936187066664822,
          -10.223110398576749,
          -10.51012958825722,
          -10.797244882232022,
          -11.084456532389554,
          -11.371764777164719,
          -11.659169876241224,
          -11.946672094944303,
          -12.234271689496419,
          -12.521968918911071,
          -12.809764069653337,
          -13.097657401462303,
          -13.385649202326107,
          -13.673739766419732,
          -13.961929364977843,
          -14.250218301136798,
          -14.538606884435636,
          -14.827095398281887,
          -15.115684161586639,
          -15.404373499903912,
          -15.693163709432463,
          -15.982055125516574,
          -16.271048090385687,
          -16.560142913623597,
          -16.84933994778514,
          -17.138639552343157,
          -17.428042050976675,
          -17.71754781404143,
          -18.00715721904325,
          -18.2968706043855,
          -18.586688358926793,
          -18.87661087892489,
          -19.16663851818371,
          -19.45677168479687,
          -19.74701079446162,
          -20.037356217229444,
          -20.327808381039244,
          -20.618367721886194,
          -20.909034626663136,
          -21.199809544069744,
          -21.490692931148864,
          -21.78168519238682,
          -22.072786798002674,
          -22.36399822708206,
          -22.65531990231548,
          -22.94675231639552,
          -23.238295971146297,
          -23.52995130843424,
          -23.821718844249514,
          -24.113599104041192,
          -24.405592549693495,
          -24.697699721400774,
          -24.98992116915689,
          -25.282257375662365,
          -25.574708906465194,
          -25.867276336843187,
          -26.159960171341417,
          -26.452761001629703,
          -26.745679429445598,
          -27.038715982028762,
          -27.331871278159944,
          -27.625145947035893,
          -27.918540539521292,
          -28.21205570251742,
          -28.505692093608477,
          -28.79945028847979,
          -29.093330962916163,
          -29.38733480407385,
          -29.681462413156538,
          -29.97571449608947,
          -30.270091770535824,
          -30.564594864138336,
          -30.85922451386834,
          -31.15398146917348,
          -31.44886642031033,
          -31.743880065814395,
          -32.03902322265709,
          -32.334296573672795,
          -32.62970092103806,
          -32.925237079999185,
          -33.220905762287515,
          -33.51670780390174,
          -33.812644054204945,
          -34.10871525433793,
          -34.40492227514151,
          -34.701266000390774,
          -34.99774720131581,
          -35.29436678378036,
          -35.59112566673032,
          -35.888024651608845,
          -36.185064679570466,
          -36.482246704901684,
          -36.77957155919775,
          -37.077040218852844,
          -37.37465367319165,
          -37.67241278390193,
          -37.97031856176847,
          -38.26837203078705,
          -38.56657408142384,
          -38.86492575823634,
          -39.16342811857422,
          -39.4620820801056,
          -39.76088871935328,
          -40.059849125520905,
          -40.358964240674766,
          -40.65823517105758,
          -40.957663034460246,
          -41.25724879436532,
          -41.55699358298721,
          -41.85689854267727,
          -42.156964653659394,
          -42.4571930691388,
          -42.75758495051917,
          -43.05814128831923,
          -43.35886325052006,
          -43.659752009719405,
          -43.9608085587441,
          -44.26203407100724,
          -44.563429721065575,
          -44.864996493052736,
          -45.16673555421939,
          -45.46864806843721,
          -45.77073499711742,
          -46.07299748633424,
          -46.37543667275634,
          -46.67805347760461,
          -46.98084900590646,
          -47.28382434652843,
          -47.586980427925425,
          -47.89031814874264,
          -48.193838593224285,
          -48.49754252565041,
          -48.80143088889651,
          -49.105504588734036,
          -49.40976425833224,
          -49.714210703939784,
          -50.018844678999706,
          -50.323666638777105,
          -50.6286772017525,
          -50.9338769138907,
          -51.23926599243432,
          -51.544844803416,
          -51.85061361528951,
          -52.15657233077673,
          -52.46272098206026,
          -52.769059470376476,
          -53.07558728759878,
          -53.38230402692772,
          -53.689209110069044,
          -53.996301494728925,
          -54.303580202318024,
          -54.61104403097596,
          -54.9186912475861,
          -55.22652013242706,
          -55.53452867610884,
          -55.84271425558979,
          -56.151074192826606,
          -56.4596054365316,
          -56.76830421717019,
          -57.07716662196629,
          -57.386188256223626,
          -57.695363875686034,
          -58.004687976610555,
          -58.31415443332848,
          -58.623756217537036,
          -58.93348554983062,
          -59.243334185849946,
          -59.55329253945985,
          -59.863350411587355,
          -60.17349656622221,
          -60.483718264849934,
          -60.794001890576055,
          -61.10433248328242,
          -61.41469322807226,
          -61.72506608248296,
          -62.03543125763744,
          -62.34576665390393,
          -62.65604847945145,
          -62.96625066843076,
          -63.276344246196906,
          -63.58629792913972,
          -63.89607746251254,
          -64.20564489619369,
          -64.51495914913991,
          -64.82397524353578,
          -65.13264346772635,
          -65.44090987765156,
          -65.74871540119092,
          -66.05599484988272,
          -66.36267732930607,
          -66.66868516826031,
          -66.97393273549054,
          -67.27832671400793,
          -67.58176480006452,
          -67.88413426421072,
          -68.1853120289638,
          -68.48516306801116,
          -68.78353862763858,
          -69.08027603488179,
          -69.37519670019995,
          -69.66810390602922,
          -69.95878224302186,
          -70.24699510834716,
          -70.53248194518005,
          -70.81495719973721,
          -71.09410719074879,
          -71.36958669045083,
          -71.64101729556218,
          -71.907983577979,
          -72.17002892583359,
          -72.42665329254487,
          -72.6773086229572,
          -72.92139400529041,
          -73.1582529277959,
          -73.38716819389829,
          -73.6073567181419,
          -73.81796675405677,
          -74.01807293373467,
          -74.20667151466303,
          -74.38267860311565,
          -74.54492653795586,
          -74.69216103041313,
          -74.82304199785118,
          -74.93614304269411,
          -75.02995228746175,
          -75.1028775240412,
          -75.15325026090771,
          -75.17933126323051,
          -75.17932032050676,
          -75.15136422373214,
          -75.09356554037858,
          -75.00399251535606,
          -74.88068830459311,
          -74.72167508827204,
          -74.52495977456537,
          -74.28853266234087,
          -74.01036148755847,
          -73.68838290318703,
          -73.32048530258116,
          -72.90448565365288,
          -72.43810283740942,
          -71.91892226616338,
          -71.34435485379679,
          -70.7115929265056,
          -70.01755840386298,
          -69.25884618490248,
          -68.43166493427734,
          -67.53177098300044,
          -66.55439798568,
          -65.49418437127851,
          -64.34509534689664,
          -63.10034287255534,
          -61.752307130249946,
          -60.292459806814975,
          -58.7112967993079,
          -56.99829007181827,
          -55.14186896029826,
          -53.12945097584966,
          -50.947548339553656,
          -48.58198249374337,
          -46.01825119859301,
          -43.242099914522505,
          -40.240351228312754,
          -37.00204088519748,
          -33.51988173860541,
          -29.792021901026942,
          -25.82397426710084,
          -21.63047326499249,
          -17.236890336936323,
          -12.679761765959325,
          -8.0060204739403,
          -3.270728926921112,
          1.4665390080567744,
          6.146130311157207,
          10.712760762590058,
          15.119176185434934,
          19.328476329944756,
          23.31493793252153,
          27.06352993756142,
          30.56852359011001,
          33.831645383221094,
          36.86014590925246,
          39.665032354163735,
          42.25959313692601,
          44.65825038322225,
          46.875719272365004,
          48.92642867768027,
          50.82414751133208,
          52.581763992731695,
          54.21117586082637,
          55.72325609705999,
          57.12786717141979,
          58.433906884186456,
          59.64937166661419,
          60.781427427135384,
          61.836483945408204,
          62.820268117680754,
          63.73789295911937,
          64.593922981706,
          65.39243445429246,
          66.13706962915377,
          66.83108679325026,
          67.47740543824456,
          68.07864668667982,
          68.63716967119083,
          69.15510506932776,
          69.63438423296853,
          70.07676613511416,
          70.48386153754329,
          70.85715405548842,
          71.19801953967493,
          71.50774323562383,
          71.78753439426785,
          72.03853949813487,
          72.26185359722402,
          72.4585294894346,
          72.62958571362401,
          72.77601295014968,
          72.89877866996616,
          72.99883085175216,
          73.07710048588926,
          73.1345028252175,
          73.17193805262488,
          73.19029119400372,
          73.19043132022405,
          73.17321053694775,
          73.13946265743017,
          73.09000164161215,
          73.02562010734226,
          72.9470878438001,
          72.85515041818367,
          72.75052799460327,
          72.63391431805586,
          72.5059759569825,
          72.36735176387701,
          72.21865253538944,
          72.0604609762221,
          71.89333180395263,
          71.71779201379668,
          71.5343414295737,
          71.34345328806745,
          71.14557491913791,
          70.94112867560675,
          70.73051279387857,
          70.51410229165397,
          70.29225008244798,
          70.06528794092978,
          69.83352746154365,
          69.59726121532192,
          69.35676370009135,
          69.11229225882961,
          68.86408818851065,
          68.61237760631032,
          68.35737227210574,
          68.0992706023484,
          67.83825842050076,
          67.57450966092517,
          67.30818727017375,
          67.03944383334847,
          66.76842215785658,
          66.49525606087478,
          66.22007087857327,
          65.94298393776025,
          65.66410523852089,
          65.38353785893771,
          65.10137832868435,
          64.81771721861129,
          64.53263945683678,
          64.24622464583423,
          63.95854746384292,
          63.669678070499316,
          63.37968221809772,
          63.08862172337088,
          62.79655464805357,
          62.50353546325599,
          62.20961543864439,
          61.91484277407132,
          61.619262717862306,
          61.32291791106389,
          61.025848479213685,
          60.728092114519924,
          60.42968438228736,
          60.13065878130898,
          59.83104679736393,
          59.530878178245445,
          59.230180969373116,
          58.92898154462182,
          58.62730485549645,
          58.32517444660109,
          58.02261246945398,
          57.71963990929545,
          57.41627658545933,
          57.112541151401835,
          56.80845130284194,
          56.504023766323115,
          56.199274288918105,
          55.89421782974426,
          55.588868540154024,
          55.28323974497933,
          54.97734412028417,
          54.67119366672351,
          54.36479968464534,
          54.05817293975036,
          53.751323631354246,
          53.44426136295753,
          53.136995297133666,
          52.829534120376366,
          52.521886009854,
          52.21405877926504,
          51.906059840815914,
          51.59789616982067,
          51.28957444184893,
          50.98110099302258,
          50.67248178322098,
          50.36372252526352,
          50.05482864424077,
          49.74580523993167,
          49.43665720887556,
          49.12738920282635,
          48.81800559144449,
          48.508510577265376,
          48.19890815429216,
          47.88920207088095,
          47.57939593827435,
          47.26949318961341,
          46.9594970435683,
          46.64941060635691,
          46.33923683195222,
          46.02897848628425,
          45.71863824354142,
          45.40821864735641,
          45.09772207602171,
          44.787150833286475,
          44.47650711073218,
          44.16579296713199,
          43.855010361613445,
          43.544161196469155,
          43.2332472316,
          42.92227017855047,
          42.61123166560882,
          42.300133206674445,
          41.988976277044884,
          41.677762280048924,
          41.366492517449295,
          41.05516826043702,
          40.743790717870134,
          40.43236100824761,
          40.12088022618908,
          39.80934941205003,
          39.49776952586076,
          39.18614150901207,
          38.87446625576826,
          38.56274458875357,
          38.25097731634783,
          37.93916520577212,
          37.627308960482516,
          37.31540927298886,
          37.00346679994786,
          36.69148214113896,
          36.37945588810717,
          36.06738860101851,
          35.75528078935822,
          35.44313295645633,
          35.13094557811932,
          34.818719085046496,
          34.50645390331564,
          34.194150434864746,
          33.88180904146891,
          33.569430081442555,
          33.25701389180171,
          32.944560773985714,
          32.632071026680485,
          32.31954492973626,
          32.00698273161502,
          31.694384678403136,
          31.38175099947689,
          31.069081896650527,
          30.75637756950754,
          30.443638202690305,
          30.130863956857592,
          29.818054990282395,
          29.505211447891135,
          29.192333453887173,
          28.879421129747307,
          28.566474584970162,
          28.253493911384755,
          27.940479197545034,
          27.627430521242633,
          27.314347945404435,
          27.00123152904255,
          26.68808132142643,
          26.374897359594385,
          26.061679675905992,
          25.748428293860236,
          25.435143227196345,
          25.121824484112036,
          24.80847206470617,
          24.495085961642086,
          24.181666161099255,
          23.868212641807737,
          23.554725377271332,
          23.24120433349253,
          22.92764946958133,
          22.614060741519125,
          22.30043809671204,
          21.986781476154302,
          21.673090819711046,
          21.359366057534686,
          21.045607113807968,
          20.73181391346844,
          20.41798637058911,
          20.10412439363668,
          19.790227893647227,
          19.476296769614187,
          19.162330915233174,
          18.848330228515444,
          18.534294594225138,
          18.22022389211357,
          17.906118007879947,
          17.59197681282661,
          17.2778001734369,
          16.963587963762404,
          16.649340042246447,
          16.33505626271684,
          16.020736483549797,
          15.706380559882472,
          15.391988328944857,
          15.077559643089685,
          14.763094336612328,
          14.44859223947399,
          14.134053193803613,
          13.81947702247414,
          13.504863544156802,
          13.190212591112388,
          12.875523975159796,
          12.560797504036083,
          12.246033000469339,
          11.931230265504537,
          11.616389096320137,
          11.301509306364188,
          10.986590686264615,
          10.671633022891367,
          10.356636120697022,
          10.04159976018095
         ]
        }
       ],
       "frames": [
        {
         "data": [
          {
           "text": "2020-09-08 09:36:48+00:00",
           "type": "scatter",
           "x": [
            -89.93409320144849
           ],
           "y": [
            -29.52351650484083
           ]
          }
         ]
        },
        {
         "data": [
          {
           "text": "2020-09-08 09:36:58+00:00",
           "type": "scatter",
           "x": [
            -89.3039898968786
           ],
           "y": [
            -29.01554660106787
           ]
          }
         ]
        },
        {
         "data": [
          {
           "text": "2020-09-08 09:37:08+00:00",
           "type": "scatter",
           "x": [
            -88.67111588217267
           ],
           "y": [
            -28.484868354299117
           ]
          }
         ]
        },
        {
         "data": [
          {
           "text": "2020-09-08 09:37:18+00:00",
           "type": "scatter",
           "x": [
            -88.03540618354408
           ],
           "y": [
            -27.93040678059375
           ]
          }
         ]
        },
        {
         "data": [
          {
           "text": "2020-09-08 09:37:28+00:00",
           "type": "scatter",
           "x": [
            -87.39678921423096
           ],
           "y": [
            -27.35102250319383
           ]
          }
         ]
        },
        {
         "data": [
          {
           "text": "2020-09-08 09:37:38+00:00",
           "type": "scatter",
           "x": [
            -86.7551865915157
           ],
           "y": [
            -26.74550735321613
           ]
          }
         ]
        },
        {
         "data": [
          {
           "text": "2020-09-08 09:37:48+00:00",
           "type": "scatter",
           "x": [
            -86.1105119466625
           ],
           "y": [
            -26.112581939644365
           ]
          }
         ]
        },
        {
         "data": [
          {
           "text": "2020-09-08 09:37:58+00:00",
           "type": "scatter",
           "x": [
            -85.462670629199
           ],
           "y": [
            -25.450891158469396
           ]
          }
         ]
        },
        {
         "data": [
          {
           "text": "2020-09-08 09:38:08+00:00",
           "type": "scatter",
           "x": [
            -84.81155941752117
           ],
           "y": [
            -24.758999753778717
           ]
          }
         ]
        },
        {
         "data": [
          {
           "text": "2020-09-08 09:38:18+00:00",
           "type": "scatter",
           "x": [
            -84.15706511977135
           ],
           "y": [
            -24.03539001952794
           ]
          }
         ]
        },
        {
         "data": [
          {
           "text": "2020-09-08 09:38:28+00:00",
           "type": "scatter",
           "x": [
            -83.4990641415243
           ],
           "y": [
            -23.27845768399901
           ]
          }
         ]
        },
        {
         "data": [
          {
           "text": "2020-09-08 09:38:38+00:00",
           "type": "scatter",
           "x": [
            -82.83742204423645
           ],
           "y": [
            -22.486508156794415
           ]
          }
         ]
        },
        {
         "data": [
          {
           "text": "2020-09-08 09:38:48+00:00",
           "type": "scatter",
           "x": [
            -82.17199188240839
           ],
           "y": [
            -21.657755273868297
           ]
          }
         ]
        },
        {
         "data": [
          {
           "text": "2020-09-08 09:38:58+00:00",
           "type": "scatter",
           "x": [
            -81.50261357701972
           ],
           "y": [
            -20.790318721198535
           ]
          }
         ]
        },
        {
         "data": [
          {
           "text": "2020-09-08 09:39:08+00:00",
           "type": "scatter",
           "x": [
            -80.82911325469169
           ],
           "y": [
            -19.882222426652035
           ]
          }
         ]
        },
        {
         "data": [
          {
           "text": "2020-09-08 09:39:18+00:00",
           "type": "scatter",
           "x": [
            -80.15130124775109
           ],
           "y": [
            -18.931396124064715
           ]
          }
         ]
        },
        {
         "data": [
          {
           "text": "2020-09-08 09:39:28+00:00",
           "type": "scatter",
           "x": [
            -79.46897118585929
           ],
           "y": [
            -17.935676524673347
           ]
          }
         ]
        },
        {
         "data": [
          {
           "text": "2020-09-08 09:39:38+00:00",
           "type": "scatter",
           "x": [
            -78.78189902531831
           ],
           "y": [
            -16.892810522908597
           ]
          }
         ]
        },
        {
         "data": [
          {
           "text": "2020-09-08 09:39:48+00:00",
           "type": "scatter",
           "x": [
            -78.08984059744667
           ],
           "y": [
            -15.800462778210552
           ]
          }
         ]
        },
        {
         "data": [
          {
           "text": "2020-09-08 09:39:58+00:00",
           "type": "scatter",
           "x": [
            -77.39253030042953
           ],
           "y": [
            -14.656224448775236
           ]
          }
         ]
        },
        {
         "data": [
          {
           "text": "2020-09-08 09:40:08+00:00",
           "type": "scatter",
           "x": [
            -76.68967951452699
           ],
           "y": [
            -13.457625905628047
           ]
          }
         ]
        },
        {
         "data": [
          {
           "text": "2020-09-08 09:40:18+00:00",
           "type": "scatter",
           "x": [
            -75.98097419243118
           ],
           "y": [
            -12.202154732777847
           ]
          }
         ]
        },
        {
         "data": [
          {
           "text": "2020-09-08 09:40:28+00:00",
           "type": "scatter",
           "x": [
            -75.26607199396648
           ],
           "y": [
            -10.887279168392167
           ]
          }
         ]
        },
        {
         "data": [
          {
           "text": "2020-09-08 09:40:38+00:00",
           "type": "scatter",
           "x": [
            -74.54460086255226
           ],
           "y": [
            -9.510475824316188
           ]
          }
         ]
        },
        {
         "data": [
          {
           "text": "2020-09-08 09:40:48+00:00",
           "type": "scatter",
           "x": [
            -73.81615494353122
           ],
           "y": [
            -8.069267174235437
           ]
          }
         ]
        },
        {
         "data": [
          {
           "text": "2020-09-08 09:40:58+00:00",
           "type": "scatter",
           "x": [
            -73.08029184750993
           ],
           "y": [
            -6.561265125381152
           ]
          }
         ]
        },
        {
         "data": [
          {
           "text": "2020-09-08 09:41:08+00:00",
           "type": "scatter",
           "x": [
            -72.33652961649304
           ],
           "y": [
            -4.984223516970014
           ]
          }
         ]
        },
        {
         "data": [
          {
           "text": "2020-09-08 09:41:18+00:00",
           "type": "scatter",
           "x": [
            -71.5843415875168
           ],
           "y": [
            -3.3361015733263777
           ]
          }
         ]
        },
        {
         "data": [
          {
           "text": "2020-09-08 09:41:28+00:00",
           "type": "scatter",
           "x": [
            -70.8231523948614
           ],
           "y": [
            -1.6151355903953437
           ]
          }
         ]
        },
        {
         "data": [
          {
           "text": "2020-09-08 09:41:38+00:00",
           "type": "scatter",
           "x": [
            -70.05233349663895
           ],
           "y": [
            0.1800795614899173
           ]
          }
         ]
        },
        {
         "data": [
          {
           "text": "2020-09-08 09:41:48+00:00",
           "type": "scatter",
           "x": [
            -69.27119626396806
           ],
           "y": [
            2.050498745826379
           ]
          }
         ]
        },
        {
         "data": [
          {
           "text": "2020-09-08 09:41:58+00:00",
           "type": "scatter",
           "x": [
            -68.47898608006194
           ],
           "y": [
            3.996528869879664
           ]
          }
         ]
        },
        {
         "data": [
          {
           "text": "2020-09-08 09:42:08+00:00",
           "type": "scatter",
           "x": [
            -67.6748756812215
           ],
           "y": [
            6.017926250229513
           ]
          }
         ]
        },
        {
         "data": [
          {
           "text": "2020-09-08 09:42:18+00:00",
           "type": "scatter",
           "x": [
            -66.85795558822421
           ],
           "y": [
            8.113691976354932
           ]
          }
         ]
        },
        {
         "data": [
          {
           "text": "2020-09-08 09:42:28+00:00",
           "type": "scatter",
           "x": [
            -66.02722528786636
           ],
           "y": [
            10.281972307820686
           ]
          }
         ]
        },
        {
         "data": [
          {
           "text": "2020-09-08 09:42:38+00:00",
           "type": "scatter",
           "x": [
            -65.18158318650083
           ],
           "y": [
            12.519968946668358
           ]
          }
         ]
        },
        {
         "data": [
          {
           "text": "2020-09-08 09:42:48+00:00",
           "type": "scatter",
           "x": [
            -64.31981297369487
           ],
           "y": [
            14.823865880688947
           ]
          }
         ]
        },
        {
         "data": [
          {
           "text": "2020-09-08 09:42:58+00:00",
           "type": "scatter",
           "x": [
            -63.440570223834
           ],
           "y": [
            17.188781806482844
           ]
          }
         ]
        },
        {
         "data": [
          {
           "text": "2020-09-08 09:43:08+00:00",
           "type": "scatter",
           "x": [
            -62.542367014186674
           ],
           "y": [
            19.608754617038727
           ]
          }
         ]
        },
        {
         "data": [
          {
           "text": "2020-09-08 09:43:18+00:00",
           "type": "scatter",
           "x": [
            -61.62355189215919
           ],
           "y": [
            22.076764467440444
           ]
          }
         ]
        },
        {
         "data": [
          {
           "text": "2020-09-08 09:43:28+00:00",
           "type": "scatter",
           "x": [
            -60.682289154064144
           ],
           "y": [
            24.584800638474267
           ]
          }
         ]
        },
        {
         "data": [
          {
           "text": "2020-09-08 09:43:38+00:00",
           "type": "scatter",
           "x": [
            -59.716534869839386
           ],
           "y": [
            27.12397331239905
           ]
          }
         ]
        },
        {
         "data": [
          {
           "text": "2020-09-08 09:43:48+00:00",
           "type": "scatter",
           "x": [
            -58.72400655722351
           ],
           "y": [
            29.684668858159288
           ]
          }
         ]
        },
        {
         "data": [
          {
           "text": "2020-09-08 09:43:58+00:00",
           "type": "scatter",
           "x": [
            -57.70215051034781
           ],
           "y": [
            32.25674278807365
           ]
          }
         ]
        },
        {
         "data": [
          {
           "text": "2020-09-08 09:44:08+00:00",
           "type": "scatter",
           "x": [
            -56.648103703287624
           ],
           "y": [
            34.82974076407291
           ]
          }
         ]
        },
        {
         "data": [
          {
           "text": "2020-09-08 09:44:18+00:00",
           "type": "scatter",
           "x": [
            -55.558646553092224
           ],
           "y": [
            37.393135984777075
           ]
          }
         ]
        },
        {
         "data": [
          {
           "text": "2020-09-08 09:44:28+00:00",
           "type": "scatter",
           "x": [
            -54.43015039038453
           ],
           "y": [
            39.93656789601067
           ]
          }
         ]
        },
        {
         "data": [
          {
           "text": "2020-09-08 09:44:38+00:00",
           "type": "scatter",
           "x": [
            -53.25851581098992
           ],
           "y": [
            42.45006793353463
           ]
          }
         ]
        },
        {
         "data": [
          {
           "text": "2020-09-08 09:44:48+00:00",
           "type": "scatter",
           "x": [
            -52.039097221721995
           ],
           "y": [
            44.92426000676593
           ]
          }
         ]
        },
        {
         "data": [
          {
           "text": "2020-09-08 09:44:58+00:00",
           "type": "scatter",
           "x": [
            -50.76661704157953
           ],
           "y": [
            47.35052360721627
           ]
          }
         ]
        },
        {
         "data": [
          {
           "text": "2020-09-08 09:45:08+00:00",
           "type": "scatter",
           "x": [
            -49.43506460332452
           ],
           "y": [
            49.72111288687452
           ]
          }
         ]
        },
        {
         "data": [
          {
           "text": "2020-09-08 09:45:18+00:00",
           "type": "scatter",
           "x": [
            -48.037573748601154
           ],
           "y": [
            52.02922933846355
           ]
          }
         ]
        },
        {
         "data": [
          {
           "text": "2020-09-08 09:45:28+00:00",
           "type": "scatter",
           "x": [
            -46.566282021212835
           ],
           "y": [
            54.26904647894891
           ]
          }
         ]
        },
        {
         "data": [
          {
           "text": "2020-09-08 09:45:38+00:00",
           "type": "scatter",
           "x": [
            -45.012165304127365
           ],
           "y": [
            56.43569057885061
           ]
          }
         ]
        },
        {
         "data": [
          {
           "text": "2020-09-08 09:45:48+00:00",
           "type": "scatter",
           "x": [
            -43.36484086868965
           ],
           "y": [
            58.525183777962475
           ]
          }
         ]
        },
        {
         "data": [
          {
           "text": "2020-09-08 09:45:58+00:00",
           "type": "scatter",
           "x": [
            -41.61234238436614
           ],
           "y": [
            60.534354117159936
           ]
          }
         ]
        },
        {
         "data": [
          {
           "text": "2020-09-08 09:46:08+00:00",
           "type": "scatter",
           "x": [
            -39.740861976944814
           ],
           "y": [
            62.46072018348901
           ]
          }
         ]
        },
        {
         "data": [
          {
           "text": "2020-09-08 09:46:18+00:00",
           "type": "scatter",
           "x": [
            -37.734455940569724
           ],
           "y": [
            64.30235752035716
           ]
          }
         ]
        },
        {
         "data": [
          {
           "text": "2020-09-08 09:46:28+00:00",
           "type": "scatter",
           "x": [
            -35.57472718084939
           ],
           "y": [
            66.05775023084837
           ]
          }
         ]
        },
        {
         "data": [
          {
           "text": "2020-09-08 09:46:38+00:00",
           "type": "scatter",
           "x": [
            -33.24049576602293
           ],
           "y": [
            67.72563298883361
           ]
          }
         ]
        },
        {
         "data": [
          {
           "text": "2020-09-08 09:46:48+00:00",
           "type": "scatter",
           "x": [
            -30.70748318572384
           ],
           "y": [
            69.30482738781897
           ]
          }
         ]
        },
        {
         "data": [
          {
           "text": "2020-09-08 09:46:58+00:00",
           "type": "scatter",
           "x": [
            -27.9480743283408
           ],
           "y": [
            70.79407372187053
           ]
          }
         ]
        },
        {
         "data": [
          {
           "text": "2020-09-08 09:47:08+00:00",
           "type": "scatter",
           "x": [
            -24.931249262099655
           ],
           "y": [
            72.19186238448107
           ]
          }
         ]
        },
        {
         "data": [
          {
           "text": "2020-09-08 09:47:18+00:00",
           "type": "scatter",
           "x": [
            -21.62283503831572
           ],
           "y": [
            73.49627067953233
           ]
          }
         ]
        },
        {
         "data": [
          {
           "text": "2020-09-08 09:47:28+00:00",
           "type": "scatter",
           "x": [
            -17.986324521698744
           ],
           "y": [
            74.70481357319561
           ]
          }
         ]
        },
        {
         "data": [
          {
           "text": "2020-09-08 09:47:38+00:00",
           "type": "scatter",
           "x": [
            -13.984593618431107
           ],
           "y": [
            75.8143268679872
           ]
          }
         ]
        },
        {
         "data": [
          {
           "text": "2020-09-08 09:47:48+00:00",
           "type": "scatter",
           "x": [
            -9.582932433908773
           ],
           "y": [
            76.82091245804665
           ]
          }
         ]
        },
        {
         "data": [
          {
           "text": "2020-09-08 09:47:58+00:00",
           "type": "scatter",
           "x": [
            -4.7538252437450845
           ],
           "y": [
            77.71998922260035
           ]
          }
         ]
        },
        {
         "data": [
          {
           "text": "2020-09-08 09:48:08+00:00",
           "type": "scatter",
           "x": [
            0.5163142742532459
           ],
           "y": [
            78.50650818639991
           ]
          }
         ]
        },
        {
         "data": [
          {
           "text": "2020-09-08 09:48:18+00:00",
           "type": "scatter",
           "x": [
            6.218849594157376
           ],
           "y": [
            79.17539159252308
           ]
          }
         ]
        },
        {
         "data": [
          {
           "text": "2020-09-08 09:48:28+00:00",
           "type": "scatter",
           "x": [
            12.314533502185922
           ],
           "y": [
            79.72222782614537
           ]
          }
         ]
        },
        {
         "data": [
          {
           "text": "2020-09-08 09:48:38+00:00",
           "type": "scatter",
           "x": [
            18.727826436183207
           ],
           "y": [
            80.14418135505237
           ]
          }
         ]
        },
        {
         "data": [
          {
           "text": "2020-09-08 09:48:48+00:00",
           "type": "scatter",
           "x": [
            25.347431138683604
           ],
           "y": [
            80.44096127100477
           ]
          }
         ]
        },
        {
         "data": [
          {
           "text": "2020-09-08 09:48:58+00:00",
           "type": "scatter",
           "x": [
            32.03545628212165
           ],
           "y": [
            80.6155851167195
           ]
          }
         ]
        },
        {
         "data": [
          {
           "text": "2020-09-08 09:49:08+00:00",
           "type": "scatter",
           "x": [
            38.64438498959069
           ],
           "y": [
            80.6746588447572
           ]
          }
         ]
        },
        {
         "data": [
          {
           "text": "2020-09-08 09:49:18+00:00",
           "type": "scatter",
           "x": [
            45.03713785390598
           ],
           "y": [
            80.6280251810075
           ]
          }
         ]
        },
        {
         "data": [
          {
           "text": "2020-09-08 09:49:28+00:00",
           "type": "scatter",
           "x": [
            51.10378712991406
           ],
           "y": [
            80.48786466662538
           ]
          }
         ]
        },
        {
         "data": [
          {
           "text": "2020-09-08 09:49:38+00:00",
           "type": "scatter",
           "x": [
            56.770350779607284
           ],
           "y": [
            80.26752398957697
           ]
          }
         ]
        },
        {
         "data": [
          {
           "text": "2020-09-08 09:49:48+00:00",
           "type": "scatter",
           "x": [
            61.99900348415884
           ],
           "y": [
            79.98038883480044
           ]
          }
         ]
        },
        {
         "data": [
          {
           "text": "2020-09-08 09:49:58+00:00",
           "type": "scatter",
           "x": [
            66.78221359343259
           ],
           "y": [
            79.63902263134582
           ]
          }
         ]
        },
        {
         "data": [
          {
           "text": "2020-09-08 09:50:08+00:00",
           "type": "scatter",
           "x": [
            71.13431338214404
           ],
           "y": [
            79.2546449208836
           ]
          }
         ]
        },
        {
         "data": [
          {
           "text": "2020-09-08 09:50:18+00:00",
           "type": "scatter",
           "x": [
            75.08324776286301
           ],
           "y": [
            78.83691150052665
           ]
          }
         ]
        },
        {
         "data": [
          {
           "text": "2020-09-08 09:50:28+00:00",
           "type": "scatter",
           "x": [
            78.66391955332114
           ],
           "y": [
            78.39391051435582
           ]
          }
         ]
        },
        {
         "data": [
          {
           "text": "2020-09-08 09:50:38+00:00",
           "type": "scatter",
           "x": [
            81.91349014900182
           ],
           "y": [
            77.93228522363896
           ]
          }
         ]
        },
        {
         "data": [
          {
           "text": "2020-09-08 09:50:48+00:00",
           "type": "scatter",
           "x": [
            84.86840949865136
           ],
           "y": [
            77.45741471345008
           ]
          }
         ]
        },
        {
         "data": [
          {
           "text": "2020-09-08 09:50:58+00:00",
           "type": "scatter",
           "x": [
            87.56274552468884
           ],
           "y": [
            76.97360925514494
           ]
          }
         ]
        },
        {
         "data": [
          {
           "text": "2020-09-08 11:16:08+00:00",
           "type": "scatter",
           "x": [
            -89.01389168819684
           ],
           "y": [
            -75.02995228746175
           ]
          }
         ]
        },
        {
         "data": [
          {
           "text": "2020-09-08 11:16:18+00:00",
           "type": "scatter",
           "x": [
            -86.65836454410439
           ],
           "y": [
            -75.1028775240412
           ]
          }
         ]
        },
        {
         "data": [
          {
           "text": "2020-09-08 11:16:28+00:00",
           "type": "scatter",
           "x": [
            -84.23485846683177
           ],
           "y": [
            -75.15325026090771
           ]
          }
         ]
        },
        {
         "data": [
          {
           "text": "2020-09-08 11:16:38+00:00",
           "type": "scatter",
           "x": [
            -81.74683811005004
           ],
           "y": [
            -75.17933126323051
           ]
          }
         ]
        },
        {
         "data": [
          {
           "text": "2020-09-08 11:16:48+00:00",
           "type": "scatter",
           "x": [
            -79.19870184079821
           ],
           "y": [
            -75.17932032050676
           ]
          }
         ]
        },
        {
         "data": [
          {
           "text": "2020-09-08 11:16:58+00:00",
           "type": "scatter",
           "x": [
            -76.59578855879181
           ],
           "y": [
            -75.15136422373214
           ]
          }
         ]
        },
        {
         "data": [
          {
           "text": "2020-09-08 11:17:08+00:00",
           "type": "scatter",
           "x": [
            -73.94435179078808
           ],
           "y": [
            -75.09356554037858
           ]
          }
         ]
        },
        {
         "data": [
          {
           "text": "2020-09-08 11:17:18+00:00",
           "type": "scatter",
           "x": [
            -71.25149569714863
           ],
           "y": [
            -75.00399251535606
           ]
          }
         ]
        },
        {
         "data": [
          {
           "text": "2020-09-08 11:17:28+00:00",
           "type": "scatter",
           "x": [
            -68.5250718495063
           ],
           "y": [
            -74.88068830459311
           ]
          }
         ]
        },
        {
         "data": [
          {
           "text": "2020-09-08 11:17:38+00:00",
           "type": "scatter",
           "x": [
            -65.77354504219215
           ],
           "y": [
            -74.72167508827204
           ]
          }
         ]
        },
        {
         "data": [
          {
           "text": "2020-09-08 11:17:48+00:00",
           "type": "scatter",
           "x": [
            -63.005820322545816
           ],
           "y": [
            -74.52495977456537
           ]
          }
         ]
        },
        {
         "data": [
          {
           "text": "2020-09-08 11:17:58+00:00",
           "type": "scatter",
           "x": [
            -60.23105115682401
           ],
           "y": [
            -74.28853266234087
           ]
          }
         ]
        },
        {
         "data": [
          {
           "text": "2020-09-08 11:18:08+00:00",
           "type": "scatter",
           "x": [
            -57.45843465255821
           ],
           "y": [
            -74.01036148755847
           ]
          }
         ]
        },
        {
         "data": [
          {
           "text": "2020-09-08 11:18:18+00:00",
           "type": "scatter",
           "x": [
            -54.696997338445094
           ],
           "y": [
            -73.68838290318703
           ]
          }
         ]
        },
        {
         "data": [
          {
           "text": "2020-09-08 11:18:28+00:00",
           "type": "scatter",
           "x": [
            -51.95539622558224
           ],
           "y": [
            -73.32048530258116
           ]
          }
         ]
        },
        {
         "data": [
          {
           "text": "2020-09-08 11:18:38+00:00",
           "type": "scatter",
           "x": [
            -49.241740450609456
           ],
           "y": [
            -72.90448565365288
           ]
          }
         ]
        },
        {
         "data": [
          {
           "text": "2020-09-08 11:18:48+00:00",
           "type": "scatter",
           "x": [
            -46.563433186492624
           ],
           "y": [
            -72.43810283740942
           ]
          }
         ]
        },
        {
         "data": [
          {
           "text": "2020-09-08 11:18:58+00:00",
           "type": "scatter",
           "x": [
            -43.92705580119743
           ],
           "y": [
            -71.91892226616338
           ]
          }
         ]
        },
        {
         "data": [
          {
           "text": "2020-09-08 11:19:08+00:00",
           "type": "scatter",
           "x": [
            -41.33829021563485
           ],
           "y": [
            -71.34435485379679
           ]
          }
         ]
        },
        {
         "data": [
          {
           "text": "2020-09-08 11:19:18+00:00",
           "type": "scatter",
           "x": [
            -38.801869686563435
           ],
           "y": [
            -70.7115929265056
           ]
          }
         ]
        },
        {
         "data": [
          {
           "text": "2020-09-08 11:19:28+00:00",
           "type": "scatter",
           "x": [
            -36.32157356677243
           ],
           "y": [
            -70.01755840386298
           ]
          }
         ]
        },
        {
         "data": [
          {
           "text": "2020-09-08 11:19:38+00:00",
           "type": "scatter",
           "x": [
            -33.900253110987514
           ],
           "y": [
            -69.25884618490248
           ]
          }
         ]
        },
        {
         "data": [
          {
           "text": "2020-09-08 11:19:48+00:00",
           "type": "scatter",
           "x": [
            -31.53987252927231
           ],
           "y": [
            -68.43166493427734
           ]
          }
         ]
        },
        {
         "data": [
          {
           "text": "2020-09-08 11:19:58+00:00",
           "type": "scatter",
           "x": [
            -29.241578399817524
           ],
           "y": [
            -67.53177098300044
           ]
          }
         ]
        },
        {
         "data": [
          {
           "text": "2020-09-08 11:20:08+00:00",
           "type": "scatter",
           "x": [
            -27.00578197002541
           ],
           "y": [
            -66.55439798568
           ]
          }
         ]
        },
        {
         "data": [
          {
           "text": "2020-09-08 11:20:18+00:00",
           "type": "scatter",
           "x": [
            -24.83223856164572
           ],
           "y": [
            -65.49418437127851
           ]
          }
         ]
        },
        {
         "data": [
          {
           "text": "2020-09-08 11:20:28+00:00",
           "type": "scatter",
           "x": [
            -22.720139244233764
           ],
           "y": [
            -64.34509534689664
           ]
          }
         ]
        },
        {
         "data": [
          {
           "text": "2020-09-08 11:20:38+00:00",
           "type": "scatter",
           "x": [
            -20.66820102912885
           ],
           "y": [
            -63.10034287255534
           ]
          }
         ]
        },
        {
         "data": [
          {
           "text": "2020-09-08 11:20:48+00:00",
           "type": "scatter",
           "x": [
            -18.674742748651035
           ],
           "y": [
            -61.752307130249946
           ]
          }
         ]
        },
        {
         "data": [
          {
           "text": "2020-09-08 11:20:58+00:00",
           "type": "scatter",
           "x": [
            -16.73776461161786
           ],
           "y": [
            -60.292459806814975
           ]
          }
         ]
        },
        {
         "data": [
          {
           "text": "2020-09-08 11:21:08+00:00",
           "type": "scatter",
           "x": [
            -14.855020120381734
           ],
           "y": [
            -58.7112967993079
           ]
          }
         ]
        },
        {
         "data": [
          {
           "text": "2020-09-08 11:21:18+00:00",
           "type": "scatter",
           "x": [
            -13.02407019317369
           ],
           "y": [
            -56.99829007181827
           ]
          }
         ]
        },
        {
         "data": [
          {
           "text": "2020-09-08 11:21:28+00:00",
           "type": "scatter",
           "x": [
            -11.242338946369145
           ],
           "y": [
            -55.14186896029826
           ]
          }
         ]
        },
        {
         "data": [
          {
           "text": "2020-09-08 11:21:38+00:00",
           "type": "scatter",
           "x": [
            -9.507161430301176
           ],
           "y": [
            -53.12945097584966
           ]
          }
         ]
        },
        {
         "data": [
          {
           "text": "2020-09-08 11:21:48+00:00",
           "type": "scatter",
           "x": [
            -7.815814592714592
           ],
           "y": [
            -50.947548339553656
           ]
          }
         ]
        },
        {
         "data": [
          {
           "text": "2020-09-08 11:21:58+00:00",
           "type": "scatter",
           "x": [
            -6.165551068670262
           ],
           "y": [
            -48.58198249374337
           ]
          }
         ]
        },
        {
         "data": [
          {
           "text": "2020-09-08 11:22:08+00:00",
           "type": "scatter",
           "x": [
            -4.5536267433806845
           ],
           "y": [
            -46.01825119859301
           ]
          }
         ]
        },
        {
         "data": [
          {
           "text": "2020-09-08 11:22:18+00:00",
           "type": "scatter",
           "x": [
            -2.977314112427063
           ],
           "y": [
            -43.242099914522505
           ]
          }
         ]
        },
        {
         "data": [
          {
           "text": "2020-09-08 11:22:28+00:00",
           "type": "scatter",
           "x": [
            -1.4339202395241215
           ],
           "y": [
            -40.240351228312754
           ]
          }
         ]
        },
        {
         "data": [
          {
           "text": "2020-09-08 11:22:38+00:00",
           "type": "scatter",
           "x": [
            0.07919940020918634
           ],
           "y": [
            -37.00204088519748
           ]
          }
         ]
        },
        {
         "data": [
          {
           "text": "2020-09-08 11:22:48+00:00",
           "type": "scatter",
           "x": [
            1.5646387968348476
           ],
           "y": [
            -33.51988173860541
           ]
          }
         ]
        },
        {
         "data": [
          {
           "text": "2020-09-08 11:22:58+00:00",
           "type": "scatter",
           "x": [
            3.024933264777265
           ],
           "y": [
            -29.792021901026942
           ]
          }
         ]
        },
        {
         "data": [
          {
           "text": "2020-09-08 11:23:08+00:00",
           "type": "scatter",
           "x": [
            4.462553820534741
           ],
           "y": [
            -25.82397426710084
           ]
          }
         ]
        },
        {
         "data": [
          {
           "text": "2020-09-08 11:23:18+00:00",
           "type": "scatter",
           "x": [
            5.879911280266388
           ],
           "y": [
            -21.63047326499249
           ]
          }
         ]
        },
        {
         "data": [
          {
           "text": "2020-09-08 11:23:28+00:00",
           "type": "scatter",
           "x": [
            7.279353568915425
           ],
           "y": [
            -17.236890336936323
           ]
          }
         ]
        },
        {
         "data": [
          {
           "text": "2020-09-08 11:23:38+00:00",
           "type": "scatter",
           "x": [
            8.663164442936893
           ],
           "y": [
            -12.679761765959325
           ]
          }
         ]
        },
        {
         "data": [
          {
           "text": "2020-09-08 11:23:48+00:00",
           "type": "scatter",
           "x": [
            10.033570497521495
           ],
           "y": [
            -8.0060204739403
           ]
          }
         ]
        },
        {
         "data": [
          {
           "text": "2020-09-08 11:23:58+00:00",
           "type": "scatter",
           "x": [
            11.39274107709228
           ],
           "y": [
            -3.270728926921112
           ]
          }
         ]
        },
        {
         "data": [
          {
           "text": "2020-09-08 11:24:08+00:00",
           "type": "scatter",
           "x": [
            12.742788912710292
           ],
           "y": [
            1.4665390080567744
           ]
          }
         ]
        },
        {
         "data": [
          {
           "text": "2020-09-08 11:24:18+00:00",
           "type": "scatter",
           "x": [
            14.085777983030189
           ],
           "y": [
            6.146130311157207
           ]
          }
         ]
        },
        {
         "data": [
          {
           "text": "2020-09-08 11:24:28+00:00",
           "type": "scatter",
           "x": [
            15.423724273779605
           ],
           "y": [
            10.712760762590058
           ]
          }
         ]
        },
        {
         "data": [
          {
           "text": "2020-09-08 11:24:38+00:00",
           "type": "scatter",
           "x": [
            16.758596847682902
           ],
           "y": [
            15.119176185434934
           ]
          }
         ]
        },
        {
         "data": [
          {
           "text": "2020-09-08 11:24:48+00:00",
           "type": "scatter",
           "x": [
            18.092325272381363
           ],
           "y": [
            19.328476329944756
           ]
          }
         ]
        },
        {
         "data": [
          {
           "text": "2020-09-08 11:24:58+00:00",
           "type": "scatter",
           "x": [
            19.42680014553615
           ],
           "y": [
            23.31493793252153
           ]
          }
         ]
        },
        {
         "data": [
          {
           "text": "2020-09-08 11:25:08+00:00",
           "type": "scatter",
           "x": [
            20.763873604734084
           ],
           "y": [
            27.06352993756142
           ]
          }
         ]
        },
        {
         "data": [
          {
           "text": "2020-09-08 11:25:18+00:00",
           "type": "scatter",
           "x": [
            22.105365487457842
           ],
           "y": [
            30.56852359011001
           ]
          }
         ]
        },
        {
         "data": [
          {
           "text": "2020-09-08 11:25:28+00:00",
           "type": "scatter",
           "x": [
            23.453062803060206
           ],
           "y": [
            33.831645383221094
           ]
          }
         ]
        },
        {
         "data": [
          {
           "text": "2020-09-08 11:25:38+00:00",
           "type": "scatter",
           "x": [
            24.80871894574786
           ],
           "y": [
            36.86014590925246
           ]
          }
         ]
        },
        {
         "data": [
          {
           "text": "2020-09-08 11:25:48+00:00",
           "type": "scatter",
           "x": [
            26.174057875424783
           ],
           "y": [
            39.665032354163735
           ]
          }
         ]
        },
        {
         "data": [
          {
           "text": "2020-09-08 11:25:58+00:00",
           "type": "scatter",
           "x": [
            27.55077182854387
           ],
           "y": [
            42.25959313692601
           ]
          }
         ]
        },
        {
         "data": [
          {
           "text": "2020-09-08 11:26:08+00:00",
           "type": "scatter",
           "x": [
            28.940518526731296
           ],
           "y": [
            44.65825038322225
           ]
          }
         ]
        },
        {
         "data": [
          {
           "text": "2020-09-08 11:26:18+00:00",
           "type": "scatter",
           "x": [
            30.34492266770696
           ],
           "y": [
            46.875719272365004
           ]
          }
         ]
        },
        {
         "data": [
          {
           "text": "2020-09-08 11:26:28+00:00",
           "type": "scatter",
           "x": [
            31.76557115005429
           ],
           "y": [
            48.92642867768027
           ]
          }
         ]
        },
        {
         "data": [
          {
           "text": "2020-09-08 11:26:38+00:00",
           "type": "scatter",
           "x": [
            33.204007516982365
           ],
           "y": [
            50.82414751133208
           ]
          }
         ]
        },
        {
         "data": [
          {
           "text": "2020-09-08 11:26:48+00:00",
           "type": "scatter",
           "x": [
            34.66173002391056
           ],
           "y": [
            52.581763992731695
           ]
          }
         ]
        },
        {
         "data": [
          {
           "text": "2020-09-08 11:26:58+00:00",
           "type": "scatter",
           "x": [
            36.140183605926644
           ],
           "y": [
            54.21117586082637
           ]
          }
         ]
        },
        {
         "data": [
          {
           "text": "2020-09-08 11:27:08+00:00",
           "type": "scatter",
           "x": [
            37.64075083832529
           ],
           "y": [
            55.72325609705999
           ]
          }
         ]
        },
        {
         "data": [
          {
           "text": "2020-09-08 11:27:18+00:00",
           "type": "scatter",
           "x": [
            39.16474587283468
           ],
           "y": [
            57.12786717141979
           ]
          }
         ]
        },
        {
         "data": [
          {
           "text": "2020-09-08 11:27:28+00:00",
           "type": "scatter",
           "x": [
            40.71340253498154
           ],
           "y": [
            58.433906884186456
           ]
          }
         ]
        },
        {
         "data": [
          {
           "text": "2020-09-08 11:27:38+00:00",
           "type": "scatter",
           "x": [
            42.28786129399473
           ],
           "y": [
            59.64937166661419
           ]
          }
         ]
        },
        {
         "data": [
          {
           "text": "2020-09-08 11:27:48+00:00",
           "type": "scatter",
           "x": [
            43.88915873544429
           ],
           "y": [
            60.781427427135384
           ]
          }
         ]
        },
        {
         "data": [
          {
           "text": "2020-09-08 11:27:58+00:00",
           "type": "scatter",
           "x": [
            45.51821166255867
           ],
           "y": [
            61.836483945408204
           ]
          }
         ]
        },
        {
         "data": [
          {
           "text": "2020-09-08 11:28:08+00:00",
           "type": "scatter",
           "x": [
            47.17580026736098
           ],
           "y": [
            62.820268117680754
           ]
          }
         ]
        },
        {
         "data": [
          {
           "text": "2020-09-08 11:28:18+00:00",
           "type": "scatter",
           "x": [
            48.862553676572794
           ],
           "y": [
            63.73789295911937
           ]
          }
         ]
        },
        {
         "data": [
          {
           "text": "2020-09-08 11:28:28+00:00",
           "type": "scatter",
           "x": [
            50.57893106843292
           ],
           "y": [
            64.593922981706
           ]
          }
         ]
        },
        {
         "data": [
          {
           "text": "2020-09-08 11:28:38+00:00",
           "type": "scatter",
           "x": [
            52.325202559400964
           ],
           "y": [
            65.39243445429246
           ]
          }
         ]
        },
        {
         "data": [
          {
           "text": "2020-09-08 11:28:48+00:00",
           "type": "scatter",
           "x": [
            54.10143296780647
           ],
           "y": [
            66.13706962915377
           ]
          }
         ]
        },
        {
         "data": [
          {
           "text": "2020-09-08 11:28:58+00:00",
           "type": "scatter",
           "x": [
            55.90746275429115
           ],
           "y": [
            66.83108679325026
           ]
          }
         ]
        },
        {
         "data": [
          {
           "text": "2020-09-08 11:29:08+00:00",
           "type": "scatter",
           "x": [
            57.742890422546836
           ],
           "y": [
            67.47740543824456
           ]
          }
         ]
        },
        {
         "data": [
          {
           "text": "2020-09-08 11:29:18+00:00",
           "type": "scatter",
           "x": [
            59.60705766219692
           ],
           "y": [
            68.07864668667982
           ]
          }
         ]
        },
        {
         "data": [
          {
           "text": "2020-09-08 11:29:28+00:00",
           "type": "scatter",
           "x": [
            61.49903676728626
           ],
           "y": [
            68.63716967119083
           ]
          }
         ]
        },
        {
         "data": [
          {
           "text": "2020-09-08 11:29:38+00:00",
           "type": "scatter",
           "x": [
            63.4176184729642
           ],
           "y": [
            69.15510506932776
           ]
          }
         ]
        },
        {
         "data": [
          {
           "text": "2020-09-08 11:29:48+00:00",
           "type": "scatter",
           "x": [
            65.36130708887902
           ],
           "y": [
            69.63438423296853
           ]
          }
         ]
        },
        {
         "data": [
          {
           "text": "2020-09-08 11:29:58+00:00",
           "type": "scatter",
           "x": [
            67.32831743896608
           ],
           "y": [
            70.07676613511416
           ]
          }
         ]
        },
        {
         "data": [
          {
           "text": "2020-09-08 11:30:08+00:00",
           "type": "scatter",
           "x": [
            69.31657709921788
           ],
           "y": [
            70.48386153754329
           ]
          }
         ]
        },
        {
         "data": [
          {
           "text": "2020-09-08 11:30:18+00:00",
           "type": "scatter",
           "x": [
            71.3237360015139
           ],
           "y": [
            70.85715405548842
           ]
          }
         ]
        },
        {
         "data": [
          {
           "text": "2020-09-08 11:30:28+00:00",
           "type": "scatter",
           "x": [
            73.34718002755221
           ],
           "y": [
            71.19801953967493
           ]
          }
         ]
        },
        {
         "data": [
          {
           "text": "2020-09-08 11:30:38+00:00",
           "type": "scatter",
           "x": [
            75.3840508895133
           ],
           "y": [
            71.50774323562383
           ]
          }
         ]
        },
        {
         "data": [
          {
           "text": "2020-09-08 11:30:48+00:00",
           "type": "scatter",
           "x": [
            77.4312734341475
           ],
           "y": [
            71.78753439426785
           ]
          }
         ]
        },
        {
         "data": [
          {
           "text": "2020-09-08 11:30:58+00:00",
           "type": "scatter",
           "x": [
            79.4855869678709
           ],
           "y": [
            72.03853949813487
           ]
          }
         ]
        },
        {
         "data": [
          {
           "text": "2020-09-08 11:31:08+00:00",
           "type": "scatter",
           "x": [
            81.5435817386698
           ],
           "y": [
            72.26185359722402
           ]
          }
         ]
        },
        {
         "data": [
          {
           "text": "2020-09-08 11:31:18+00:00",
           "type": "scatter",
           "x": [
            83.60174067502278
           ],
           "y": [
            72.4585294894346
           ]
          }
         ]
        },
        {
         "data": [
          {
           "text": "2020-09-08 11:31:28+00:00",
           "type": "scatter",
           "x": [
            85.65648283302467
           ],
           "y": [
            72.62958571362401
           ]
          }
         ]
        },
        {
         "data": [
          {
           "text": "2020-09-08 11:31:38+00:00",
           "type": "scatter",
           "x": [
            87.70420870304928
           ],
           "y": [
            72.77601295014968
           ]
          }
         ]
        },
        {
         "data": [
          {
           "text": "2020-09-08 11:31:48+00:00",
           "type": "scatter",
           "x": [
            89.74134682638532
           ],
           "y": [
            72.89877866996616
           ]
          }
         ]
        }
       ],
       "layout": {
        "template": {
         "data": {
          "bar": [
           {
            "error_x": {
             "color": "#2a3f5f"
            },
            "error_y": {
             "color": "#2a3f5f"
            },
            "marker": {
             "line": {
              "color": "#E5ECF6",
              "width": 0.5
             }
            },
            "type": "bar"
           }
          ],
          "barpolar": [
           {
            "marker": {
             "line": {
              "color": "#E5ECF6",
              "width": 0.5
             }
            },
            "type": "barpolar"
           }
          ],
          "carpet": [
           {
            "aaxis": {
             "endlinecolor": "#2a3f5f",
             "gridcolor": "white",
             "linecolor": "white",
             "minorgridcolor": "white",
             "startlinecolor": "#2a3f5f"
            },
            "baxis": {
             "endlinecolor": "#2a3f5f",
             "gridcolor": "white",
             "linecolor": "white",
             "minorgridcolor": "white",
             "startlinecolor": "#2a3f5f"
            },
            "type": "carpet"
           }
          ],
          "choropleth": [
           {
            "colorbar": {
             "outlinewidth": 0,
             "ticks": ""
            },
            "type": "choropleth"
           }
          ],
          "contour": [
           {
            "colorbar": {
             "outlinewidth": 0,
             "ticks": ""
            },
            "colorscale": [
             [
              0,
              "#0d0887"
             ],
             [
              0.1111111111111111,
              "#46039f"
             ],
             [
              0.2222222222222222,
              "#7201a8"
             ],
             [
              0.3333333333333333,
              "#9c179e"
             ],
             [
              0.4444444444444444,
              "#bd3786"
             ],
             [
              0.5555555555555556,
              "#d8576b"
             ],
             [
              0.6666666666666666,
              "#ed7953"
             ],
             [
              0.7777777777777778,
              "#fb9f3a"
             ],
             [
              0.8888888888888888,
              "#fdca26"
             ],
             [
              1,
              "#f0f921"
             ]
            ],
            "type": "contour"
           }
          ],
          "contourcarpet": [
           {
            "colorbar": {
             "outlinewidth": 0,
             "ticks": ""
            },
            "type": "contourcarpet"
           }
          ],
          "heatmap": [
           {
            "colorbar": {
             "outlinewidth": 0,
             "ticks": ""
            },
            "colorscale": [
             [
              0,
              "#0d0887"
             ],
             [
              0.1111111111111111,
              "#46039f"
             ],
             [
              0.2222222222222222,
              "#7201a8"
             ],
             [
              0.3333333333333333,
              "#9c179e"
             ],
             [
              0.4444444444444444,
              "#bd3786"
             ],
             [
              0.5555555555555556,
              "#d8576b"
             ],
             [
              0.6666666666666666,
              "#ed7953"
             ],
             [
              0.7777777777777778,
              "#fb9f3a"
             ],
             [
              0.8888888888888888,
              "#fdca26"
             ],
             [
              1,
              "#f0f921"
             ]
            ],
            "type": "heatmap"
           }
          ],
          "heatmapgl": [
           {
            "colorbar": {
             "outlinewidth": 0,
             "ticks": ""
            },
            "colorscale": [
             [
              0,
              "#0d0887"
             ],
             [
              0.1111111111111111,
              "#46039f"
             ],
             [
              0.2222222222222222,
              "#7201a8"
             ],
             [
              0.3333333333333333,
              "#9c179e"
             ],
             [
              0.4444444444444444,
              "#bd3786"
             ],
             [
              0.5555555555555556,
              "#d8576b"
             ],
             [
              0.6666666666666666,
              "#ed7953"
             ],
             [
              0.7777777777777778,
              "#fb9f3a"
             ],
             [
              0.8888888888888888,
              "#fdca26"
             ],
             [
              1,
              "#f0f921"
             ]
            ],
            "type": "heatmapgl"
           }
          ],
          "histogram": [
           {
            "marker": {
             "colorbar": {
              "outlinewidth": 0,
              "ticks": ""
             }
            },
            "type": "histogram"
           }
          ],
          "histogram2d": [
           {
            "colorbar": {
             "outlinewidth": 0,
             "ticks": ""
            },
            "colorscale": [
             [
              0,
              "#0d0887"
             ],
             [
              0.1111111111111111,
              "#46039f"
             ],
             [
              0.2222222222222222,
              "#7201a8"
             ],
             [
              0.3333333333333333,
              "#9c179e"
             ],
             [
              0.4444444444444444,
              "#bd3786"
             ],
             [
              0.5555555555555556,
              "#d8576b"
             ],
             [
              0.6666666666666666,
              "#ed7953"
             ],
             [
              0.7777777777777778,
              "#fb9f3a"
             ],
             [
              0.8888888888888888,
              "#fdca26"
             ],
             [
              1,
              "#f0f921"
             ]
            ],
            "type": "histogram2d"
           }
          ],
          "histogram2dcontour": [
           {
            "colorbar": {
             "outlinewidth": 0,
             "ticks": ""
            },
            "colorscale": [
             [
              0,
              "#0d0887"
             ],
             [
              0.1111111111111111,
              "#46039f"
             ],
             [
              0.2222222222222222,
              "#7201a8"
             ],
             [
              0.3333333333333333,
              "#9c179e"
             ],
             [
              0.4444444444444444,
              "#bd3786"
             ],
             [
              0.5555555555555556,
              "#d8576b"
             ],
             [
              0.6666666666666666,
              "#ed7953"
             ],
             [
              0.7777777777777778,
              "#fb9f3a"
             ],
             [
              0.8888888888888888,
              "#fdca26"
             ],
             [
              1,
              "#f0f921"
             ]
            ],
            "type": "histogram2dcontour"
           }
          ],
          "mesh3d": [
           {
            "colorbar": {
             "outlinewidth": 0,
             "ticks": ""
            },
            "type": "mesh3d"
           }
          ],
          "parcoords": [
           {
            "line": {
             "colorbar": {
              "outlinewidth": 0,
              "ticks": ""
             }
            },
            "type": "parcoords"
           }
          ],
          "pie": [
           {
            "automargin": true,
            "type": "pie"
           }
          ],
          "scatter": [
           {
            "marker": {
             "colorbar": {
              "outlinewidth": 0,
              "ticks": ""
             }
            },
            "type": "scatter"
           }
          ],
          "scatter3d": [
           {
            "line": {
             "colorbar": {
              "outlinewidth": 0,
              "ticks": ""
             }
            },
            "marker": {
             "colorbar": {
              "outlinewidth": 0,
              "ticks": ""
             }
            },
            "type": "scatter3d"
           }
          ],
          "scattercarpet": [
           {
            "marker": {
             "colorbar": {
              "outlinewidth": 0,
              "ticks": ""
             }
            },
            "type": "scattercarpet"
           }
          ],
          "scattergeo": [
           {
            "marker": {
             "colorbar": {
              "outlinewidth": 0,
              "ticks": ""
             }
            },
            "type": "scattergeo"
           }
          ],
          "scattergl": [
           {
            "marker": {
             "colorbar": {
              "outlinewidth": 0,
              "ticks": ""
             }
            },
            "type": "scattergl"
           }
          ],
          "scattermapbox": [
           {
            "marker": {
             "colorbar": {
              "outlinewidth": 0,
              "ticks": ""
             }
            },
            "type": "scattermapbox"
           }
          ],
          "scatterpolar": [
           {
            "marker": {
             "colorbar": {
              "outlinewidth": 0,
              "ticks": ""
             }
            },
            "type": "scatterpolar"
           }
          ],
          "scatterpolargl": [
           {
            "marker": {
             "colorbar": {
              "outlinewidth": 0,
              "ticks": ""
             }
            },
            "type": "scatterpolargl"
           }
          ],
          "scatterternary": [
           {
            "marker": {
             "colorbar": {
              "outlinewidth": 0,
              "ticks": ""
             }
            },
            "type": "scatterternary"
           }
          ],
          "surface": [
           {
            "colorbar": {
             "outlinewidth": 0,
             "ticks": ""
            },
            "colorscale": [
             [
              0,
              "#0d0887"
             ],
             [
              0.1111111111111111,
              "#46039f"
             ],
             [
              0.2222222222222222,
              "#7201a8"
             ],
             [
              0.3333333333333333,
              "#9c179e"
             ],
             [
              0.4444444444444444,
              "#bd3786"
             ],
             [
              0.5555555555555556,
              "#d8576b"
             ],
             [
              0.6666666666666666,
              "#ed7953"
             ],
             [
              0.7777777777777778,
              "#fb9f3a"
             ],
             [
              0.8888888888888888,
              "#fdca26"
             ],
             [
              1,
              "#f0f921"
             ]
            ],
            "type": "surface"
           }
          ],
          "table": [
           {
            "cells": {
             "fill": {
              "color": "#EBF0F8"
             },
             "line": {
              "color": "white"
             }
            },
            "header": {
             "fill": {
              "color": "#C8D4E3"
             },
             "line": {
              "color": "white"
             }
            },
            "type": "table"
           }
          ]
         },
         "layout": {
          "annotationdefaults": {
           "arrowcolor": "#2a3f5f",
           "arrowhead": 0,
           "arrowwidth": 1
          },
          "coloraxis": {
           "colorbar": {
            "outlinewidth": 0,
            "ticks": ""
           }
          },
          "colorscale": {
           "diverging": [
            [
             0,
             "#8e0152"
            ],
            [
             0.1,
             "#c51b7d"
            ],
            [
             0.2,
             "#de77ae"
            ],
            [
             0.3,
             "#f1b6da"
            ],
            [
             0.4,
             "#fde0ef"
            ],
            [
             0.5,
             "#f7f7f7"
            ],
            [
             0.6,
             "#e6f5d0"
            ],
            [
             0.7,
             "#b8e186"
            ],
            [
             0.8,
             "#7fbc41"
            ],
            [
             0.9,
             "#4d9221"
            ],
            [
             1,
             "#276419"
            ]
           ],
           "sequential": [
            [
             0,
             "#0d0887"
            ],
            [
             0.1111111111111111,
             "#46039f"
            ],
            [
             0.2222222222222222,
             "#7201a8"
            ],
            [
             0.3333333333333333,
             "#9c179e"
            ],
            [
             0.4444444444444444,
             "#bd3786"
            ],
            [
             0.5555555555555556,
             "#d8576b"
            ],
            [
             0.6666666666666666,
             "#ed7953"
            ],
            [
             0.7777777777777778,
             "#fb9f3a"
            ],
            [
             0.8888888888888888,
             "#fdca26"
            ],
            [
             1,
             "#f0f921"
            ]
           ],
           "sequentialminus": [
            [
             0,
             "#0d0887"
            ],
            [
             0.1111111111111111,
             "#46039f"
            ],
            [
             0.2222222222222222,
             "#7201a8"
            ],
            [
             0.3333333333333333,
             "#9c179e"
            ],
            [
             0.4444444444444444,
             "#bd3786"
            ],
            [
             0.5555555555555556,
             "#d8576b"
            ],
            [
             0.6666666666666666,
             "#ed7953"
            ],
            [
             0.7777777777777778,
             "#fb9f3a"
            ],
            [
             0.8888888888888888,
             "#fdca26"
            ],
            [
             1,
             "#f0f921"
            ]
           ]
          },
          "colorway": [
           "#636efa",
           "#EF553B",
           "#00cc96",
           "#ab63fa",
           "#FFA15A",
           "#19d3f3",
           "#FF6692",
           "#B6E880",
           "#FF97FF",
           "#FECB52"
          ],
          "font": {
           "color": "#2a3f5f"
          },
          "geo": {
           "bgcolor": "white",
           "lakecolor": "white",
           "landcolor": "#E5ECF6",
           "showlakes": true,
           "showland": true,
           "subunitcolor": "white"
          },
          "hoverlabel": {
           "align": "left"
          },
          "hovermode": "closest",
          "mapbox": {
           "style": "light"
          },
          "paper_bgcolor": "white",
          "plot_bgcolor": "#E5ECF6",
          "polar": {
           "angularaxis": {
            "gridcolor": "white",
            "linecolor": "white",
            "ticks": ""
           },
           "bgcolor": "#E5ECF6",
           "radialaxis": {
            "gridcolor": "white",
            "linecolor": "white",
            "ticks": ""
           }
          },
          "scene": {
           "xaxis": {
            "backgroundcolor": "#E5ECF6",
            "gridcolor": "white",
            "gridwidth": 2,
            "linecolor": "white",
            "showbackground": true,
            "ticks": "",
            "zerolinecolor": "white"
           },
           "yaxis": {
            "backgroundcolor": "#E5ECF6",
            "gridcolor": "white",
            "gridwidth": 2,
            "linecolor": "white",
            "showbackground": true,
            "ticks": "",
            "zerolinecolor": "white"
           },
           "zaxis": {
            "backgroundcolor": "#E5ECF6",
            "gridcolor": "white",
            "gridwidth": 2,
            "linecolor": "white",
            "showbackground": true,
            "ticks": "",
            "zerolinecolor": "white"
           }
          },
          "shapedefaults": {
           "line": {
            "color": "#2a3f5f"
           }
          },
          "ternary": {
           "aaxis": {
            "gridcolor": "white",
            "linecolor": "white",
            "ticks": ""
           },
           "baxis": {
            "gridcolor": "white",
            "linecolor": "white",
            "ticks": ""
           },
           "bgcolor": "#E5ECF6",
           "caxis": {
            "gridcolor": "white",
            "linecolor": "white",
            "ticks": ""
           }
          },
          "title": {
           "x": 0.05
          },
          "xaxis": {
           "automargin": true,
           "gridcolor": "white",
           "linecolor": "white",
           "ticks": "",
           "title": {
            "standoff": 15
           },
           "zerolinecolor": "white",
           "zerolinewidth": 2
          },
          "yaxis": {
           "automargin": true,
           "gridcolor": "white",
           "linecolor": "white",
           "ticks": "",
           "title": {
            "standoff": 15
           },
           "zerolinecolor": "white",
           "zerolinewidth": 2
          }
         }
        },
        "title": {
         "text": "Start Title"
        },
        "transition": {
         "duration": 1
        },
        "updatemenus": [
         {
          "buttons": [
           {
            "args": [
             null,
             {
              "frame": {
               "duration": 100
              }
             }
            ],
            "label": "Play",
            "method": "animate"
           }
          ],
          "type": "buttons"
         }
        ],
        "xaxis": {
         "autorange": false,
         "range": [
          -90,
          90
         ]
        },
        "yaxis": {
         "autorange": false,
         "range": [
          -90,
          90
         ]
        }
       }
      },
      "text/html": [
       "<div>\n",
       "        \n",
       "        \n",
       "            <div id=\"831e7f21-7184-4e35-a4f4-f23d44e3dddf\" class=\"plotly-graph-div\" style=\"height:525px; width:100%;\"></div>\n",
       "            <script type=\"text/javascript\">\n",
       "                require([\"plotly\"], function(Plotly) {\n",
       "                    window.PLOTLYENV=window.PLOTLYENV || {};\n",
       "                    \n",
       "                if (document.getElementById(\"831e7f21-7184-4e35-a4f4-f23d44e3dddf\")) {\n",
       "                    Plotly.newPlot(\n",
       "                        '831e7f21-7184-4e35-a4f4-f23d44e3dddf',\n",
       "                        [{\"text\": [\"2020-09-08 09:22:48+00:00\", \"2020-09-08 09:22:58+00:00\", \"2020-09-08 09:23:08+00:00\", \"2020-09-08 09:23:18+00:00\", \"2020-09-08 09:23:28+00:00\", \"2020-09-08 09:23:38+00:00\", \"2020-09-08 09:23:48+00:00\", \"2020-09-08 09:23:58+00:00\", \"2020-09-08 09:24:08+00:00\", \"2020-09-08 09:24:18+00:00\", \"2020-09-08 09:24:28+00:00\", \"2020-09-08 09:24:38+00:00\", \"2020-09-08 09:24:48+00:00\", \"2020-09-08 09:24:58+00:00\", \"2020-09-08 09:25:08+00:00\", \"2020-09-08 09:25:18+00:00\", \"2020-09-08 09:25:28+00:00\", \"2020-09-08 09:25:38+00:00\", \"2020-09-08 09:25:48+00:00\", \"2020-09-08 09:25:58+00:00\", \"2020-09-08 09:26:08+00:00\", \"2020-09-08 09:26:18+00:00\", \"2020-09-08 09:26:28+00:00\", \"2020-09-08 09:26:38+00:00\", \"2020-09-08 09:26:48+00:00\", \"2020-09-08 09:26:58+00:00\", \"2020-09-08 09:27:08+00:00\", \"2020-09-08 09:27:18+00:00\", \"2020-09-08 09:27:28+00:00\", \"2020-09-08 09:27:38+00:00\", \"2020-09-08 09:27:48+00:00\", \"2020-09-08 09:27:58+00:00\", \"2020-09-08 09:28:08+00:00\", \"2020-09-08 09:28:18+00:00\", \"2020-09-08 09:28:28+00:00\", \"2020-09-08 09:28:38+00:00\", \"2020-09-08 09:28:48+00:00\", \"2020-09-08 09:28:58+00:00\", \"2020-09-08 09:29:08+00:00\", \"2020-09-08 09:29:18+00:00\", \"2020-09-08 09:29:28+00:00\", \"2020-09-08 09:29:38+00:00\", \"2020-09-08 09:29:48+00:00\", \"2020-09-08 09:29:58+00:00\", \"2020-09-08 09:30:08+00:00\", \"2020-09-08 09:30:18+00:00\", \"2020-09-08 09:30:28+00:00\", \"2020-09-08 09:30:38+00:00\", \"2020-09-08 09:30:48+00:00\", \"2020-09-08 09:30:58+00:00\", \"2020-09-08 09:31:08+00:00\", \"2020-09-08 09:31:18+00:00\", \"2020-09-08 09:31:28+00:00\", \"2020-09-08 09:31:38+00:00\", \"2020-09-08 09:31:48+00:00\", \"2020-09-08 09:31:58+00:00\", \"2020-09-08 09:32:08+00:00\", \"2020-09-08 09:32:18+00:00\", \"2020-09-08 09:32:28+00:00\", \"2020-09-08 09:32:38+00:00\", \"2020-09-08 09:32:48+00:00\", \"2020-09-08 09:32:58+00:00\", \"2020-09-08 09:33:08+00:00\", \"2020-09-08 09:33:18+00:00\", \"2020-09-08 09:33:28+00:00\", \"2020-09-08 09:33:38+00:00\", \"2020-09-08 09:33:48+00:00\", \"2020-09-08 09:33:58+00:00\", \"2020-09-08 09:34:08+00:00\", \"2020-09-08 09:34:18+00:00\", \"2020-09-08 09:34:28+00:00\", \"2020-09-08 09:34:38+00:00\", \"2020-09-08 09:34:48+00:00\", \"2020-09-08 09:34:58+00:00\", \"2020-09-08 09:35:08+00:00\", \"2020-09-08 09:35:18+00:00\", \"2020-09-08 09:35:28+00:00\", \"2020-09-08 09:35:38+00:00\", \"2020-09-08 09:35:48+00:00\", \"2020-09-08 09:35:58+00:00\", \"2020-09-08 09:36:08+00:00\", \"2020-09-08 09:36:18+00:00\", \"2020-09-08 09:36:28+00:00\", \"2020-09-08 09:36:38+00:00\", \"2020-09-08 09:36:48+00:00\", \"2020-09-08 09:36:58+00:00\", \"2020-09-08 09:37:08+00:00\", \"2020-09-08 09:37:18+00:00\", \"2020-09-08 09:37:28+00:00\", \"2020-09-08 09:37:38+00:00\", \"2020-09-08 09:37:48+00:00\", \"2020-09-08 09:37:58+00:00\", \"2020-09-08 09:38:08+00:00\", \"2020-09-08 09:38:18+00:00\", \"2020-09-08 09:38:28+00:00\", \"2020-09-08 09:38:38+00:00\", \"2020-09-08 09:38:48+00:00\", \"2020-09-08 09:38:58+00:00\", \"2020-09-08 09:39:08+00:00\", \"2020-09-08 09:39:18+00:00\", \"2020-09-08 09:39:28+00:00\", \"2020-09-08 09:39:38+00:00\", \"2020-09-08 09:39:48+00:00\", \"2020-09-08 09:39:58+00:00\", \"2020-09-08 09:40:08+00:00\", \"2020-09-08 09:40:18+00:00\", \"2020-09-08 09:40:28+00:00\", \"2020-09-08 09:40:38+00:00\", \"2020-09-08 09:40:48+00:00\", \"2020-09-08 09:40:58+00:00\", \"2020-09-08 09:41:08+00:00\", \"2020-09-08 09:41:18+00:00\", \"2020-09-08 09:41:28+00:00\", \"2020-09-08 09:41:38+00:00\", \"2020-09-08 09:41:48+00:00\", \"2020-09-08 09:41:58+00:00\", \"2020-09-08 09:42:08+00:00\", \"2020-09-08 09:42:18+00:00\", \"2020-09-08 09:42:28+00:00\", \"2020-09-08 09:42:38+00:00\", \"2020-09-08 09:42:48+00:00\", \"2020-09-08 09:42:58+00:00\", \"2020-09-08 09:43:08+00:00\", \"2020-09-08 09:43:18+00:00\", \"2020-09-08 09:43:28+00:00\", \"2020-09-08 09:43:38+00:00\", \"2020-09-08 09:43:48+00:00\", \"2020-09-08 09:43:58+00:00\", \"2020-09-08 09:44:08+00:00\", \"2020-09-08 09:44:18+00:00\", \"2020-09-08 09:44:28+00:00\", \"2020-09-08 09:44:38+00:00\", \"2020-09-08 09:44:48+00:00\", \"2020-09-08 09:44:58+00:00\", \"2020-09-08 09:45:08+00:00\", \"2020-09-08 09:45:18+00:00\", \"2020-09-08 09:45:28+00:00\", \"2020-09-08 09:45:38+00:00\", \"2020-09-08 09:45:48+00:00\", \"2020-09-08 09:45:58+00:00\", \"2020-09-08 09:46:08+00:00\", \"2020-09-08 09:46:18+00:00\", \"2020-09-08 09:46:28+00:00\", \"2020-09-08 09:46:38+00:00\", \"2020-09-08 09:46:48+00:00\", \"2020-09-08 09:46:58+00:00\", \"2020-09-08 09:47:08+00:00\", \"2020-09-08 09:47:18+00:00\", \"2020-09-08 09:47:28+00:00\", \"2020-09-08 09:47:38+00:00\", \"2020-09-08 09:47:48+00:00\", \"2020-09-08 09:47:58+00:00\", \"2020-09-08 09:48:08+00:00\", \"2020-09-08 09:48:18+00:00\", \"2020-09-08 09:48:28+00:00\", \"2020-09-08 09:48:38+00:00\", \"2020-09-08 09:48:48+00:00\", \"2020-09-08 09:48:58+00:00\", \"2020-09-08 09:49:08+00:00\", \"2020-09-08 09:49:18+00:00\", \"2020-09-08 09:49:28+00:00\", \"2020-09-08 09:49:38+00:00\", \"2020-09-08 09:49:48+00:00\", \"2020-09-08 09:49:58+00:00\", \"2020-09-08 09:50:08+00:00\", \"2020-09-08 09:50:18+00:00\", \"2020-09-08 09:50:28+00:00\", \"2020-09-08 09:50:38+00:00\", \"2020-09-08 09:50:48+00:00\", \"2020-09-08 09:50:58+00:00\", \"2020-09-08 09:51:08+00:00\", \"2020-09-08 09:51:18+00:00\", \"2020-09-08 09:51:28+00:00\", \"2020-09-08 09:51:38+00:00\", \"2020-09-08 09:51:48+00:00\", \"2020-09-08 09:51:58+00:00\", \"2020-09-08 09:52:08+00:00\", \"2020-09-08 09:52:18+00:00\", \"2020-09-08 09:52:28+00:00\", \"2020-09-08 09:52:38+00:00\", \"2020-09-08 09:52:48+00:00\", \"2020-09-08 09:52:58+00:00\", \"2020-09-08 09:53:08+00:00\", \"2020-09-08 09:53:18+00:00\", \"2020-09-08 09:53:28+00:00\", \"2020-09-08 09:53:38+00:00\", \"2020-09-08 09:53:48+00:00\", \"2020-09-08 09:53:58+00:00\", \"2020-09-08 09:54:08+00:00\", \"2020-09-08 09:54:18+00:00\", \"2020-09-08 09:54:28+00:00\", \"2020-09-08 09:54:38+00:00\", \"2020-09-08 09:54:48+00:00\", \"2020-09-08 09:54:58+00:00\", \"2020-09-08 09:55:08+00:00\", \"2020-09-08 09:55:18+00:00\", \"2020-09-08 09:55:28+00:00\", \"2020-09-08 09:55:38+00:00\", \"2020-09-08 09:55:48+00:00\", \"2020-09-08 09:55:58+00:00\", \"2020-09-08 09:56:08+00:00\", \"2020-09-08 09:56:18+00:00\", \"2020-09-08 09:56:28+00:00\", \"2020-09-08 09:56:38+00:00\", \"2020-09-08 09:56:48+00:00\", \"2020-09-08 09:56:58+00:00\", \"2020-09-08 09:57:08+00:00\", \"2020-09-08 09:57:18+00:00\", \"2020-09-08 09:57:28+00:00\", \"2020-09-08 09:57:38+00:00\", \"2020-09-08 09:57:48+00:00\", \"2020-09-08 09:57:58+00:00\", \"2020-09-08 09:58:08+00:00\", \"2020-09-08 09:58:18+00:00\", \"2020-09-08 09:58:28+00:00\", \"2020-09-08 09:58:38+00:00\", \"2020-09-08 09:58:48+00:00\", \"2020-09-08 09:58:58+00:00\", \"2020-09-08 09:59:08+00:00\", \"2020-09-08 09:59:18+00:00\", \"2020-09-08 09:59:28+00:00\", \"2020-09-08 09:59:38+00:00\", \"2020-09-08 09:59:48+00:00\", \"2020-09-08 09:59:58+00:00\", \"2020-09-08 10:00:08+00:00\", \"2020-09-08 10:00:18+00:00\", \"2020-09-08 10:00:28+00:00\", \"2020-09-08 10:00:38+00:00\", \"2020-09-08 10:00:48+00:00\", \"2020-09-08 10:00:58+00:00\", \"2020-09-08 10:01:08+00:00\", \"2020-09-08 10:01:18+00:00\", \"2020-09-08 10:01:28+00:00\", \"2020-09-08 10:01:38+00:00\", \"2020-09-08 10:01:48+00:00\", \"2020-09-08 10:01:58+00:00\", \"2020-09-08 10:02:08+00:00\", \"2020-09-08 10:02:18+00:00\", \"2020-09-08 10:02:28+00:00\", \"2020-09-08 10:02:38+00:00\", \"2020-09-08 10:02:48+00:00\", \"2020-09-08 10:02:58+00:00\", \"2020-09-08 10:03:08+00:00\", \"2020-09-08 10:03:18+00:00\", \"2020-09-08 10:03:28+00:00\", \"2020-09-08 10:03:38+00:00\", \"2020-09-08 10:03:48+00:00\", \"2020-09-08 10:03:58+00:00\", \"2020-09-08 10:04:08+00:00\", \"2020-09-08 10:04:18+00:00\", \"2020-09-08 10:04:28+00:00\", \"2020-09-08 10:04:38+00:00\", \"2020-09-08 10:04:48+00:00\", \"2020-09-08 10:04:58+00:00\", \"2020-09-08 10:05:08+00:00\", \"2020-09-08 10:05:18+00:00\", \"2020-09-08 10:05:28+00:00\", \"2020-09-08 10:05:38+00:00\", \"2020-09-08 10:05:48+00:00\", \"2020-09-08 10:05:58+00:00\", \"2020-09-08 10:06:08+00:00\", \"2020-09-08 10:06:18+00:00\", \"2020-09-08 10:06:28+00:00\", \"2020-09-08 10:06:38+00:00\", \"2020-09-08 10:06:48+00:00\", \"2020-09-08 10:06:58+00:00\", \"2020-09-08 10:07:08+00:00\", \"2020-09-08 10:07:18+00:00\", \"2020-09-08 10:07:28+00:00\", \"2020-09-08 10:07:38+00:00\", \"2020-09-08 10:07:48+00:00\", \"2020-09-08 10:07:58+00:00\", \"2020-09-08 10:08:08+00:00\", \"2020-09-08 10:08:18+00:00\", \"2020-09-08 10:08:28+00:00\", \"2020-09-08 10:08:38+00:00\", \"2020-09-08 10:08:48+00:00\", \"2020-09-08 10:08:58+00:00\", \"2020-09-08 10:09:08+00:00\", \"2020-09-08 10:09:18+00:00\", \"2020-09-08 10:09:28+00:00\", \"2020-09-08 10:09:38+00:00\", \"2020-09-08 10:09:48+00:00\", \"2020-09-08 10:09:58+00:00\", \"2020-09-08 10:10:08+00:00\", \"2020-09-08 10:10:18+00:00\", \"2020-09-08 10:10:28+00:00\", \"2020-09-08 10:10:38+00:00\", \"2020-09-08 10:10:48+00:00\", \"2020-09-08 10:10:58+00:00\", \"2020-09-08 10:11:08+00:00\", \"2020-09-08 10:11:18+00:00\", \"2020-09-08 10:11:28+00:00\", \"2020-09-08 10:11:38+00:00\", \"2020-09-08 10:11:48+00:00\", \"2020-09-08 10:11:58+00:00\", \"2020-09-08 10:12:08+00:00\", \"2020-09-08 10:12:18+00:00\", \"2020-09-08 10:12:28+00:00\", \"2020-09-08 10:12:38+00:00\", \"2020-09-08 10:12:48+00:00\", \"2020-09-08 10:12:58+00:00\", \"2020-09-08 10:13:08+00:00\", \"2020-09-08 10:13:18+00:00\", \"2020-09-08 10:13:28+00:00\", \"2020-09-08 10:13:38+00:00\", \"2020-09-08 10:13:48+00:00\", \"2020-09-08 10:13:58+00:00\", \"2020-09-08 10:14:08+00:00\", \"2020-09-08 10:14:18+00:00\", \"2020-09-08 10:14:28+00:00\", \"2020-09-08 10:14:38+00:00\", \"2020-09-08 10:14:48+00:00\", \"2020-09-08 10:14:58+00:00\", \"2020-09-08 10:15:08+00:00\", \"2020-09-08 10:15:18+00:00\", \"2020-09-08 10:15:28+00:00\", \"2020-09-08 10:15:38+00:00\", \"2020-09-08 10:15:48+00:00\", \"2020-09-08 10:15:58+00:00\", \"2020-09-08 10:16:08+00:00\", \"2020-09-08 10:16:18+00:00\", \"2020-09-08 10:16:28+00:00\", \"2020-09-08 10:16:38+00:00\", \"2020-09-08 10:16:48+00:00\", \"2020-09-08 10:16:58+00:00\", \"2020-09-08 10:17:08+00:00\", \"2020-09-08 10:17:18+00:00\", \"2020-09-08 10:17:28+00:00\", \"2020-09-08 10:17:38+00:00\", \"2020-09-08 10:17:48+00:00\", \"2020-09-08 10:17:58+00:00\", \"2020-09-08 10:18:08+00:00\", \"2020-09-08 10:18:18+00:00\", \"2020-09-08 10:18:28+00:00\", \"2020-09-08 10:18:38+00:00\", \"2020-09-08 10:18:48+00:00\", \"2020-09-08 10:18:58+00:00\", \"2020-09-08 10:19:08+00:00\", \"2020-09-08 10:19:18+00:00\", \"2020-09-08 10:19:28+00:00\", \"2020-09-08 10:19:38+00:00\", \"2020-09-08 10:19:48+00:00\", \"2020-09-08 10:19:58+00:00\", \"2020-09-08 10:20:08+00:00\", \"2020-09-08 10:20:18+00:00\", \"2020-09-08 10:20:28+00:00\", \"2020-09-08 10:20:38+00:00\", \"2020-09-08 10:20:48+00:00\", \"2020-09-08 10:20:58+00:00\", \"2020-09-08 10:21:08+00:00\", \"2020-09-08 10:21:18+00:00\", \"2020-09-08 10:21:28+00:00\", \"2020-09-08 10:21:38+00:00\", \"2020-09-08 10:21:48+00:00\", \"2020-09-08 10:21:58+00:00\", \"2020-09-08 10:22:08+00:00\", \"2020-09-08 10:22:18+00:00\", \"2020-09-08 10:22:28+00:00\", \"2020-09-08 10:22:38+00:00\", \"2020-09-08 10:22:48+00:00\", \"2020-09-08 10:22:58+00:00\", \"2020-09-08 10:23:08+00:00\", \"2020-09-08 10:23:18+00:00\", \"2020-09-08 10:23:28+00:00\", \"2020-09-08 10:23:38+00:00\", \"2020-09-08 10:23:48+00:00\", \"2020-09-08 10:23:58+00:00\", \"2020-09-08 10:24:08+00:00\", \"2020-09-08 10:24:18+00:00\", \"2020-09-08 10:24:28+00:00\", \"2020-09-08 10:24:38+00:00\", \"2020-09-08 10:24:48+00:00\", \"2020-09-08 10:24:58+00:00\", \"2020-09-08 10:25:08+00:00\", \"2020-09-08 10:25:18+00:00\", \"2020-09-08 10:25:28+00:00\", \"2020-09-08 10:25:38+00:00\", \"2020-09-08 10:25:48+00:00\", \"2020-09-08 10:25:58+00:00\", \"2020-09-08 10:26:08+00:00\", \"2020-09-08 10:26:18+00:00\", \"2020-09-08 10:26:28+00:00\", \"2020-09-08 10:26:38+00:00\", \"2020-09-08 10:26:48+00:00\", \"2020-09-08 10:26:58+00:00\", \"2020-09-08 10:27:08+00:00\", \"2020-09-08 10:27:18+00:00\", \"2020-09-08 10:27:28+00:00\", \"2020-09-08 10:27:38+00:00\", \"2020-09-08 10:27:48+00:00\", \"2020-09-08 10:27:58+00:00\", \"2020-09-08 10:28:08+00:00\", \"2020-09-08 10:28:18+00:00\", \"2020-09-08 10:28:28+00:00\", \"2020-09-08 10:28:38+00:00\", \"2020-09-08 10:28:48+00:00\", \"2020-09-08 10:28:58+00:00\", \"2020-09-08 10:29:08+00:00\", \"2020-09-08 10:29:18+00:00\", \"2020-09-08 10:29:28+00:00\", \"2020-09-08 10:29:38+00:00\", \"2020-09-08 10:29:48+00:00\", \"2020-09-08 10:29:58+00:00\", \"2020-09-08 10:30:08+00:00\", \"2020-09-08 10:30:18+00:00\", \"2020-09-08 10:30:28+00:00\", \"2020-09-08 10:30:38+00:00\", \"2020-09-08 10:30:48+00:00\", \"2020-09-08 10:30:58+00:00\", \"2020-09-08 10:31:08+00:00\", \"2020-09-08 10:31:18+00:00\", \"2020-09-08 10:31:28+00:00\", \"2020-09-08 10:31:38+00:00\", \"2020-09-08 10:31:48+00:00\", \"2020-09-08 10:31:58+00:00\", \"2020-09-08 10:32:08+00:00\", \"2020-09-08 10:32:18+00:00\", \"2020-09-08 10:32:28+00:00\", \"2020-09-08 10:32:38+00:00\", \"2020-09-08 10:32:48+00:00\", \"2020-09-08 10:32:58+00:00\", \"2020-09-08 10:33:08+00:00\", \"2020-09-08 10:33:18+00:00\", \"2020-09-08 10:33:28+00:00\", \"2020-09-08 10:33:38+00:00\", \"2020-09-08 10:33:48+00:00\", \"2020-09-08 10:33:58+00:00\", \"2020-09-08 10:34:08+00:00\", \"2020-09-08 10:34:18+00:00\", \"2020-09-08 10:34:28+00:00\", \"2020-09-08 10:34:38+00:00\", \"2020-09-08 10:34:48+00:00\", \"2020-09-08 10:34:58+00:00\", \"2020-09-08 10:35:08+00:00\", \"2020-09-08 10:35:18+00:00\", \"2020-09-08 10:35:28+00:00\", \"2020-09-08 10:35:38+00:00\", \"2020-09-08 10:35:48+00:00\", \"2020-09-08 10:35:58+00:00\", \"2020-09-08 10:36:08+00:00\", \"2020-09-08 10:36:18+00:00\", \"2020-09-08 10:36:28+00:00\", \"2020-09-08 10:36:38+00:00\", \"2020-09-08 10:36:48+00:00\", \"2020-09-08 10:36:58+00:00\", \"2020-09-08 10:37:08+00:00\", \"2020-09-08 10:37:18+00:00\", \"2020-09-08 10:37:28+00:00\", \"2020-09-08 10:37:38+00:00\", \"2020-09-08 10:37:48+00:00\", \"2020-09-08 10:37:58+00:00\", \"2020-09-08 10:38:08+00:00\", \"2020-09-08 10:38:18+00:00\", \"2020-09-08 10:38:28+00:00\", \"2020-09-08 10:38:38+00:00\", \"2020-09-08 10:38:48+00:00\", \"2020-09-08 10:38:58+00:00\", \"2020-09-08 10:39:08+00:00\", \"2020-09-08 10:39:18+00:00\", \"2020-09-08 10:39:28+00:00\", \"2020-09-08 10:39:38+00:00\", \"2020-09-08 10:39:48+00:00\", \"2020-09-08 10:39:58+00:00\", \"2020-09-08 10:40:08+00:00\", \"2020-09-08 10:40:18+00:00\", \"2020-09-08 10:40:28+00:00\", \"2020-09-08 10:40:38+00:00\", \"2020-09-08 10:40:48+00:00\", \"2020-09-08 10:40:58+00:00\", \"2020-09-08 10:41:08+00:00\", \"2020-09-08 10:41:18+00:00\", \"2020-09-08 10:41:28+00:00\", \"2020-09-08 10:41:38+00:00\", \"2020-09-08 10:41:48+00:00\", \"2020-09-08 10:41:58+00:00\", \"2020-09-08 10:42:08+00:00\", \"2020-09-08 10:42:18+00:00\", \"2020-09-08 10:42:28+00:00\", \"2020-09-08 10:42:38+00:00\", \"2020-09-08 10:42:48+00:00\", \"2020-09-08 10:42:58+00:00\", \"2020-09-08 10:43:08+00:00\", \"2020-09-08 10:43:18+00:00\", \"2020-09-08 10:43:28+00:00\", \"2020-09-08 10:43:38+00:00\", \"2020-09-08 10:43:48+00:00\", \"2020-09-08 10:43:58+00:00\", \"2020-09-08 10:44:08+00:00\", \"2020-09-08 10:44:18+00:00\", \"2020-09-08 10:44:28+00:00\", \"2020-09-08 10:44:38+00:00\", \"2020-09-08 10:44:48+00:00\", \"2020-09-08 10:44:58+00:00\", \"2020-09-08 10:45:08+00:00\", \"2020-09-08 10:45:18+00:00\", \"2020-09-08 10:45:28+00:00\", \"2020-09-08 10:45:38+00:00\", \"2020-09-08 10:45:48+00:00\", \"2020-09-08 10:45:58+00:00\", \"2020-09-08 10:46:08+00:00\", \"2020-09-08 10:46:18+00:00\", \"2020-09-08 10:46:28+00:00\", \"2020-09-08 10:46:38+00:00\", \"2020-09-08 10:46:48+00:00\", \"2020-09-08 10:46:58+00:00\", \"2020-09-08 10:47:08+00:00\", \"2020-09-08 10:47:18+00:00\", \"2020-09-08 10:47:28+00:00\", \"2020-09-08 10:47:38+00:00\", \"2020-09-08 10:47:48+00:00\", \"2020-09-08 10:47:58+00:00\", \"2020-09-08 10:48:08+00:00\", \"2020-09-08 10:48:18+00:00\", \"2020-09-08 10:48:28+00:00\", \"2020-09-08 10:48:38+00:00\", \"2020-09-08 10:48:48+00:00\", \"2020-09-08 10:48:58+00:00\", \"2020-09-08 10:49:08+00:00\", \"2020-09-08 10:49:18+00:00\", \"2020-09-08 10:49:28+00:00\", \"2020-09-08 10:49:38+00:00\", \"2020-09-08 10:49:48+00:00\", \"2020-09-08 10:49:58+00:00\", \"2020-09-08 10:50:08+00:00\", \"2020-09-08 10:50:18+00:00\", \"2020-09-08 10:50:28+00:00\", \"2020-09-08 10:50:38+00:00\", \"2020-09-08 10:50:48+00:00\", \"2020-09-08 10:50:58+00:00\", \"2020-09-08 10:51:08+00:00\", \"2020-09-08 10:51:18+00:00\", \"2020-09-08 10:51:28+00:00\", \"2020-09-08 10:51:38+00:00\", \"2020-09-08 10:51:48+00:00\", \"2020-09-08 10:51:58+00:00\", \"2020-09-08 10:52:08+00:00\", \"2020-09-08 10:52:18+00:00\", \"2020-09-08 10:52:28+00:00\", \"2020-09-08 10:52:38+00:00\", \"2020-09-08 10:52:48+00:00\", \"2020-09-08 10:52:58+00:00\", \"2020-09-08 10:53:08+00:00\", \"2020-09-08 10:53:18+00:00\", \"2020-09-08 10:53:28+00:00\", \"2020-09-08 10:53:38+00:00\", \"2020-09-08 10:53:48+00:00\", \"2020-09-08 10:53:58+00:00\", \"2020-09-08 10:54:08+00:00\", \"2020-09-08 10:54:18+00:00\", \"2020-09-08 10:54:28+00:00\", \"2020-09-08 10:54:38+00:00\", \"2020-09-08 10:54:48+00:00\", \"2020-09-08 10:54:58+00:00\", \"2020-09-08 10:55:08+00:00\", \"2020-09-08 10:55:18+00:00\", \"2020-09-08 10:55:28+00:00\", \"2020-09-08 10:55:38+00:00\", \"2020-09-08 10:55:48+00:00\", \"2020-09-08 10:55:58+00:00\", \"2020-09-08 10:56:08+00:00\", \"2020-09-08 10:56:18+00:00\", \"2020-09-08 10:56:28+00:00\", \"2020-09-08 10:56:38+00:00\", \"2020-09-08 10:56:48+00:00\", \"2020-09-08 10:56:58+00:00\", \"2020-09-08 10:57:08+00:00\", \"2020-09-08 10:57:18+00:00\", \"2020-09-08 10:57:28+00:00\", \"2020-09-08 10:57:38+00:00\", \"2020-09-08 10:57:48+00:00\", \"2020-09-08 10:57:58+00:00\", \"2020-09-08 10:58:08+00:00\", \"2020-09-08 10:58:18+00:00\", \"2020-09-08 10:58:28+00:00\", \"2020-09-08 10:58:38+00:00\", \"2020-09-08 10:58:48+00:00\", \"2020-09-08 10:58:58+00:00\", \"2020-09-08 10:59:08+00:00\", \"2020-09-08 10:59:18+00:00\", \"2020-09-08 10:59:28+00:00\", \"2020-09-08 10:59:38+00:00\", \"2020-09-08 10:59:48+00:00\", \"2020-09-08 10:59:58+00:00\", \"2020-09-08 11:00:08+00:00\", \"2020-09-08 11:00:18+00:00\", \"2020-09-08 11:00:28+00:00\", \"2020-09-08 11:00:38+00:00\", \"2020-09-08 11:00:48+00:00\", \"2020-09-08 11:00:58+00:00\", \"2020-09-08 11:01:08+00:00\", \"2020-09-08 11:01:18+00:00\", \"2020-09-08 11:01:28+00:00\", \"2020-09-08 11:01:38+00:00\", \"2020-09-08 11:01:48+00:00\", \"2020-09-08 11:01:58+00:00\", \"2020-09-08 11:02:08+00:00\", \"2020-09-08 11:02:18+00:00\", \"2020-09-08 11:02:28+00:00\", \"2020-09-08 11:02:38+00:00\", \"2020-09-08 11:02:48+00:00\", \"2020-09-08 11:02:58+00:00\", \"2020-09-08 11:03:08+00:00\", \"2020-09-08 11:03:18+00:00\", \"2020-09-08 11:03:28+00:00\", \"2020-09-08 11:03:38+00:00\", \"2020-09-08 11:03:48+00:00\", \"2020-09-08 11:03:58+00:00\", \"2020-09-08 11:04:08+00:00\", \"2020-09-08 11:04:18+00:00\", \"2020-09-08 11:04:28+00:00\", \"2020-09-08 11:04:38+00:00\", \"2020-09-08 11:04:48+00:00\", \"2020-09-08 11:04:58+00:00\", \"2020-09-08 11:05:08+00:00\", \"2020-09-08 11:05:18+00:00\", \"2020-09-08 11:05:28+00:00\", \"2020-09-08 11:05:38+00:00\", \"2020-09-08 11:05:48+00:00\", \"2020-09-08 11:05:58+00:00\", \"2020-09-08 11:06:08+00:00\", \"2020-09-08 11:06:18+00:00\", \"2020-09-08 11:06:28+00:00\", \"2020-09-08 11:06:38+00:00\", \"2020-09-08 11:06:48+00:00\", \"2020-09-08 11:06:58+00:00\", \"2020-09-08 11:07:08+00:00\", \"2020-09-08 11:07:18+00:00\", \"2020-09-08 11:07:28+00:00\", \"2020-09-08 11:07:38+00:00\", \"2020-09-08 11:07:48+00:00\", \"2020-09-08 11:07:58+00:00\", \"2020-09-08 11:08:08+00:00\", \"2020-09-08 11:08:18+00:00\", \"2020-09-08 11:08:28+00:00\", \"2020-09-08 11:08:38+00:00\", \"2020-09-08 11:08:48+00:00\", \"2020-09-08 11:08:58+00:00\", \"2020-09-08 11:09:08+00:00\", \"2020-09-08 11:09:18+00:00\", \"2020-09-08 11:09:28+00:00\", \"2020-09-08 11:09:38+00:00\", \"2020-09-08 11:09:48+00:00\", \"2020-09-08 11:09:58+00:00\", \"2020-09-08 11:10:08+00:00\", \"2020-09-08 11:10:18+00:00\", \"2020-09-08 11:10:28+00:00\", \"2020-09-08 11:10:38+00:00\", \"2020-09-08 11:10:48+00:00\", \"2020-09-08 11:10:58+00:00\", \"2020-09-08 11:11:08+00:00\", \"2020-09-08 11:11:18+00:00\", \"2020-09-08 11:11:28+00:00\", \"2020-09-08 11:11:38+00:00\", \"2020-09-08 11:11:48+00:00\", \"2020-09-08 11:11:58+00:00\", \"2020-09-08 11:12:08+00:00\", \"2020-09-08 11:12:18+00:00\", \"2020-09-08 11:12:28+00:00\", \"2020-09-08 11:12:38+00:00\", \"2020-09-08 11:12:48+00:00\", \"2020-09-08 11:12:58+00:00\", \"2020-09-08 11:13:08+00:00\", \"2020-09-08 11:13:18+00:00\", \"2020-09-08 11:13:28+00:00\", \"2020-09-08 11:13:38+00:00\", \"2020-09-08 11:13:48+00:00\", \"2020-09-08 11:13:58+00:00\", \"2020-09-08 11:14:08+00:00\", \"2020-09-08 11:14:18+00:00\", \"2020-09-08 11:14:28+00:00\", \"2020-09-08 11:14:38+00:00\", \"2020-09-08 11:14:48+00:00\", \"2020-09-08 11:14:58+00:00\", \"2020-09-08 11:15:08+00:00\", \"2020-09-08 11:15:18+00:00\", \"2020-09-08 11:15:28+00:00\", \"2020-09-08 11:15:38+00:00\", \"2020-09-08 11:15:48+00:00\", \"2020-09-08 11:15:58+00:00\", \"2020-09-08 11:16:08+00:00\", \"2020-09-08 11:16:18+00:00\", \"2020-09-08 11:16:28+00:00\", \"2020-09-08 11:16:38+00:00\", \"2020-09-08 11:16:48+00:00\", \"2020-09-08 11:16:58+00:00\", \"2020-09-08 11:17:08+00:00\", \"2020-09-08 11:17:18+00:00\", \"2020-09-08 11:17:28+00:00\", \"2020-09-08 11:17:38+00:00\", \"2020-09-08 11:17:48+00:00\", \"2020-09-08 11:17:58+00:00\", \"2020-09-08 11:18:08+00:00\", \"2020-09-08 11:18:18+00:00\", \"2020-09-08 11:18:28+00:00\", \"2020-09-08 11:18:38+00:00\", \"2020-09-08 11:18:48+00:00\", \"2020-09-08 11:18:58+00:00\", \"2020-09-08 11:19:08+00:00\", \"2020-09-08 11:19:18+00:00\", \"2020-09-08 11:19:28+00:00\", \"2020-09-08 11:19:38+00:00\", \"2020-09-08 11:19:48+00:00\", \"2020-09-08 11:19:58+00:00\", \"2020-09-08 11:20:08+00:00\", \"2020-09-08 11:20:18+00:00\", \"2020-09-08 11:20:28+00:00\", \"2020-09-08 11:20:38+00:00\", \"2020-09-08 11:20:48+00:00\", \"2020-09-08 11:20:58+00:00\", \"2020-09-08 11:21:08+00:00\", \"2020-09-08 11:21:18+00:00\", \"2020-09-08 11:21:28+00:00\", \"2020-09-08 11:21:38+00:00\", \"2020-09-08 11:21:48+00:00\", \"2020-09-08 11:21:58+00:00\", \"2020-09-08 11:22:08+00:00\", \"2020-09-08 11:22:18+00:00\", \"2020-09-08 11:22:28+00:00\", \"2020-09-08 11:22:38+00:00\", \"2020-09-08 11:22:48+00:00\", \"2020-09-08 11:22:58+00:00\", \"2020-09-08 11:23:08+00:00\", \"2020-09-08 11:23:18+00:00\", \"2020-09-08 11:23:28+00:00\", \"2020-09-08 11:23:38+00:00\", \"2020-09-08 11:23:48+00:00\", \"2020-09-08 11:23:58+00:00\", \"2020-09-08 11:24:08+00:00\", \"2020-09-08 11:24:18+00:00\", \"2020-09-08 11:24:28+00:00\", \"2020-09-08 11:24:38+00:00\", \"2020-09-08 11:24:48+00:00\", \"2020-09-08 11:24:58+00:00\", \"2020-09-08 11:25:08+00:00\", \"2020-09-08 11:25:18+00:00\", \"2020-09-08 11:25:28+00:00\", \"2020-09-08 11:25:38+00:00\", \"2020-09-08 11:25:48+00:00\", \"2020-09-08 11:25:58+00:00\", \"2020-09-08 11:26:08+00:00\", \"2020-09-08 11:26:18+00:00\", \"2020-09-08 11:26:28+00:00\", \"2020-09-08 11:26:38+00:00\", \"2020-09-08 11:26:48+00:00\", \"2020-09-08 11:26:58+00:00\", \"2020-09-08 11:27:08+00:00\", \"2020-09-08 11:27:18+00:00\", \"2020-09-08 11:27:28+00:00\", \"2020-09-08 11:27:38+00:00\", \"2020-09-08 11:27:48+00:00\", \"2020-09-08 11:27:58+00:00\", \"2020-09-08 11:28:08+00:00\", \"2020-09-08 11:28:18+00:00\", \"2020-09-08 11:28:28+00:00\", \"2020-09-08 11:28:38+00:00\", \"2020-09-08 11:28:48+00:00\", \"2020-09-08 11:28:58+00:00\", \"2020-09-08 11:29:08+00:00\", \"2020-09-08 11:29:18+00:00\", \"2020-09-08 11:29:28+00:00\", \"2020-09-08 11:29:38+00:00\", \"2020-09-08 11:29:48+00:00\", \"2020-09-08 11:29:58+00:00\", \"2020-09-08 11:30:08+00:00\", \"2020-09-08 11:30:18+00:00\", \"2020-09-08 11:30:28+00:00\", \"2020-09-08 11:30:38+00:00\", \"2020-09-08 11:30:48+00:00\", \"2020-09-08 11:30:58+00:00\", \"2020-09-08 11:31:08+00:00\", \"2020-09-08 11:31:18+00:00\", \"2020-09-08 11:31:28+00:00\", \"2020-09-08 11:31:38+00:00\", \"2020-09-08 11:31:48+00:00\", \"2020-09-08 11:31:58+00:00\", \"2020-09-08 11:32:08+00:00\", \"2020-09-08 11:32:18+00:00\", \"2020-09-08 11:32:28+00:00\", \"2020-09-08 11:32:38+00:00\", \"2020-09-08 11:32:48+00:00\", \"2020-09-08 11:32:58+00:00\", \"2020-09-08 11:33:08+00:00\", \"2020-09-08 11:33:18+00:00\", \"2020-09-08 11:33:28+00:00\", \"2020-09-08 11:33:38+00:00\", \"2020-09-08 11:33:48+00:00\", \"2020-09-08 11:33:58+00:00\", \"2020-09-08 11:34:08+00:00\", \"2020-09-08 11:34:18+00:00\", \"2020-09-08 11:34:28+00:00\", \"2020-09-08 11:34:38+00:00\", \"2020-09-08 11:34:48+00:00\", \"2020-09-08 11:34:58+00:00\", \"2020-09-08 11:35:08+00:00\", \"2020-09-08 11:35:18+00:00\", \"2020-09-08 11:35:28+00:00\", \"2020-09-08 11:35:38+00:00\", \"2020-09-08 11:35:48+00:00\", \"2020-09-08 11:35:58+00:00\", \"2020-09-08 11:36:08+00:00\", \"2020-09-08 11:36:18+00:00\", \"2020-09-08 11:36:28+00:00\", \"2020-09-08 11:36:38+00:00\", \"2020-09-08 11:36:48+00:00\", \"2020-09-08 11:36:58+00:00\", \"2020-09-08 11:37:08+00:00\", \"2020-09-08 11:37:18+00:00\", \"2020-09-08 11:37:28+00:00\", \"2020-09-08 11:37:38+00:00\", \"2020-09-08 11:37:48+00:00\", \"2020-09-08 11:37:58+00:00\", \"2020-09-08 11:38:08+00:00\", \"2020-09-08 11:38:18+00:00\", \"2020-09-08 11:38:28+00:00\", \"2020-09-08 11:38:38+00:00\", \"2020-09-08 11:38:48+00:00\", \"2020-09-08 11:38:58+00:00\", \"2020-09-08 11:39:08+00:00\", \"2020-09-08 11:39:18+00:00\", \"2020-09-08 11:39:28+00:00\", \"2020-09-08 11:39:38+00:00\", \"2020-09-08 11:39:48+00:00\", \"2020-09-08 11:39:58+00:00\", \"2020-09-08 11:40:08+00:00\", \"2020-09-08 11:40:18+00:00\", \"2020-09-08 11:40:28+00:00\", \"2020-09-08 11:40:38+00:00\", \"2020-09-08 11:40:48+00:00\", \"2020-09-08 11:40:58+00:00\", \"2020-09-08 11:41:08+00:00\", \"2020-09-08 11:41:18+00:00\", \"2020-09-08 11:41:28+00:00\", \"2020-09-08 11:41:38+00:00\", \"2020-09-08 11:41:48+00:00\", \"2020-09-08 11:41:58+00:00\", \"2020-09-08 11:42:08+00:00\", \"2020-09-08 11:42:18+00:00\", \"2020-09-08 11:42:28+00:00\", \"2020-09-08 11:42:38+00:00\", \"2020-09-08 11:42:48+00:00\", \"2020-09-08 11:42:58+00:00\", \"2020-09-08 11:43:08+00:00\", \"2020-09-08 11:43:18+00:00\", \"2020-09-08 11:43:28+00:00\", \"2020-09-08 11:43:38+00:00\", \"2020-09-08 11:43:48+00:00\", \"2020-09-08 11:43:58+00:00\", \"2020-09-08 11:44:08+00:00\", \"2020-09-08 11:44:18+00:00\", \"2020-09-08 11:44:28+00:00\", \"2020-09-08 11:44:38+00:00\", \"2020-09-08 11:44:48+00:00\", \"2020-09-08 11:44:58+00:00\", \"2020-09-08 11:45:08+00:00\", \"2020-09-08 11:45:18+00:00\", \"2020-09-08 11:45:28+00:00\", \"2020-09-08 11:45:38+00:00\", \"2020-09-08 11:45:48+00:00\", \"2020-09-08 11:45:58+00:00\", \"2020-09-08 11:46:08+00:00\", \"2020-09-08 11:46:18+00:00\", \"2020-09-08 11:46:28+00:00\", \"2020-09-08 11:46:38+00:00\", \"2020-09-08 11:46:48+00:00\", \"2020-09-08 11:46:58+00:00\", \"2020-09-08 11:47:08+00:00\", \"2020-09-08 11:47:18+00:00\", \"2020-09-08 11:47:28+00:00\", \"2020-09-08 11:47:38+00:00\", \"2020-09-08 11:47:48+00:00\", \"2020-09-08 11:47:58+00:00\", \"2020-09-08 11:48:08+00:00\", \"2020-09-08 11:48:18+00:00\", \"2020-09-08 11:48:28+00:00\", \"2020-09-08 11:48:38+00:00\", \"2020-09-08 11:48:48+00:00\", \"2020-09-08 11:48:58+00:00\", \"2020-09-08 11:49:08+00:00\", \"2020-09-08 11:49:18+00:00\", \"2020-09-08 11:49:28+00:00\", \"2020-09-08 11:49:38+00:00\", \"2020-09-08 11:49:48+00:00\", \"2020-09-08 11:49:58+00:00\", \"2020-09-08 11:50:08+00:00\", \"2020-09-08 11:50:18+00:00\", \"2020-09-08 11:50:28+00:00\", \"2020-09-08 11:50:38+00:00\", \"2020-09-08 11:50:48+00:00\", \"2020-09-08 11:50:58+00:00\", \"2020-09-08 11:51:08+00:00\", \"2020-09-08 11:51:18+00:00\", \"2020-09-08 11:51:28+00:00\", \"2020-09-08 11:51:38+00:00\", \"2020-09-08 11:51:48+00:00\", \"2020-09-08 11:51:58+00:00\", \"2020-09-08 11:52:08+00:00\", \"2020-09-08 11:52:18+00:00\", \"2020-09-08 11:52:28+00:00\", \"2020-09-08 11:52:38+00:00\", \"2020-09-08 11:52:48+00:00\", \"2020-09-08 11:52:58+00:00\", \"2020-09-08 11:53:08+00:00\", \"2020-09-08 11:53:18+00:00\", \"2020-09-08 11:53:28+00:00\", \"2020-09-08 11:53:38+00:00\", \"2020-09-08 11:53:48+00:00\", \"2020-09-08 11:53:58+00:00\", \"2020-09-08 11:54:08+00:00\", \"2020-09-08 11:54:18+00:00\", \"2020-09-08 11:54:28+00:00\", \"2020-09-08 11:54:38+00:00\", \"2020-09-08 11:54:48+00:00\", \"2020-09-08 11:54:58+00:00\", \"2020-09-08 11:55:08+00:00\", \"2020-09-08 11:55:18+00:00\", \"2020-09-08 11:55:28+00:00\", \"2020-09-08 11:55:38+00:00\", \"2020-09-08 11:55:48+00:00\", \"2020-09-08 11:55:58+00:00\", \"2020-09-08 11:56:08+00:00\", \"2020-09-08 11:56:18+00:00\", \"2020-09-08 11:56:28+00:00\", \"2020-09-08 11:56:38+00:00\", \"2020-09-08 11:56:48+00:00\", \"2020-09-08 11:56:58+00:00\", \"2020-09-08 11:57:08+00:00\", \"2020-09-08 11:57:18+00:00\", \"2020-09-08 11:57:28+00:00\", \"2020-09-08 11:57:38+00:00\", \"2020-09-08 11:57:48+00:00\", \"2020-09-08 11:57:58+00:00\", \"2020-09-08 11:58:08+00:00\", \"2020-09-08 11:58:18+00:00\", \"2020-09-08 11:58:28+00:00\", \"2020-09-08 11:58:38+00:00\", \"2020-09-08 11:58:48+00:00\", \"2020-09-08 11:58:58+00:00\", \"2020-09-08 11:59:08+00:00\", \"2020-09-08 11:59:18+00:00\", \"2020-09-08 11:59:28+00:00\", \"2020-09-08 11:59:38+00:00\", \"2020-09-08 11:59:48+00:00\", \"2020-09-08 11:59:58+00:00\", \"2020-09-08 12:00:08+00:00\", \"2020-09-08 12:00:18+00:00\", \"2020-09-08 12:00:28+00:00\", \"2020-09-08 12:00:38+00:00\", \"2020-09-08 12:00:48+00:00\", \"2020-09-08 12:00:58+00:00\", \"2020-09-08 12:01:08+00:00\", \"2020-09-08 12:01:18+00:00\", \"2020-09-08 12:01:28+00:00\", \"2020-09-08 12:01:38+00:00\", \"2020-09-08 12:01:48+00:00\", \"2020-09-08 12:01:58+00:00\", \"2020-09-08 12:02:08+00:00\", \"2020-09-08 12:02:18+00:00\", \"2020-09-08 12:02:28+00:00\", \"2020-09-08 12:02:38+00:00\", \"2020-09-08 12:02:48+00:00\", \"2020-09-08 12:02:58+00:00\", \"2020-09-08 12:03:08+00:00\", \"2020-09-08 12:03:18+00:00\", \"2020-09-08 12:03:28+00:00\", \"2020-09-08 12:03:38+00:00\", \"2020-09-08 12:03:48+00:00\", \"2020-09-08 12:03:58+00:00\", \"2020-09-08 12:04:08+00:00\", \"2020-09-08 12:04:18+00:00\", \"2020-09-08 12:04:28+00:00\", \"2020-09-08 12:04:38+00:00\", \"2020-09-08 12:04:48+00:00\", \"2020-09-08 12:04:58+00:00\", \"2020-09-08 12:05:08+00:00\", \"2020-09-08 12:05:18+00:00\", \"2020-09-08 12:05:28+00:00\", \"2020-09-08 12:05:38+00:00\", \"2020-09-08 12:05:48+00:00\", \"2020-09-08 12:05:58+00:00\", \"2020-09-08 12:06:08+00:00\", \"2020-09-08 12:06:18+00:00\", \"2020-09-08 12:06:28+00:00\", \"2020-09-08 12:06:38+00:00\", \"2020-09-08 12:06:48+00:00\", \"2020-09-08 12:06:58+00:00\", \"2020-09-08 12:07:08+00:00\", \"2020-09-08 12:07:18+00:00\", \"2020-09-08 12:07:28+00:00\", \"2020-09-08 12:07:38+00:00\", \"2020-09-08 12:07:48+00:00\", \"2020-09-08 12:07:58+00:00\", \"2020-09-08 12:08:08+00:00\", \"2020-09-08 12:08:18+00:00\", \"2020-09-08 12:08:28+00:00\", \"2020-09-08 12:08:38+00:00\", \"2020-09-08 12:08:48+00:00\", \"2020-09-08 12:08:58+00:00\", \"2020-09-08 12:09:08+00:00\", \"2020-09-08 12:09:18+00:00\"], \"type\": \"scatter\", \"x\": [45.76967647689721, 46.1972761009636, 46.62716028680915, 47.05934077597955, 47.49382901745102, 47.9306362755531, 48.369773378532486, 48.811250831142225, 49.255078918009495, 49.70126746112405, 50.149825928116364, 50.60076353167379, 51.05408899634211, 51.509810663172054, 51.96793658414955, 52.42847430022431, 52.891430941433946, 53.35681331682309, 53.82462770447934, 54.29487994769315, 54.767575538837654, 55.242719424321535, 55.72031609591414, 56.20036966825467, 56.68288370075922, 57.16786128376446, 57.655305109313844, 58.14521731185465, 58.63759954953422, 59.13245306714896, 59.62977855862068, 60.12957624231652, 60.631845916604014, 61.136586846101316, 61.64379783084549, 62.15347725418029, 62.665622995278, 63.180232491980426, 63.697302770950806, 64.21683042962738, 64.73881162974261, 65.26324217241117, 65.79011746024415, 66.31943254685467, 66.85118216080001, 67.38536071318404, 67.92196234072574, 68.46098092161141, 69.00241012050606, 69.5462434253605, 70.09247415522731, 70.64109554597042, 71.19210078102847, 71.74548299154712, 72.3012353861457, 72.85935127611386, 73.41982406835237, 73.98264744309353, 74.54781537366904, 75.11532211373726, 75.6851624263489, 76.25733159985833, 76.83182543020206, 77.40864050586636, 77.9877742214056, 78.56922475651498, 79.15299142174749, 79.73907467165219, 80.32747608372226, 80.91819876912798, 81.51124738988636, 82.10662813982398, 82.70434922814626, 83.30442090367262, 83.90685544296423, 84.51166771440943, 85.11887521615115, 85.72849807583646, 86.34055970714894, 86.95508686747462, 87.57210967987531, 88.19166239288607, 88.8137834695896, 89.43851564363852, -89.93409320144849, -89.3039898968786, -88.67111588217267, -88.03540618354408, -87.39678921423096, -86.7551865915157, -86.1105119466625, -85.462670629199, -84.81155941752117, -84.15706511977135, -83.4990641415243, -82.83742204423645, -82.17199188240839, -81.50261357701972, -80.82911325469169, -80.15130124775109, -79.46897118585929, -78.78189902531831, -78.08984059744667, -77.39253030042953, -76.68967951452699, -75.98097419243118, -75.26607199396648, -74.54460086255226, -73.81615494353122, -73.08029184750993, -72.33652961649304, -71.5843415875168, -70.8231523948614, -70.05233349663895, -69.27119626396806, -68.47898608006194, -67.6748756812215, -66.85795558822421, -66.02722528786636, -65.18158318650083, -64.31981297369487, -63.440570223834, -62.542367014186674, -61.62355189215919, -60.682289154064144, -59.716534869839386, -58.72400655722351, -57.70215051034781, -56.648103703287624, -55.558646553092224, -54.43015039038453, -53.25851581098992, -52.039097221721995, -50.76661704157953, -49.43506460332452, -48.037573748601154, -46.566282021212835, -45.012165304127365, -43.36484086868965, -41.61234238436614, -39.740861976944814, -37.734455940569724, -35.57472718084939, -33.24049576602293, -30.70748318572384, -27.9480743283408, -24.931249262099655, -21.62283503831572, -17.986324521698744, -13.984593618431107, -9.582932433908773, -4.7538252437450845, 0.5163142742532459, 6.218849594157376, 12.314533502185922, 18.727826436183207, 25.347431138683604, 32.03545628212165, 38.64438498959069, 45.03713785390598, 51.10378712991406, 56.770350779607284, 61.99900348415884, 66.78221359343259, 71.13431338214404, 75.08324776286301, 78.66391955332114, 81.91349014900182, 84.86840949865136, 87.56274552468884, -89.97260400913378, -87.71014861514952, -85.62572529590442, -83.69825522424935, -81.90942854076766, -80.24337374339285, -78.68634010832517, -77.22640670679908, -75.85322479048354, -74.55779334681594, -73.33226515262893, -72.16978158583495, -71.06433206780473, -70.01063402553181, -69.00403168300514, -68.0404102392109, -67.11612226528426, -66.22792577362542, -65.37293151107971, -64.54855720326387, -63.752489102745436, -62.98264906877949, -62.23716545909739, -61.514348780988534, -60.812670709004806, -60.13074506290651, -59.46731207040291, -58.8212247228406, -58.19143598413038, -57.576988422370185, -56.977005177608625, -56.39068109980939, -55.81727580627779, -55.25610760942806, -54.7065471893469, -54.16801288335257, -53.6399665569472, -53.12190894235387, -52.613376417168574, -52.113938173827684, -51.6231926779567, -51.140765455821494, -50.6663071527678, -50.19949075496695, -49.74001007490657, -49.28757842801014, -48.84192638414305, -48.402800744687084, -47.969963654548835, -47.54319073031665, -47.122270385218805, -46.70700325661021, -46.29720060058713, -45.89268387179275, -45.49328437940843, -45.09884187498502, -44.70920431968697, -44.32422770881509, -43.94377480172644, -43.56771502686046, -43.19592443558275, -42.82828453381015, -42.464682293870666, -42.10501020288159, -41.74916517346185, -41.397048635511254, -41.048566657178334, -40.70362891397161, -40.3621488454567, -40.024043828060506, -39.689234192395816, -39.35764342702317, -39.02919839407039, -38.70382838286054, -38.381465350568064, -38.06204417110044, -37.74550171754558, -37.431777132033204, -37.120812098743365, -36.81254995323552, -36.50693597131267, -36.20391766409794, -35.903443906126654, -35.60546524197399, -35.30993419715079, -35.01680442222935, -34.726031013402235, -34.43757083569936, -34.151381681189925, -33.86742259863086, -33.585654100042234, -33.30603784652294, -33.02853620910416, -32.753113131502374, -32.47973317753141, -32.208361877459986, -31.938966077078618, -31.671513123013632, -31.405971217495267, -31.142309767820294, -30.88049858255027, -30.620508229417077, -30.362310387537136, -30.105877052210953, -29.851180895216935, -29.598195618758222, -29.346895168520543, -29.09725409577641, -28.84924791046705, -28.602852305797732, -28.358043517458814, -28.114798678738758, -27.873095052538744, -27.63291039072073, -27.39422328866023, -27.157012425139364, -26.921256921136127, -26.686936693411976, -26.454031702513294, -26.222522308841103, -25.99238962821959, -25.76361478428064, -25.536179264804776, -25.31006527511311, -25.08525499830863, -24.861730949822697, -24.639476328563088, -24.41847428517699, -24.19870827437947, -23.98016240404779, -23.762820709746265, -23.546667507978093, -23.331687739244074, -23.11786625232764, -22.905188154507968, -22.693639151680408, -22.483204840846838, -22.273871057714953, -22.065624212074578, -21.85845059179558, -21.652336704093745, -21.447269609187487, -21.243236232368293, -21.040223701976643, -20.838219679556744, -20.637211680438273, -20.437187408253767, -20.238135081441627, -20.040042762754613, -19.842898688647928, -19.646691595036856, -19.4514100524908, -19.25704279342159, -19.063579033574598, -18.87100781611307, -18.679318334933306, -18.48850014571242, -18.29854294496268, -18.109436249672633, -17.92117013777445, -17.733734502037226, -17.547119368198956, -17.36131520129644, -17.17631227711341, -16.992100995783883, -16.808672183776704, -16.62601647468023, -16.444124618754607, -16.262987779086075, -16.08259692460981, -15.902943132441585, -15.724017880938005, -15.545812451943375, -15.368318228655742, -15.19152698409496, -15.015430292959936, -14.84001982495217, -14.66528762857384, -14.491225552963877, -14.317825535283427, -14.14507988240953, -13.97298069994538, -13.801520176255467, -13.630690859042428, -13.460485094309751, -13.290895305637614, -13.121914265846316, -12.95353454600881, -12.785748789900287, -12.618549980932043, -12.451930900077937, -12.285884397898993, -12.120403653968978, -11.955481646300235, -11.791111418122393, -11.627286332253291, -11.46399955086001, -11.301244297420014, -11.139014104807597, -10.97730230782407, -10.816102297705646, -10.655407766229425, -10.495212208488818, -10.33550917227476, -10.176292496952632, -10.017555826816027, -9.85929285528497, -9.701497558497005, -9.544163719550067, -9.387285166382382, -9.230856002181019, -9.07487013822954, -8.919321527597504, -8.764204389887519, -8.609512754989607, -8.45524069142338, -8.301382525587918, -8.14793239652016, -7.994884478833907, -7.8422331966146, -7.689972788292749, -7.538097526098359, -7.386601922368035, -7.235480306633241, -7.084727039310017, -6.934336712389668, -6.784303737827237, -6.634622555798622, -6.485287763299331, -6.33629397841174, -6.187635646131409, -6.03930749159338, -5.891304066828164, -5.7436199458292085, -5.596249908071118, -5.449188562967804, -5.302430539201229, -5.1559706623887465, -5.009803591377803, -4.86392400095915, -4.718326755259438, -4.573006554175398, -4.427958111077903, -4.283176320011239, -4.138655914072103, -3.994391637197124, -3.850378405274739, -3.7066109765848654, -3.5630841176077297, -3.4197927581260763, -3.2767316731287024, -3.133895644007364, -2.991279606004159, -2.8488783431586215, -2.7066866431980774, -2.5646994387471196, -2.4229115147016222, -2.2813176570214337, -2.1399127869916974, -1.9986916824310765, -1.8576491189063156, -1.7167799982779814, -1.5760790824152593, -1.4355411280931214, -1.2951610090831331, -1.1549334626411552, -1.0148532180174898, -0.8749151120124969, -0.7351138484859763, -0.595444119873728, -0.4559007171868446, -0.3164783015174375, -0.17717151957373825, -0.03797510681205626, 0.10111632778879046, 0.2401081928165275, 0.3790058181343197, 0.5178146566819481, 0.6565401822732477, 0.7951878001525827, 0.9337630356271969, 1.0722714378256901, 1.210718498121239, 1.3491098245597577, 1.4874510526518698, 1.6257477708638606, 1.764005681116147, 1.9022305166138096, 2.0404279745057665, 2.1786038622744823, 2.3167640226451804, 2.454914273813076, 2.5930605409473992, 2.7312087889382184, 2.8693649877785528, 3.0075351564827275, 3.145725414183676, 3.2839418600534525, 3.4221906946951166, 3.5604781677770627, 3.698810540022278, 3.8371941712623245, 3.975635475347024, 4.114140889985808, 4.252716949689302, 4.391370248314218, 4.530107416840364, 4.668935180977398, 4.807860331469235, 4.946889709932012, 5.0860302509651545, 5.225288960202874, 5.364672908524354, 5.5041892582470595, 5.64384524929545, 5.7836482017187745, 5.923605525820241, 6.063724716575562, 6.204013364607701, 6.344479149998822, 6.485129845120353, 6.625973334168242, 6.767017590518087, 6.908270687992135, 7.049740829221392, 7.191436306195727, 7.333365520194524, 7.475537019128293, 7.617959441038663, 7.760641542693018, 7.903592246447387, 8.046820566022125, 8.190335644254963, 8.334146809388345, 8.478263483075276, 8.622695227353605, 8.767451810603612, 8.912543097456599, 9.057979105202197, 9.203770079710187, 9.349926366574824, 9.496458477837983, 9.643377177397735, 9.790693333659354, 9.938417996169465, 10.086562491340636, 10.23513825595996, 10.38415692404547, 10.533630433154746, 10.683570838380755, 10.833990409794893, 10.984901749131579, 11.1363175848799, 11.288250879512816, 11.44071495780413, 11.593723281615462, 11.747289568119061, 11.901427929619851, 12.056152627850071, 12.211478202875398, 12.36741957811501, 12.523991982773136, 12.681210809214424, 12.83909196605585, 12.997651541929548, 13.156905958662268, 13.31687214916104, 13.477567245842371, 13.639008746248228, 13.80121470426832, 13.964203395281967, 14.127993496292282, 14.292604289160513, 14.458055303585322, 14.624366510531008, 14.791558539520683, 14.959652298218549, 15.128669179818305, 15.298631294956166, 15.469561067420287, 15.641481456273155, 15.814416201951955, 15.988389399712716, 16.163425734829083, 16.33955074556526, 16.516790371720806, 16.695171205544707, 16.874720771330818, 17.055467049050844, 17.237438740515106, 17.420665568831, 17.605177774026533, 17.791006397649674, 17.97818360045501, 18.166742131896378, 18.356715632946358, 18.548138973243105, 18.74104769407684, 18.935478330467355, 19.131468769193393, 19.329057663472383, 19.528284778414285, 19.72919136797454, 19.931819563943076, 20.136212743010862, 20.34241592687742, 20.550475143985906, 20.760437819997197, 20.972353202682573, 21.18627169636156, 21.402245277875615, 21.620327946360614, 21.84057503403981, 22.063043645828945, 22.287793003719045, 22.51488427180849, 22.744380216529873, 22.97634625515422, 23.210849580136347, 23.447959658015314, 23.687748779109743, 23.930291286418278, 24.175664111588816, 24.423947361968096, 24.675223525515083, 24.92957804566244, 25.187099950102027, 25.44788103362334, 25.71201647628163, 25.97960551915753, 26.250750625374216, 26.525558151483953, 26.80413907083058, 27.086608120703374, 27.373084528533443, 27.663692793875057, 27.958561824252964, 28.25782572411502, 28.561624643775495, 28.870103909888236, 29.183414887002776, 29.501715900592263, 29.82517137555047, 30.15395277551019, 30.48823961745519, 30.828218622434214, 31.174084751707127, 31.526042324956094, 31.884304196655503, 32.249092905829116, 32.62064168332597, 32.999194597342715, 33.38500644928839, 33.77834508321048, 34.179490432049285, 34.58873596038535, 35.006390223343374, 35.43277623048207, 35.86823307773978, 36.31311770892262, 36.76780439631886, 37.23268660516018, 37.70817898745045, 38.19471702492478, 38.69275916041795, 39.202789074549855, 39.72531553244493, 40.26087483005026, 40.81003340149363, 41.37338791911762, 41.951568105023185, 42.54523971277558, 43.15510493797968, 43.78190563001573, 44.42642669423006, 45.08949684054018, 45.77199222623343, 46.47484028241102, 47.199020800959445, 47.94556997849756, 48.71558460561301, 49.510223408922144, 50.33071135005029, 51.17834398372694, 52.0544887911075, 52.96058938370703, 53.89816954793743, 54.86883400498045, 55.87427175720025, 56.91625886457172, 57.99665748584784, 59.11741693007303, 60.280573383060315, 61.48824516252547, 62.74262891797727, 64.04599328601036, 65.40066688795847, 66.80902557985152, 68.27347533752534, 69.79642783344103, 71.38027294415666, 73.0273446249792, 74.73987775105434, 76.51995948374234, 78.36947221787644, 80.2900270261667, 82.28289090993268, 84.34890659634094, 86.48840649274288, 88.70112461338967, -89.01389168819684, -86.65836454410439, -84.23485846683177, -81.74683811005004, -79.19870184079821, -76.59578855879181, -73.94435179078808, -71.25149569714863, -68.5250718495063, -65.77354504219215, -63.005820322545816, -60.23105115682401, -57.45843465255821, -54.696997338445094, -51.95539622558224, -49.241740450609456, -46.563433186492624, -43.92705580119743, -41.33829021563485, -38.801869686563435, -36.32157356677243, -33.900253110987514, -31.53987252927231, -29.241578399817524, -27.00578197002541, -24.83223856164572, -22.720139244233764, -20.66820102912885, -18.674742748651035, -16.73776461161786, -14.855020120381734, -13.02407019317369, -11.242338946369145, -9.507161430301176, -7.815814592714592, -6.165551068670262, -4.5536267433806845, -2.977314112427063, -1.4339202395241215, 0.07919940020918634, 1.5646387968348476, 3.024933264777265, 4.462553820534741, 5.879911280266388, 7.279353568915425, 8.663164442936893, 10.033570497521495, 11.39274107709228, 12.742788912710292, 14.085777983030189, 15.423724273779605, 16.758596847682902, 18.092325272381363, 19.42680014553615, 20.763873604734084, 22.105365487457842, 23.453062803060206, 24.80871894574786, 26.174057875424783, 27.55077182854387, 28.940518526731296, 30.34492266770696, 31.76557115005429, 33.204007516982365, 34.66173002391056, 36.140183605926644, 37.64075083832529, 39.16474587283468, 40.71340253498154, 42.28786129399473, 43.88915873544429, 45.51821166255867, 47.17580026736098, 48.862553676572794, 50.57893106843292, 52.325202559400964, 54.10143296780647, 55.90746275429115, 57.742890422546836, 59.60705766219692, 61.49903676728626, 63.4176184729642, 65.36130708887902, 67.32831743896608, 69.31657709921788, 71.3237360015139, 73.34718002755221, 75.3840508895133, 77.4312734341475, 79.4855869678709, 81.5435817386698, 83.60174067502278, 85.65648283302467, 87.70420870304928, 89.74134682638532, -88.23560165252565, -86.23002068745474, -84.24513978514777, -82.28399987336026, -80.34942443644398, -78.44399577604997, -76.5700380908704, -74.72960658762138, -72.92448173037428, -71.15616955903786, -69.42590681263361, -67.73466948770296, -66.08318548344114, -64.4719499353861, -62.90124175820334, -61.37114219815655, -59.88155411555, -58.432220635847386, -57.02274432706912, -55.65260582607196, -54.321180706231665, -53.02775614129569, -51.77154643231669, -50.55170628962304, -49.36734376443353, -48.217531943261186, -47.10131833115491, -46.017734062564, -44.96580204129071, -43.944542891996065, -42.95298106091914, -41.99015009249329, -41.05509590582134, -40.14688055086583, -39.26458538473716, -38.407312422489206, -37.57418645567048, -36.764356792313095, -35.976997303641234, -35.211307473490386, -34.46651321033369, -33.741866064406146, -33.03664361703913, -32.35014973645434, -31.681713295888837, -31.030688188880607, -30.39645327622443, -29.778410833526568, -29.175986375024046, -28.588628294292416, -28.01580683475389, -27.457012865014445, -26.91175829031493, -26.379574166596612, -25.8600104558153, -25.35263579944471, -24.857035808857002, -24.372812858328146, -23.899585908931275, -23.436988836934894, -22.984670288436057, -22.542293563474608, -22.10953500168269, -21.68608390344805, -21.271642479338713, -20.86592429856895, -20.468654276764525, -20.079568689862807, -19.69841368333547, -19.32494532735439, -18.95892968554074, -18.600141386983353, -18.24836373784065, -17.903388843636513, -17.565016237664544, -17.233053043393422, -16.90731414153066, -16.587620854826067, -16.27380114958323, -15.9656898457603, -15.66312734840776, -15.365959886687198, -15.074039758705505, -14.787224105662984, -14.505375182645814, -14.228360632783957, -13.95605230053942, -13.688326526900035, -13.425064452556608, -13.166150861779366, -12.911474502041587, -12.660928406977389, -12.414408772260064, -12.17181529344882, -11.9330515055035, -11.69802368793632, -11.46664121747969, -11.238816921413752, -11.014466007458626, -10.79350643269423, -10.575859263164466, -10.361447630872071, -10.150197111589549, -9.942036092805699, -9.736894753883861, -9.534705451474721, -9.335403091680512, -9.138924136128304, -8.945206988477768, -8.754192373345248, -8.565822362318594, -8.380040764264375, -8.196793507404438, -8.016027684615025, -7.8376919461950045, -7.661736737062568, -7.488113948451383, -7.316776427597276, -7.147678955426826, -6.980777176752375, -6.8160279946664, -6.653389958846928, -6.492822360028877, -6.334285623866091, -6.177741698312064, -6.0231531644174545, -5.870483628933976, -5.719698110482224, -5.570762164239161, -5.423642276513477, -5.27830624489109, -5.13472232021066, -4.9928595983387245, -4.852688397647422, -4.7141794160270365, -4.577304120055834, -4.442035117606791, -4.308345333212917, -4.1762083902104825, -4.045598981803377, -3.916492060369748, -3.7888632159956974, -3.66268904380061, -3.5379463473042407, -3.4146125130590192, -3.2926658739588675, -3.1720849267963023, -3.0528487009843026, -2.9349371211160475, -2.8183302346549945, -2.703008578058829, -2.588953534471476, -2.4761465749355582, -2.364569619944865, -2.25420539244748, -2.1450366724264405, -2.037046653716078, -1.9302192924876205, -1.8245385734174724, -1.7199888649190267, -1.616555259341208, -1.5142228539313807, -1.4129771006741085, -1.3128041414348697, -1.2136901019389605, -1.1156214367548072, -1.0185852577033403, -0.9225686439120812, -0.8275589783755649, -0.7335442727128342, -0.640512489699582, -0.5484518745236285, -0.4573512742054988, -0.3671994728598821, -0.27798551757106066, -0.18969903240110664, -0.10232956661804556, -0.015866913649484095, 0.06969857744334997, 0.15437664406503807, 0.23817679514208978, 0.321108005539663, 0.40317934552778656, 0.4843996714044442, 0.564777325557033, 0.6443207533295731, 0.7230381992617904, 0.8009374125742446, 0.8780262528302468, 0.9543123890990068, 1.029803013930941, 1.1045054350643766, 1.178426780626377, 1.2515737188471447, 1.3239530372203183, 1.3955713535037395, 1.4664348412138177, 1.5365497962464043, 1.6059223534602236, 1.6745582192610706, 1.7424632231464405, 1.8096430427024768, 1.876102940755188, 1.9418483046744592, 2.0068843772301665, 2.0712160862911144, 2.134848224104998, 2.197785707176336, 2.2600329742344574, 2.321594589969145, 2.3824749876838096, 2.4426782221789995, 2.502208473543429, 2.5610697957726116, 2.6192658757200706, 2.6768005242431236, 2.7336774308219143, 2.789899928400573, 2.8454714729345763, 2.9003954018749663, 2.95467470733355, 3.008312501786092, 3.0613117829051903, 3.1136752128610707, 3.1654055712444182], \"y\": [-37.17654182688405, -37.271412354184164, -37.36411333998802, -37.45460380539342, -37.542841814691016, -37.628784036408, -37.71238652042457, -37.793604263529254, -37.87239075702001, -37.94869877761688, -38.02247994100668, -38.093684231337676, -38.16226080944738, -38.22815754967611, -38.29132055211179, -38.351694966551726, -38.40922451349971, -38.46385097383421, -38.515515032016, -38.56415577583395, -38.60971016650314, -38.65211389580949, -38.69130086499183, -38.72720263316005, -38.75974928675885, -38.788868895638814, -38.81448693728884, -38.83652717885422, -38.85491110353083, -38.8695573130878, -38.88038241545336, -38.88730042344685, -38.89022212816756, -38.88905599121386, -38.88370751184542, -38.87407856756121, -38.86006830704835, -38.841572481045645, -38.818482926601064, -38.79068773811563, -38.75807162946724, -38.72051448417976, -38.67789240681655, -38.63007697040724, -38.57693442720635, -38.51832656456297, -38.45410989968899, -38.38413482705331, -38.30824645233566, -38.22628371955949, -38.13807849021939, -38.04345633857544, -37.94223560148161, -37.83422637565622, -37.719231259793155, -37.59704431188195, -37.46744994778183, -37.330223614836356, -37.18513063218619, -37.03192497651829, -36.87034985912743, -36.700136431752995, -36.52100242890083, -36.3326526231485, -36.13477736690351, -35.92705106028482, -35.709132450279924, -35.48066297220108, -35.241265008213006, -34.99054198259031, -34.7280764663172, -34.45342817496254, -34.16613381660005, -33.865704902999056, -33.55162543693266, -33.223351454191224, -32.88030848730673, -32.52188887800744, -32.14745095819491, -31.756316101055518, -31.347765608032727, -30.921039464525727, -30.475332931367966, -30.00979296366113, -29.52351650484083, -29.01554660106787, -28.484868354299117, -27.93040678059375, -27.35102250319383, -26.74550735321613, -26.112581939644365, -25.450891158469396, -24.758999753778717, -24.03539001952794, -23.27845768399901, -22.486508156794415, -21.657755273868297, -20.790318721198535, -19.882222426652035, -18.931396124064715, -17.935676524673347, -16.892810522908597, -15.800462778210552, -14.656224448775236, -13.457625905628047, -12.202154732777847, -10.887279168392167, -9.510475824316188, -8.069267174235437, -6.561265125381152, -4.984223516970014, -3.3361015733263777, -1.6151355903953437, 0.1800795614899173, 2.050498745826379, 3.996528869879664, 6.017926250229513, 8.113691976354932, 10.281972307820686, 12.519968946668358, 14.823865880688947, 17.188781806482844, 19.608754617038727, 22.076764467440444, 24.584800638474267, 27.12397331239905, 29.684668858159288, 32.25674278807365, 34.82974076407291, 37.393135984777075, 39.93656789601067, 42.45006793353463, 44.92426000676593, 47.35052360721627, 49.72111288687452, 52.02922933846355, 54.26904647894891, 56.43569057885061, 58.525183777962475, 60.534354117159936, 62.46072018348901, 64.30235752035716, 66.05775023084837, 67.72563298883361, 69.30482738781897, 70.79407372187053, 72.19186238448107, 73.49627067953233, 74.70481357319561, 75.8143268679872, 76.82091245804665, 77.71998922260035, 78.50650818639991, 79.17539159252308, 79.72222782614537, 80.14418135505237, 80.44096127100477, 80.6155851167195, 80.6746588447572, 80.6280251810075, 80.48786466662538, 80.26752398957697, 79.98038883480044, 79.63902263134582, 79.2546449208836, 78.83691150052665, 78.39391051435582, 77.93228522363896, 77.45741471345008, 76.97360925514494, 76.4842953162273, 75.99217895040768, 75.49938441436665, 75.0075690868082, 74.51801664065242, 74.03171241149937, 73.5494037701013, 73.07164822957424, 72.5988520034546, 72.13130075102737, 71.6691840797718, 71.21261523898832, 70.76164686811879, 70.3162836409148, 69.87649245989812, 69.44221063257623, 69.01335252309212, 68.58981489212802, 68.1714811760992, 67.75822505145516, 67.34991323424602, 66.94640770423231, 66.54756764692654, 66.15325089131704, 65.76331502553448, 65.37761847378124, 64.99602118898753, 64.61838515964774, 64.24457502275412, 63.87445834308301, 63.50790578083515, 63.14479145860683, 62.78499300868861, 62.4283915518924, 62.07487193731013, 61.724322660037224, 61.376635735232426, 61.0317068774766, 60.6894353459432, 60.3497237628218, 60.012478268077075, 59.67760832646914, 59.3450265169283, 59.0146486833681, 58.68639372266618, 58.36018336081444, 58.035942310461756, 57.71359805076887, 57.39308059995867, 57.07432268359604, 56.75725951392111, 56.44182856261813, 56.127969743257644, 55.8156251923789, 55.50473904575338, 55.19525763523479, 54.88712927339553, 54.58030403459629, 54.274733965520596, 53.97037287485869, 53.66717611839677, 53.365100823588584, 53.06410568325785, 52.76415074624126, 52.46519765335707, 52.167209435767084, 51.870150310757886, 51.5739859283951, 51.27868317299569, 50.98420996529858, 50.6905355170544, 50.39763013686864, 50.105465037087065, 49.81401259569227, 49.523246166117616, 49.23313988853611, 48.94366895784139, 48.65480943703675, 48.366538073333295, 48.07883256969122, 47.791671403095606, 47.50503364378629, 47.218899230890266, 46.93324879397299, 46.648063475859615, 46.36332521130664, 46.07901655164072, 45.795120490974206, 45.51162074694314, 45.22850158898502, 44.9457477166648, 44.66334434202704, 44.38127732197502, 44.09953278812211, 43.818097481556336, 43.53695858593111, 43.25610356154327, 42.97552043060895, 42.69519761160211, 42.415123757575344, 42.13528804039249, 41.85567998777604, 41.57628932440561, 41.297106255314304, 41.018121305460454, 40.73932516353889, 40.46070896410389, 40.18226412949776, 39.90398221699375, 39.625855197937454, 39.34787530338649, 39.070034873355006, 38.79232663394829, 38.51474354556503, 38.23727865458566, 37.959925368293064, 37.68267730546712, 37.40552815065541, 37.12847192634683, 36.851502846629124, 36.5746151727495, 36.29780348368342, 36.021062531575744, 35.744387100001866, 35.46777227140404, 35.191213284992145, 34.91470539747111, 34.63824414727191, 34.361825214773404, 34.08544428561394, 33.809097311826065, 33.53278037339387, 33.25648954533275, 32.98022115448074, 32.70397164366141, 32.42773744133039, 32.15151521447301, 31.8753017351516, 31.599093753301382, 31.32288824443078, 31.046682279840514, 30.770472901414387, 30.494257365275892, 30.218033014519133, 29.941797156590635, 29.66554730266455, 29.389281042896176, 29.112995926411728, 28.836689696170872, 28.56036016731104, 28.28400510866362, 28.00762247420062, 27.73121028338541, 27.454766505444827, 27.17828928619748, 26.901776830978, 26.62522732842442, 26.34863902489683, 26.072010331956726, 25.795339567617823, 25.51862521130709, 25.241865790985255, 24.965059776334833, 24.688205791209374, 24.411302503503094, 24.134348521007905, 23.857342598929055, 23.580283532321324, 23.303170055093318, 23.026001041593567, 22.74877540265128, 22.471491986800874, 22.194149776924462, 21.916747788957142, 21.639284975819795, 21.361760418965854, 21.084173229768737, 20.806522456168196, 20.528807268991834, 20.25102686645309, 19.973180382684284, 19.69526706970938, 19.417286204214967, 19.13923699892935, 18.861118779335555, 18.58293089315886, 18.30467262451915, 18.026343365340082, 17.74794252756414, 17.46946946001507, 17.190923614839647, 16.912304461708544, 16.633611408228475, 16.354843960615426, 16.076001640744508, 15.797083909348403, 15.518090321266804, 15.239020445217761, 14.959873790131374, 14.680649954256936, 14.401348548423991, 14.121969124820982, 13.842511320710559, 13.562974784476014, 13.283359107212444, 13.003663960948122, 12.723889027487086, 12.44403393282195, 12.164098379772161, 11.884082079928227, 11.60398469030681, 11.323805941027956, 11.043545569768467, 10.763203261345565, 10.482778769785037, 10.202271855604904, 9.921682228276872, 9.641009662656069, 9.360253939105917, 9.079414788797697, 8.798492004722645, 8.517485384172767, 8.23639467743664, 7.95521969286058, 7.67396024226154, 7.39261609251501, 7.1111870648922935, 6.829672983326997, 6.548073644252827, 6.266388848898054, 5.984618446670287, 5.702762231033068, 5.420820042414151, 5.138791722707963, 4.856677075581961, 4.574475948145557, 4.292188188360264, 4.009813608279687, 3.7273520598777785, 3.4448033955409043, 3.1621674339289663, 2.8794440302924924, 2.596633039723255, 2.3137342860328745, 2.0307476261781217, 1.747672916457025, 1.4645099843852876, 1.181258687199476, 0.8979188810113702, 0.6144903956743679, 0.33097308744670223, 0.04736681088807449, -0.2363286030101492, -0.520113300281508, -0.8039874290475344, -1.087951158368871, -1.3720046377231825, -1.656148019055019, -1.9403814725151827, -2.2247051521489354, -2.5091192147433303, -2.7936238326091622, -3.0782191653110598, -3.3629053754861715, -3.647682638551818, -3.932551120541258, -4.217510990869195, -4.502562428950713, -4.787705608183898, -5.072940705621447, -5.358267905530275, -5.643687389503968, -5.929199343084411, -6.214803956160538, -6.5005014193281765, -6.786291927406871, -7.07217567665983, -7.358152867447368, -7.644223704618634, -7.930388391522279, -8.216647139032766, -8.503000162730732, -8.789447673749649, -9.075989894171395, -9.362627051013037, -9.649359363853657, -9.936187066664822, -10.223110398576749, -10.51012958825722, -10.797244882232022, -11.084456532389554, -11.371764777164719, -11.659169876241224, -11.946672094944303, -12.234271689496419, -12.521968918911071, -12.809764069653337, -13.097657401462303, -13.385649202326107, -13.673739766419732, -13.961929364977843, -14.250218301136798, -14.538606884435636, -14.827095398281887, -15.115684161586639, -15.404373499903912, -15.693163709432463, -15.982055125516574, -16.271048090385687, -16.560142913623597, -16.84933994778514, -17.138639552343157, -17.428042050976675, -17.71754781404143, -18.00715721904325, -18.2968706043855, -18.586688358926793, -18.87661087892489, -19.16663851818371, -19.45677168479687, -19.74701079446162, -20.037356217229444, -20.327808381039244, -20.618367721886194, -20.909034626663136, -21.199809544069744, -21.490692931148864, -21.78168519238682, -22.072786798002674, -22.36399822708206, -22.65531990231548, -22.94675231639552, -23.238295971146297, -23.52995130843424, -23.821718844249514, -24.113599104041192, -24.405592549693495, -24.697699721400774, -24.98992116915689, -25.282257375662365, -25.574708906465194, -25.867276336843187, -26.159960171341417, -26.452761001629703, -26.745679429445598, -27.038715982028762, -27.331871278159944, -27.625145947035893, -27.918540539521292, -28.21205570251742, -28.505692093608477, -28.79945028847979, -29.093330962916163, -29.38733480407385, -29.681462413156538, -29.97571449608947, -30.270091770535824, -30.564594864138336, -30.85922451386834, -31.15398146917348, -31.44886642031033, -31.743880065814395, -32.03902322265709, -32.334296573672795, -32.62970092103806, -32.925237079999185, -33.220905762287515, -33.51670780390174, -33.812644054204945, -34.10871525433793, -34.40492227514151, -34.701266000390774, -34.99774720131581, -35.29436678378036, -35.59112566673032, -35.888024651608845, -36.185064679570466, -36.482246704901684, -36.77957155919775, -37.077040218852844, -37.37465367319165, -37.67241278390193, -37.97031856176847, -38.26837203078705, -38.56657408142384, -38.86492575823634, -39.16342811857422, -39.4620820801056, -39.76088871935328, -40.059849125520905, -40.358964240674766, -40.65823517105758, -40.957663034460246, -41.25724879436532, -41.55699358298721, -41.85689854267727, -42.156964653659394, -42.4571930691388, -42.75758495051917, -43.05814128831923, -43.35886325052006, -43.659752009719405, -43.9608085587441, -44.26203407100724, -44.563429721065575, -44.864996493052736, -45.16673555421939, -45.46864806843721, -45.77073499711742, -46.07299748633424, -46.37543667275634, -46.67805347760461, -46.98084900590646, -47.28382434652843, -47.586980427925425, -47.89031814874264, -48.193838593224285, -48.49754252565041, -48.80143088889651, -49.105504588734036, -49.40976425833224, -49.714210703939784, -50.018844678999706, -50.323666638777105, -50.6286772017525, -50.9338769138907, -51.23926599243432, -51.544844803416, -51.85061361528951, -52.15657233077673, -52.46272098206026, -52.769059470376476, -53.07558728759878, -53.38230402692772, -53.689209110069044, -53.996301494728925, -54.303580202318024, -54.61104403097596, -54.9186912475861, -55.22652013242706, -55.53452867610884, -55.84271425558979, -56.151074192826606, -56.4596054365316, -56.76830421717019, -57.07716662196629, -57.386188256223626, -57.695363875686034, -58.004687976610555, -58.31415443332848, -58.623756217537036, -58.93348554983062, -59.243334185849946, -59.55329253945985, -59.863350411587355, -60.17349656622221, -60.483718264849934, -60.794001890576055, -61.10433248328242, -61.41469322807226, -61.72506608248296, -62.03543125763744, -62.34576665390393, -62.65604847945145, -62.96625066843076, -63.276344246196906, -63.58629792913972, -63.89607746251254, -64.20564489619369, -64.51495914913991, -64.82397524353578, -65.13264346772635, -65.44090987765156, -65.74871540119092, -66.05599484988272, -66.36267732930607, -66.66868516826031, -66.97393273549054, -67.27832671400793, -67.58176480006452, -67.88413426421072, -68.1853120289638, -68.48516306801116, -68.78353862763858, -69.08027603488179, -69.37519670019995, -69.66810390602922, -69.95878224302186, -70.24699510834716, -70.53248194518005, -70.81495719973721, -71.09410719074879, -71.36958669045083, -71.64101729556218, -71.907983577979, -72.17002892583359, -72.42665329254487, -72.6773086229572, -72.92139400529041, -73.1582529277959, -73.38716819389829, -73.6073567181419, -73.81796675405677, -74.01807293373467, -74.20667151466303, -74.38267860311565, -74.54492653795586, -74.69216103041313, -74.82304199785118, -74.93614304269411, -75.02995228746175, -75.1028775240412, -75.15325026090771, -75.17933126323051, -75.17932032050676, -75.15136422373214, -75.09356554037858, -75.00399251535606, -74.88068830459311, -74.72167508827204, -74.52495977456537, -74.28853266234087, -74.01036148755847, -73.68838290318703, -73.32048530258116, -72.90448565365288, -72.43810283740942, -71.91892226616338, -71.34435485379679, -70.7115929265056, -70.01755840386298, -69.25884618490248, -68.43166493427734, -67.53177098300044, -66.55439798568, -65.49418437127851, -64.34509534689664, -63.10034287255534, -61.752307130249946, -60.292459806814975, -58.7112967993079, -56.99829007181827, -55.14186896029826, -53.12945097584966, -50.947548339553656, -48.58198249374337, -46.01825119859301, -43.242099914522505, -40.240351228312754, -37.00204088519748, -33.51988173860541, -29.792021901026942, -25.82397426710084, -21.63047326499249, -17.236890336936323, -12.679761765959325, -8.0060204739403, -3.270728926921112, 1.4665390080567744, 6.146130311157207, 10.712760762590058, 15.119176185434934, 19.328476329944756, 23.31493793252153, 27.06352993756142, 30.56852359011001, 33.831645383221094, 36.86014590925246, 39.665032354163735, 42.25959313692601, 44.65825038322225, 46.875719272365004, 48.92642867768027, 50.82414751133208, 52.581763992731695, 54.21117586082637, 55.72325609705999, 57.12786717141979, 58.433906884186456, 59.64937166661419, 60.781427427135384, 61.836483945408204, 62.820268117680754, 63.73789295911937, 64.593922981706, 65.39243445429246, 66.13706962915377, 66.83108679325026, 67.47740543824456, 68.07864668667982, 68.63716967119083, 69.15510506932776, 69.63438423296853, 70.07676613511416, 70.48386153754329, 70.85715405548842, 71.19801953967493, 71.50774323562383, 71.78753439426785, 72.03853949813487, 72.26185359722402, 72.4585294894346, 72.62958571362401, 72.77601295014968, 72.89877866996616, 72.99883085175216, 73.07710048588926, 73.1345028252175, 73.17193805262488, 73.19029119400372, 73.19043132022405, 73.17321053694775, 73.13946265743017, 73.09000164161215, 73.02562010734226, 72.9470878438001, 72.85515041818367, 72.75052799460327, 72.63391431805586, 72.5059759569825, 72.36735176387701, 72.21865253538944, 72.0604609762221, 71.89333180395263, 71.71779201379668, 71.5343414295737, 71.34345328806745, 71.14557491913791, 70.94112867560675, 70.73051279387857, 70.51410229165397, 70.29225008244798, 70.06528794092978, 69.83352746154365, 69.59726121532192, 69.35676370009135, 69.11229225882961, 68.86408818851065, 68.61237760631032, 68.35737227210574, 68.0992706023484, 67.83825842050076, 67.57450966092517, 67.30818727017375, 67.03944383334847, 66.76842215785658, 66.49525606087478, 66.22007087857327, 65.94298393776025, 65.66410523852089, 65.38353785893771, 65.10137832868435, 64.81771721861129, 64.53263945683678, 64.24622464583423, 63.95854746384292, 63.669678070499316, 63.37968221809772, 63.08862172337088, 62.79655464805357, 62.50353546325599, 62.20961543864439, 61.91484277407132, 61.619262717862306, 61.32291791106389, 61.025848479213685, 60.728092114519924, 60.42968438228736, 60.13065878130898, 59.83104679736393, 59.530878178245445, 59.230180969373116, 58.92898154462182, 58.62730485549645, 58.32517444660109, 58.02261246945398, 57.71963990929545, 57.41627658545933, 57.112541151401835, 56.80845130284194, 56.504023766323115, 56.199274288918105, 55.89421782974426, 55.588868540154024, 55.28323974497933, 54.97734412028417, 54.67119366672351, 54.36479968464534, 54.05817293975036, 53.751323631354246, 53.44426136295753, 53.136995297133666, 52.829534120376366, 52.521886009854, 52.21405877926504, 51.906059840815914, 51.59789616982067, 51.28957444184893, 50.98110099302258, 50.67248178322098, 50.36372252526352, 50.05482864424077, 49.74580523993167, 49.43665720887556, 49.12738920282635, 48.81800559144449, 48.508510577265376, 48.19890815429216, 47.88920207088095, 47.57939593827435, 47.26949318961341, 46.9594970435683, 46.64941060635691, 46.33923683195222, 46.02897848628425, 45.71863824354142, 45.40821864735641, 45.09772207602171, 44.787150833286475, 44.47650711073218, 44.16579296713199, 43.855010361613445, 43.544161196469155, 43.2332472316, 42.92227017855047, 42.61123166560882, 42.300133206674445, 41.988976277044884, 41.677762280048924, 41.366492517449295, 41.05516826043702, 40.743790717870134, 40.43236100824761, 40.12088022618908, 39.80934941205003, 39.49776952586076, 39.18614150901207, 38.87446625576826, 38.56274458875357, 38.25097731634783, 37.93916520577212, 37.627308960482516, 37.31540927298886, 37.00346679994786, 36.69148214113896, 36.37945588810717, 36.06738860101851, 35.75528078935822, 35.44313295645633, 35.13094557811932, 34.818719085046496, 34.50645390331564, 34.194150434864746, 33.88180904146891, 33.569430081442555, 33.25701389180171, 32.944560773985714, 32.632071026680485, 32.31954492973626, 32.00698273161502, 31.694384678403136, 31.38175099947689, 31.069081896650527, 30.75637756950754, 30.443638202690305, 30.130863956857592, 29.818054990282395, 29.505211447891135, 29.192333453887173, 28.879421129747307, 28.566474584970162, 28.253493911384755, 27.940479197545034, 27.627430521242633, 27.314347945404435, 27.00123152904255, 26.68808132142643, 26.374897359594385, 26.061679675905992, 25.748428293860236, 25.435143227196345, 25.121824484112036, 24.80847206470617, 24.495085961642086, 24.181666161099255, 23.868212641807737, 23.554725377271332, 23.24120433349253, 22.92764946958133, 22.614060741519125, 22.30043809671204, 21.986781476154302, 21.673090819711046, 21.359366057534686, 21.045607113807968, 20.73181391346844, 20.41798637058911, 20.10412439363668, 19.790227893647227, 19.476296769614187, 19.162330915233174, 18.848330228515444, 18.534294594225138, 18.22022389211357, 17.906118007879947, 17.59197681282661, 17.2778001734369, 16.963587963762404, 16.649340042246447, 16.33505626271684, 16.020736483549797, 15.706380559882472, 15.391988328944857, 15.077559643089685, 14.763094336612328, 14.44859223947399, 14.134053193803613, 13.81947702247414, 13.504863544156802, 13.190212591112388, 12.875523975159796, 12.560797504036083, 12.246033000469339, 11.931230265504537, 11.616389096320137, 11.301509306364188, 10.986590686264615, 10.671633022891367, 10.356636120697022, 10.04159976018095]}],\n",
       "                        {\"template\": {\"data\": {\"bar\": [{\"error_x\": {\"color\": \"#2a3f5f\"}, \"error_y\": {\"color\": \"#2a3f5f\"}, \"marker\": {\"line\": {\"color\": \"#E5ECF6\", \"width\": 0.5}}, \"type\": \"bar\"}], \"barpolar\": [{\"marker\": {\"line\": {\"color\": \"#E5ECF6\", \"width\": 0.5}}, \"type\": \"barpolar\"}], \"carpet\": [{\"aaxis\": {\"endlinecolor\": \"#2a3f5f\", \"gridcolor\": \"white\", \"linecolor\": \"white\", \"minorgridcolor\": \"white\", \"startlinecolor\": \"#2a3f5f\"}, \"baxis\": {\"endlinecolor\": \"#2a3f5f\", \"gridcolor\": \"white\", \"linecolor\": \"white\", \"minorgridcolor\": \"white\", \"startlinecolor\": \"#2a3f5f\"}, \"type\": \"carpet\"}], \"choropleth\": [{\"colorbar\": {\"outlinewidth\": 0, \"ticks\": \"\"}, \"type\": \"choropleth\"}], \"contour\": [{\"colorbar\": {\"outlinewidth\": 0, \"ticks\": \"\"}, \"colorscale\": [[0.0, \"#0d0887\"], [0.1111111111111111, \"#46039f\"], [0.2222222222222222, \"#7201a8\"], [0.3333333333333333, \"#9c179e\"], [0.4444444444444444, \"#bd3786\"], [0.5555555555555556, \"#d8576b\"], [0.6666666666666666, \"#ed7953\"], [0.7777777777777778, \"#fb9f3a\"], [0.8888888888888888, \"#fdca26\"], [1.0, \"#f0f921\"]], \"type\": \"contour\"}], \"contourcarpet\": [{\"colorbar\": {\"outlinewidth\": 0, \"ticks\": \"\"}, \"type\": \"contourcarpet\"}], \"heatmap\": [{\"colorbar\": {\"outlinewidth\": 0, \"ticks\": \"\"}, \"colorscale\": [[0.0, \"#0d0887\"], [0.1111111111111111, \"#46039f\"], [0.2222222222222222, \"#7201a8\"], [0.3333333333333333, \"#9c179e\"], [0.4444444444444444, \"#bd3786\"], [0.5555555555555556, \"#d8576b\"], [0.6666666666666666, \"#ed7953\"], [0.7777777777777778, \"#fb9f3a\"], [0.8888888888888888, \"#fdca26\"], [1.0, \"#f0f921\"]], \"type\": \"heatmap\"}], \"heatmapgl\": [{\"colorbar\": {\"outlinewidth\": 0, \"ticks\": \"\"}, \"colorscale\": [[0.0, \"#0d0887\"], [0.1111111111111111, \"#46039f\"], [0.2222222222222222, \"#7201a8\"], [0.3333333333333333, \"#9c179e\"], [0.4444444444444444, \"#bd3786\"], [0.5555555555555556, \"#d8576b\"], [0.6666666666666666, \"#ed7953\"], [0.7777777777777778, \"#fb9f3a\"], [0.8888888888888888, \"#fdca26\"], [1.0, \"#f0f921\"]], \"type\": \"heatmapgl\"}], \"histogram\": [{\"marker\": {\"colorbar\": {\"outlinewidth\": 0, \"ticks\": \"\"}}, \"type\": \"histogram\"}], \"histogram2d\": [{\"colorbar\": {\"outlinewidth\": 0, \"ticks\": \"\"}, \"colorscale\": [[0.0, \"#0d0887\"], [0.1111111111111111, \"#46039f\"], [0.2222222222222222, \"#7201a8\"], [0.3333333333333333, \"#9c179e\"], [0.4444444444444444, \"#bd3786\"], [0.5555555555555556, \"#d8576b\"], [0.6666666666666666, \"#ed7953\"], [0.7777777777777778, \"#fb9f3a\"], [0.8888888888888888, \"#fdca26\"], [1.0, \"#f0f921\"]], \"type\": \"histogram2d\"}], \"histogram2dcontour\": [{\"colorbar\": {\"outlinewidth\": 0, \"ticks\": \"\"}, \"colorscale\": [[0.0, \"#0d0887\"], [0.1111111111111111, \"#46039f\"], [0.2222222222222222, \"#7201a8\"], [0.3333333333333333, \"#9c179e\"], [0.4444444444444444, \"#bd3786\"], [0.5555555555555556, \"#d8576b\"], [0.6666666666666666, \"#ed7953\"], [0.7777777777777778, \"#fb9f3a\"], [0.8888888888888888, \"#fdca26\"], [1.0, \"#f0f921\"]], \"type\": \"histogram2dcontour\"}], \"mesh3d\": [{\"colorbar\": {\"outlinewidth\": 0, \"ticks\": \"\"}, \"type\": \"mesh3d\"}], \"parcoords\": [{\"line\": {\"colorbar\": {\"outlinewidth\": 0, \"ticks\": \"\"}}, \"type\": \"parcoords\"}], \"pie\": [{\"automargin\": true, \"type\": \"pie\"}], \"scatter\": [{\"marker\": {\"colorbar\": {\"outlinewidth\": 0, \"ticks\": \"\"}}, \"type\": \"scatter\"}], \"scatter3d\": [{\"line\": {\"colorbar\": {\"outlinewidth\": 0, \"ticks\": \"\"}}, \"marker\": {\"colorbar\": {\"outlinewidth\": 0, \"ticks\": \"\"}}, \"type\": \"scatter3d\"}], \"scattercarpet\": [{\"marker\": {\"colorbar\": {\"outlinewidth\": 0, \"ticks\": \"\"}}, \"type\": \"scattercarpet\"}], \"scattergeo\": [{\"marker\": {\"colorbar\": {\"outlinewidth\": 0, \"ticks\": \"\"}}, \"type\": \"scattergeo\"}], \"scattergl\": [{\"marker\": {\"colorbar\": {\"outlinewidth\": 0, \"ticks\": \"\"}}, \"type\": \"scattergl\"}], \"scattermapbox\": [{\"marker\": {\"colorbar\": {\"outlinewidth\": 0, \"ticks\": \"\"}}, \"type\": \"scattermapbox\"}], \"scatterpolar\": [{\"marker\": {\"colorbar\": {\"outlinewidth\": 0, \"ticks\": \"\"}}, \"type\": \"scatterpolar\"}], \"scatterpolargl\": [{\"marker\": {\"colorbar\": {\"outlinewidth\": 0, \"ticks\": \"\"}}, \"type\": \"scatterpolargl\"}], \"scatterternary\": [{\"marker\": {\"colorbar\": {\"outlinewidth\": 0, \"ticks\": \"\"}}, \"type\": \"scatterternary\"}], \"surface\": [{\"colorbar\": {\"outlinewidth\": 0, \"ticks\": \"\"}, \"colorscale\": [[0.0, \"#0d0887\"], [0.1111111111111111, \"#46039f\"], [0.2222222222222222, \"#7201a8\"], [0.3333333333333333, \"#9c179e\"], [0.4444444444444444, \"#bd3786\"], [0.5555555555555556, \"#d8576b\"], [0.6666666666666666, \"#ed7953\"], [0.7777777777777778, \"#fb9f3a\"], [0.8888888888888888, \"#fdca26\"], [1.0, \"#f0f921\"]], \"type\": \"surface\"}], \"table\": [{\"cells\": {\"fill\": {\"color\": \"#EBF0F8\"}, \"line\": {\"color\": \"white\"}}, \"header\": {\"fill\": {\"color\": \"#C8D4E3\"}, \"line\": {\"color\": \"white\"}}, \"type\": \"table\"}]}, \"layout\": {\"annotationdefaults\": {\"arrowcolor\": \"#2a3f5f\", \"arrowhead\": 0, \"arrowwidth\": 1}, \"coloraxis\": {\"colorbar\": {\"outlinewidth\": 0, \"ticks\": \"\"}}, \"colorscale\": {\"diverging\": [[0, \"#8e0152\"], [0.1, \"#c51b7d\"], [0.2, \"#de77ae\"], [0.3, \"#f1b6da\"], [0.4, \"#fde0ef\"], [0.5, \"#f7f7f7\"], [0.6, \"#e6f5d0\"], [0.7, \"#b8e186\"], [0.8, \"#7fbc41\"], [0.9, \"#4d9221\"], [1, \"#276419\"]], \"sequential\": [[0.0, \"#0d0887\"], [0.1111111111111111, \"#46039f\"], [0.2222222222222222, \"#7201a8\"], [0.3333333333333333, \"#9c179e\"], [0.4444444444444444, \"#bd3786\"], [0.5555555555555556, \"#d8576b\"], [0.6666666666666666, \"#ed7953\"], [0.7777777777777778, \"#fb9f3a\"], [0.8888888888888888, \"#fdca26\"], [1.0, \"#f0f921\"]], \"sequentialminus\": [[0.0, \"#0d0887\"], [0.1111111111111111, \"#46039f\"], [0.2222222222222222, \"#7201a8\"], [0.3333333333333333, \"#9c179e\"], [0.4444444444444444, \"#bd3786\"], [0.5555555555555556, \"#d8576b\"], [0.6666666666666666, \"#ed7953\"], [0.7777777777777778, \"#fb9f3a\"], [0.8888888888888888, \"#fdca26\"], [1.0, \"#f0f921\"]]}, \"colorway\": [\"#636efa\", \"#EF553B\", \"#00cc96\", \"#ab63fa\", \"#FFA15A\", \"#19d3f3\", \"#FF6692\", \"#B6E880\", \"#FF97FF\", \"#FECB52\"], \"font\": {\"color\": \"#2a3f5f\"}, \"geo\": {\"bgcolor\": \"white\", \"lakecolor\": \"white\", \"landcolor\": \"#E5ECF6\", \"showlakes\": true, \"showland\": true, \"subunitcolor\": \"white\"}, \"hoverlabel\": {\"align\": \"left\"}, \"hovermode\": \"closest\", \"mapbox\": {\"style\": \"light\"}, \"paper_bgcolor\": \"white\", \"plot_bgcolor\": \"#E5ECF6\", \"polar\": {\"angularaxis\": {\"gridcolor\": \"white\", \"linecolor\": \"white\", \"ticks\": \"\"}, \"bgcolor\": \"#E5ECF6\", \"radialaxis\": {\"gridcolor\": \"white\", \"linecolor\": \"white\", \"ticks\": \"\"}}, \"scene\": {\"xaxis\": {\"backgroundcolor\": \"#E5ECF6\", \"gridcolor\": \"white\", \"gridwidth\": 2, \"linecolor\": \"white\", \"showbackground\": true, \"ticks\": \"\", \"zerolinecolor\": \"white\"}, \"yaxis\": {\"backgroundcolor\": \"#E5ECF6\", \"gridcolor\": \"white\", \"gridwidth\": 2, \"linecolor\": \"white\", \"showbackground\": true, \"ticks\": \"\", \"zerolinecolor\": \"white\"}, \"zaxis\": {\"backgroundcolor\": \"#E5ECF6\", \"gridcolor\": \"white\", \"gridwidth\": 2, \"linecolor\": \"white\", \"showbackground\": true, \"ticks\": \"\", \"zerolinecolor\": \"white\"}}, \"shapedefaults\": {\"line\": {\"color\": \"#2a3f5f\"}}, \"ternary\": {\"aaxis\": {\"gridcolor\": \"white\", \"linecolor\": \"white\", \"ticks\": \"\"}, \"baxis\": {\"gridcolor\": \"white\", \"linecolor\": \"white\", \"ticks\": \"\"}, \"bgcolor\": \"#E5ECF6\", \"caxis\": {\"gridcolor\": \"white\", \"linecolor\": \"white\", \"ticks\": \"\"}}, \"title\": {\"x\": 0.05}, \"xaxis\": {\"automargin\": true, \"gridcolor\": \"white\", \"linecolor\": \"white\", \"ticks\": \"\", \"title\": {\"standoff\": 15}, \"zerolinecolor\": \"white\", \"zerolinewidth\": 2}, \"yaxis\": {\"automargin\": true, \"gridcolor\": \"white\", \"linecolor\": \"white\", \"ticks\": \"\", \"title\": {\"standoff\": 15}, \"zerolinecolor\": \"white\", \"zerolinewidth\": 2}}}, \"title\": {\"text\": \"Start Title\"}, \"transition\": {\"duration\": 1}, \"updatemenus\": [{\"buttons\": [{\"args\": [null, {\"frame\": {\"duration\": 100}}], \"label\": \"Play\", \"method\": \"animate\"}], \"type\": \"buttons\"}], \"xaxis\": {\"autorange\": false, \"range\": [-90, 90]}, \"yaxis\": {\"autorange\": false, \"range\": [-90, 90]}},\n",
       "                        {\"responsive\": true}\n",
       "                    ).then(function(){\n",
       "                            Plotly.addFrames('831e7f21-7184-4e35-a4f4-f23d44e3dddf', [{\"data\": [{\"text\": \"2020-09-08 09:36:48+00:00\", \"x\": [-89.93409320144849], \"y\": [-29.52351650484083], \"type\": \"scatter\"}]}, {\"data\": [{\"text\": \"2020-09-08 09:36:58+00:00\", \"x\": [-89.3039898968786], \"y\": [-29.01554660106787], \"type\": \"scatter\"}]}, {\"data\": [{\"text\": \"2020-09-08 09:37:08+00:00\", \"x\": [-88.67111588217267], \"y\": [-28.484868354299117], \"type\": \"scatter\"}]}, {\"data\": [{\"text\": \"2020-09-08 09:37:18+00:00\", \"x\": [-88.03540618354408], \"y\": [-27.93040678059375], \"type\": \"scatter\"}]}, {\"data\": [{\"text\": \"2020-09-08 09:37:28+00:00\", \"x\": [-87.39678921423096], \"y\": [-27.35102250319383], \"type\": \"scatter\"}]}, {\"data\": [{\"text\": \"2020-09-08 09:37:38+00:00\", \"x\": [-86.7551865915157], \"y\": [-26.74550735321613], \"type\": \"scatter\"}]}, {\"data\": [{\"text\": \"2020-09-08 09:37:48+00:00\", \"x\": [-86.1105119466625], \"y\": [-26.112581939644365], \"type\": \"scatter\"}]}, {\"data\": [{\"text\": \"2020-09-08 09:37:58+00:00\", \"x\": [-85.462670629199], \"y\": [-25.450891158469396], \"type\": \"scatter\"}]}, {\"data\": [{\"text\": \"2020-09-08 09:38:08+00:00\", \"x\": [-84.81155941752117], \"y\": [-24.758999753778717], \"type\": \"scatter\"}]}, {\"data\": [{\"text\": \"2020-09-08 09:38:18+00:00\", \"x\": [-84.15706511977135], \"y\": [-24.03539001952794], \"type\": \"scatter\"}]}, {\"data\": [{\"text\": \"2020-09-08 09:38:28+00:00\", \"x\": [-83.4990641415243], \"y\": [-23.27845768399901], \"type\": \"scatter\"}]}, {\"data\": [{\"text\": \"2020-09-08 09:38:38+00:00\", \"x\": [-82.83742204423645], \"y\": [-22.486508156794415], \"type\": \"scatter\"}]}, {\"data\": [{\"text\": \"2020-09-08 09:38:48+00:00\", \"x\": [-82.17199188240839], \"y\": [-21.657755273868297], \"type\": \"scatter\"}]}, {\"data\": [{\"text\": \"2020-09-08 09:38:58+00:00\", \"x\": [-81.50261357701972], \"y\": [-20.790318721198535], \"type\": \"scatter\"}]}, {\"data\": [{\"text\": \"2020-09-08 09:39:08+00:00\", \"x\": [-80.82911325469169], \"y\": [-19.882222426652035], \"type\": \"scatter\"}]}, {\"data\": [{\"text\": \"2020-09-08 09:39:18+00:00\", \"x\": [-80.15130124775109], \"y\": [-18.931396124064715], \"type\": \"scatter\"}]}, {\"data\": [{\"text\": \"2020-09-08 09:39:28+00:00\", \"x\": [-79.46897118585929], \"y\": [-17.935676524673347], \"type\": \"scatter\"}]}, {\"data\": [{\"text\": \"2020-09-08 09:39:38+00:00\", \"x\": [-78.78189902531831], \"y\": [-16.892810522908597], \"type\": \"scatter\"}]}, {\"data\": [{\"text\": \"2020-09-08 09:39:48+00:00\", \"x\": [-78.08984059744667], \"y\": [-15.800462778210552], \"type\": \"scatter\"}]}, {\"data\": [{\"text\": \"2020-09-08 09:39:58+00:00\", \"x\": [-77.39253030042953], \"y\": [-14.656224448775236], \"type\": \"scatter\"}]}, {\"data\": [{\"text\": \"2020-09-08 09:40:08+00:00\", \"x\": [-76.68967951452699], \"y\": [-13.457625905628047], \"type\": \"scatter\"}]}, {\"data\": [{\"text\": \"2020-09-08 09:40:18+00:00\", \"x\": [-75.98097419243118], \"y\": [-12.202154732777847], \"type\": \"scatter\"}]}, {\"data\": [{\"text\": \"2020-09-08 09:40:28+00:00\", \"x\": [-75.26607199396648], \"y\": [-10.887279168392167], \"type\": \"scatter\"}]}, {\"data\": [{\"text\": \"2020-09-08 09:40:38+00:00\", \"x\": [-74.54460086255226], \"y\": [-9.510475824316188], \"type\": \"scatter\"}]}, {\"data\": [{\"text\": \"2020-09-08 09:40:48+00:00\", \"x\": [-73.81615494353122], \"y\": [-8.069267174235437], \"type\": \"scatter\"}]}, {\"data\": [{\"text\": \"2020-09-08 09:40:58+00:00\", \"x\": [-73.08029184750993], \"y\": [-6.561265125381152], \"type\": \"scatter\"}]}, {\"data\": [{\"text\": \"2020-09-08 09:41:08+00:00\", \"x\": [-72.33652961649304], \"y\": [-4.984223516970014], \"type\": \"scatter\"}]}, {\"data\": [{\"text\": \"2020-09-08 09:41:18+00:00\", \"x\": [-71.5843415875168], \"y\": [-3.3361015733263777], \"type\": \"scatter\"}]}, {\"data\": [{\"text\": \"2020-09-08 09:41:28+00:00\", \"x\": [-70.8231523948614], \"y\": [-1.6151355903953437], \"type\": \"scatter\"}]}, {\"data\": [{\"text\": \"2020-09-08 09:41:38+00:00\", \"x\": [-70.05233349663895], \"y\": [0.1800795614899173], \"type\": \"scatter\"}]}, {\"data\": [{\"text\": \"2020-09-08 09:41:48+00:00\", \"x\": [-69.27119626396806], \"y\": [2.050498745826379], \"type\": \"scatter\"}]}, {\"data\": [{\"text\": \"2020-09-08 09:41:58+00:00\", \"x\": [-68.47898608006194], \"y\": [3.996528869879664], \"type\": \"scatter\"}]}, {\"data\": [{\"text\": \"2020-09-08 09:42:08+00:00\", \"x\": [-67.6748756812215], \"y\": [6.017926250229513], \"type\": \"scatter\"}]}, {\"data\": [{\"text\": \"2020-09-08 09:42:18+00:00\", \"x\": [-66.85795558822421], \"y\": [8.113691976354932], \"type\": \"scatter\"}]}, {\"data\": [{\"text\": \"2020-09-08 09:42:28+00:00\", \"x\": [-66.02722528786636], \"y\": [10.281972307820686], \"type\": \"scatter\"}]}, {\"data\": [{\"text\": \"2020-09-08 09:42:38+00:00\", \"x\": [-65.18158318650083], \"y\": [12.519968946668358], \"type\": \"scatter\"}]}, {\"data\": [{\"text\": \"2020-09-08 09:42:48+00:00\", \"x\": [-64.31981297369487], \"y\": [14.823865880688947], \"type\": \"scatter\"}]}, {\"data\": [{\"text\": \"2020-09-08 09:42:58+00:00\", \"x\": [-63.440570223834], \"y\": [17.188781806482844], \"type\": \"scatter\"}]}, {\"data\": [{\"text\": \"2020-09-08 09:43:08+00:00\", \"x\": [-62.542367014186674], \"y\": [19.608754617038727], \"type\": \"scatter\"}]}, {\"data\": [{\"text\": \"2020-09-08 09:43:18+00:00\", \"x\": [-61.62355189215919], \"y\": [22.076764467440444], \"type\": \"scatter\"}]}, {\"data\": [{\"text\": \"2020-09-08 09:43:28+00:00\", \"x\": [-60.682289154064144], \"y\": [24.584800638474267], \"type\": \"scatter\"}]}, {\"data\": [{\"text\": \"2020-09-08 09:43:38+00:00\", \"x\": [-59.716534869839386], \"y\": [27.12397331239905], \"type\": \"scatter\"}]}, {\"data\": [{\"text\": \"2020-09-08 09:43:48+00:00\", \"x\": [-58.72400655722351], \"y\": [29.684668858159288], \"type\": \"scatter\"}]}, {\"data\": [{\"text\": \"2020-09-08 09:43:58+00:00\", \"x\": [-57.70215051034781], \"y\": [32.25674278807365], \"type\": \"scatter\"}]}, {\"data\": [{\"text\": \"2020-09-08 09:44:08+00:00\", \"x\": [-56.648103703287624], \"y\": [34.82974076407291], \"type\": \"scatter\"}]}, {\"data\": [{\"text\": \"2020-09-08 09:44:18+00:00\", \"x\": [-55.558646553092224], \"y\": [37.393135984777075], \"type\": \"scatter\"}]}, {\"data\": [{\"text\": \"2020-09-08 09:44:28+00:00\", \"x\": [-54.43015039038453], \"y\": [39.93656789601067], \"type\": \"scatter\"}]}, {\"data\": [{\"text\": \"2020-09-08 09:44:38+00:00\", \"x\": [-53.25851581098992], \"y\": [42.45006793353463], \"type\": \"scatter\"}]}, {\"data\": [{\"text\": \"2020-09-08 09:44:48+00:00\", \"x\": [-52.039097221721995], \"y\": [44.92426000676593], \"type\": \"scatter\"}]}, {\"data\": [{\"text\": \"2020-09-08 09:44:58+00:00\", \"x\": [-50.76661704157953], \"y\": [47.35052360721627], \"type\": \"scatter\"}]}, {\"data\": [{\"text\": \"2020-09-08 09:45:08+00:00\", \"x\": [-49.43506460332452], \"y\": [49.72111288687452], \"type\": \"scatter\"}]}, {\"data\": [{\"text\": \"2020-09-08 09:45:18+00:00\", \"x\": [-48.037573748601154], \"y\": [52.02922933846355], \"type\": \"scatter\"}]}, {\"data\": [{\"text\": \"2020-09-08 09:45:28+00:00\", \"x\": [-46.566282021212835], \"y\": [54.26904647894891], \"type\": \"scatter\"}]}, {\"data\": [{\"text\": \"2020-09-08 09:45:38+00:00\", \"x\": [-45.012165304127365], \"y\": [56.43569057885061], \"type\": \"scatter\"}]}, {\"data\": [{\"text\": \"2020-09-08 09:45:48+00:00\", \"x\": [-43.36484086868965], \"y\": [58.525183777962475], \"type\": \"scatter\"}]}, {\"data\": [{\"text\": \"2020-09-08 09:45:58+00:00\", \"x\": [-41.61234238436614], \"y\": [60.534354117159936], \"type\": \"scatter\"}]}, {\"data\": [{\"text\": \"2020-09-08 09:46:08+00:00\", \"x\": [-39.740861976944814], \"y\": [62.46072018348901], \"type\": \"scatter\"}]}, {\"data\": [{\"text\": \"2020-09-08 09:46:18+00:00\", \"x\": [-37.734455940569724], \"y\": [64.30235752035716], \"type\": \"scatter\"}]}, {\"data\": [{\"text\": \"2020-09-08 09:46:28+00:00\", \"x\": [-35.57472718084939], \"y\": [66.05775023084837], \"type\": \"scatter\"}]}, {\"data\": [{\"text\": \"2020-09-08 09:46:38+00:00\", \"x\": [-33.24049576602293], \"y\": [67.72563298883361], \"type\": \"scatter\"}]}, {\"data\": [{\"text\": \"2020-09-08 09:46:48+00:00\", \"x\": [-30.70748318572384], \"y\": [69.30482738781897], \"type\": \"scatter\"}]}, {\"data\": [{\"text\": \"2020-09-08 09:46:58+00:00\", \"x\": [-27.9480743283408], \"y\": [70.79407372187053], \"type\": \"scatter\"}]}, {\"data\": [{\"text\": \"2020-09-08 09:47:08+00:00\", \"x\": [-24.931249262099655], \"y\": [72.19186238448107], \"type\": \"scatter\"}]}, {\"data\": [{\"text\": \"2020-09-08 09:47:18+00:00\", \"x\": [-21.62283503831572], \"y\": [73.49627067953233], \"type\": \"scatter\"}]}, {\"data\": [{\"text\": \"2020-09-08 09:47:28+00:00\", \"x\": [-17.986324521698744], \"y\": [74.70481357319561], \"type\": \"scatter\"}]}, {\"data\": [{\"text\": \"2020-09-08 09:47:38+00:00\", \"x\": [-13.984593618431107], \"y\": [75.8143268679872], \"type\": \"scatter\"}]}, {\"data\": [{\"text\": \"2020-09-08 09:47:48+00:00\", \"x\": [-9.582932433908773], \"y\": [76.82091245804665], \"type\": \"scatter\"}]}, {\"data\": [{\"text\": \"2020-09-08 09:47:58+00:00\", \"x\": [-4.7538252437450845], \"y\": [77.71998922260035], \"type\": \"scatter\"}]}, {\"data\": [{\"text\": \"2020-09-08 09:48:08+00:00\", \"x\": [0.5163142742532459], \"y\": [78.50650818639991], \"type\": \"scatter\"}]}, {\"data\": [{\"text\": \"2020-09-08 09:48:18+00:00\", \"x\": [6.218849594157376], \"y\": [79.17539159252308], \"type\": \"scatter\"}]}, {\"data\": [{\"text\": \"2020-09-08 09:48:28+00:00\", \"x\": [12.314533502185922], \"y\": [79.72222782614537], \"type\": \"scatter\"}]}, {\"data\": [{\"text\": \"2020-09-08 09:48:38+00:00\", \"x\": [18.727826436183207], \"y\": [80.14418135505237], \"type\": \"scatter\"}]}, {\"data\": [{\"text\": \"2020-09-08 09:48:48+00:00\", \"x\": [25.347431138683604], \"y\": [80.44096127100477], \"type\": \"scatter\"}]}, {\"data\": [{\"text\": \"2020-09-08 09:48:58+00:00\", \"x\": [32.03545628212165], \"y\": [80.6155851167195], \"type\": \"scatter\"}]}, {\"data\": [{\"text\": \"2020-09-08 09:49:08+00:00\", \"x\": [38.64438498959069], \"y\": [80.6746588447572], \"type\": \"scatter\"}]}, {\"data\": [{\"text\": \"2020-09-08 09:49:18+00:00\", \"x\": [45.03713785390598], \"y\": [80.6280251810075], \"type\": \"scatter\"}]}, {\"data\": [{\"text\": \"2020-09-08 09:49:28+00:00\", \"x\": [51.10378712991406], \"y\": [80.48786466662538], \"type\": \"scatter\"}]}, {\"data\": [{\"text\": \"2020-09-08 09:49:38+00:00\", \"x\": [56.770350779607284], \"y\": [80.26752398957697], \"type\": \"scatter\"}]}, {\"data\": [{\"text\": \"2020-09-08 09:49:48+00:00\", \"x\": [61.99900348415884], \"y\": [79.98038883480044], \"type\": \"scatter\"}]}, {\"data\": [{\"text\": \"2020-09-08 09:49:58+00:00\", \"x\": [66.78221359343259], \"y\": [79.63902263134582], \"type\": \"scatter\"}]}, {\"data\": [{\"text\": \"2020-09-08 09:50:08+00:00\", \"x\": [71.13431338214404], \"y\": [79.2546449208836], \"type\": \"scatter\"}]}, {\"data\": [{\"text\": \"2020-09-08 09:50:18+00:00\", \"x\": [75.08324776286301], \"y\": [78.83691150052665], \"type\": \"scatter\"}]}, {\"data\": [{\"text\": \"2020-09-08 09:50:28+00:00\", \"x\": [78.66391955332114], \"y\": [78.39391051435582], \"type\": \"scatter\"}]}, {\"data\": [{\"text\": \"2020-09-08 09:50:38+00:00\", \"x\": [81.91349014900182], \"y\": [77.93228522363896], \"type\": \"scatter\"}]}, {\"data\": [{\"text\": \"2020-09-08 09:50:48+00:00\", \"x\": [84.86840949865136], \"y\": [77.45741471345008], \"type\": \"scatter\"}]}, {\"data\": [{\"text\": \"2020-09-08 09:50:58+00:00\", \"x\": [87.56274552468884], \"y\": [76.97360925514494], \"type\": \"scatter\"}]}, {\"data\": [{\"text\": \"2020-09-08 11:16:08+00:00\", \"x\": [-89.01389168819684], \"y\": [-75.02995228746175], \"type\": \"scatter\"}]}, {\"data\": [{\"text\": \"2020-09-08 11:16:18+00:00\", \"x\": [-86.65836454410439], \"y\": [-75.1028775240412], \"type\": \"scatter\"}]}, {\"data\": [{\"text\": \"2020-09-08 11:16:28+00:00\", \"x\": [-84.23485846683177], \"y\": [-75.15325026090771], \"type\": \"scatter\"}]}, {\"data\": [{\"text\": \"2020-09-08 11:16:38+00:00\", \"x\": [-81.74683811005004], \"y\": [-75.17933126323051], \"type\": \"scatter\"}]}, {\"data\": [{\"text\": \"2020-09-08 11:16:48+00:00\", \"x\": [-79.19870184079821], \"y\": [-75.17932032050676], \"type\": \"scatter\"}]}, {\"data\": [{\"text\": \"2020-09-08 11:16:58+00:00\", \"x\": [-76.59578855879181], \"y\": [-75.15136422373214], \"type\": \"scatter\"}]}, {\"data\": [{\"text\": \"2020-09-08 11:17:08+00:00\", \"x\": [-73.94435179078808], \"y\": [-75.09356554037858], \"type\": \"scatter\"}]}, {\"data\": [{\"text\": \"2020-09-08 11:17:18+00:00\", \"x\": [-71.25149569714863], \"y\": [-75.00399251535606], \"type\": \"scatter\"}]}, {\"data\": [{\"text\": \"2020-09-08 11:17:28+00:00\", \"x\": [-68.5250718495063], \"y\": [-74.88068830459311], \"type\": \"scatter\"}]}, {\"data\": [{\"text\": \"2020-09-08 11:17:38+00:00\", \"x\": [-65.77354504219215], \"y\": [-74.72167508827204], \"type\": \"scatter\"}]}, {\"data\": [{\"text\": \"2020-09-08 11:17:48+00:00\", \"x\": [-63.005820322545816], \"y\": [-74.52495977456537], \"type\": \"scatter\"}]}, {\"data\": [{\"text\": \"2020-09-08 11:17:58+00:00\", \"x\": [-60.23105115682401], \"y\": [-74.28853266234087], \"type\": \"scatter\"}]}, {\"data\": [{\"text\": \"2020-09-08 11:18:08+00:00\", \"x\": [-57.45843465255821], \"y\": [-74.01036148755847], \"type\": \"scatter\"}]}, {\"data\": [{\"text\": \"2020-09-08 11:18:18+00:00\", \"x\": [-54.696997338445094], \"y\": [-73.68838290318703], \"type\": \"scatter\"}]}, {\"data\": [{\"text\": \"2020-09-08 11:18:28+00:00\", \"x\": [-51.95539622558224], \"y\": [-73.32048530258116], \"type\": \"scatter\"}]}, {\"data\": [{\"text\": \"2020-09-08 11:18:38+00:00\", \"x\": [-49.241740450609456], \"y\": [-72.90448565365288], \"type\": \"scatter\"}]}, {\"data\": [{\"text\": \"2020-09-08 11:18:48+00:00\", \"x\": [-46.563433186492624], \"y\": [-72.43810283740942], \"type\": \"scatter\"}]}, {\"data\": [{\"text\": \"2020-09-08 11:18:58+00:00\", \"x\": [-43.92705580119743], \"y\": [-71.91892226616338], \"type\": \"scatter\"}]}, {\"data\": [{\"text\": \"2020-09-08 11:19:08+00:00\", \"x\": [-41.33829021563485], \"y\": [-71.34435485379679], \"type\": \"scatter\"}]}, {\"data\": [{\"text\": \"2020-09-08 11:19:18+00:00\", \"x\": [-38.801869686563435], \"y\": [-70.7115929265056], \"type\": \"scatter\"}]}, {\"data\": [{\"text\": \"2020-09-08 11:19:28+00:00\", \"x\": [-36.32157356677243], \"y\": [-70.01755840386298], \"type\": \"scatter\"}]}, {\"data\": [{\"text\": \"2020-09-08 11:19:38+00:00\", \"x\": [-33.900253110987514], \"y\": [-69.25884618490248], \"type\": \"scatter\"}]}, {\"data\": [{\"text\": \"2020-09-08 11:19:48+00:00\", \"x\": [-31.53987252927231], \"y\": [-68.43166493427734], \"type\": \"scatter\"}]}, {\"data\": [{\"text\": \"2020-09-08 11:19:58+00:00\", \"x\": [-29.241578399817524], \"y\": [-67.53177098300044], \"type\": \"scatter\"}]}, {\"data\": [{\"text\": \"2020-09-08 11:20:08+00:00\", \"x\": [-27.00578197002541], \"y\": [-66.55439798568], \"type\": \"scatter\"}]}, {\"data\": [{\"text\": \"2020-09-08 11:20:18+00:00\", \"x\": [-24.83223856164572], \"y\": [-65.49418437127851], \"type\": \"scatter\"}]}, {\"data\": [{\"text\": \"2020-09-08 11:20:28+00:00\", \"x\": [-22.720139244233764], \"y\": [-64.34509534689664], \"type\": \"scatter\"}]}, {\"data\": [{\"text\": \"2020-09-08 11:20:38+00:00\", \"x\": [-20.66820102912885], \"y\": [-63.10034287255534], \"type\": \"scatter\"}]}, {\"data\": [{\"text\": \"2020-09-08 11:20:48+00:00\", \"x\": [-18.674742748651035], \"y\": [-61.752307130249946], \"type\": \"scatter\"}]}, {\"data\": [{\"text\": \"2020-09-08 11:20:58+00:00\", \"x\": [-16.73776461161786], \"y\": [-60.292459806814975], \"type\": \"scatter\"}]}, {\"data\": [{\"text\": \"2020-09-08 11:21:08+00:00\", \"x\": [-14.855020120381734], \"y\": [-58.7112967993079], \"type\": \"scatter\"}]}, {\"data\": [{\"text\": \"2020-09-08 11:21:18+00:00\", \"x\": [-13.02407019317369], \"y\": [-56.99829007181827], \"type\": \"scatter\"}]}, {\"data\": [{\"text\": \"2020-09-08 11:21:28+00:00\", \"x\": [-11.242338946369145], \"y\": [-55.14186896029826], \"type\": \"scatter\"}]}, {\"data\": [{\"text\": \"2020-09-08 11:21:38+00:00\", \"x\": [-9.507161430301176], \"y\": [-53.12945097584966], \"type\": \"scatter\"}]}, {\"data\": [{\"text\": \"2020-09-08 11:21:48+00:00\", \"x\": [-7.815814592714592], \"y\": [-50.947548339553656], \"type\": \"scatter\"}]}, {\"data\": [{\"text\": \"2020-09-08 11:21:58+00:00\", \"x\": [-6.165551068670262], \"y\": [-48.58198249374337], \"type\": \"scatter\"}]}, {\"data\": [{\"text\": \"2020-09-08 11:22:08+00:00\", \"x\": [-4.5536267433806845], \"y\": [-46.01825119859301], \"type\": \"scatter\"}]}, {\"data\": [{\"text\": \"2020-09-08 11:22:18+00:00\", \"x\": [-2.977314112427063], \"y\": [-43.242099914522505], \"type\": \"scatter\"}]}, {\"data\": [{\"text\": \"2020-09-08 11:22:28+00:00\", \"x\": [-1.4339202395241215], \"y\": [-40.240351228312754], \"type\": \"scatter\"}]}, {\"data\": [{\"text\": \"2020-09-08 11:22:38+00:00\", \"x\": [0.07919940020918634], \"y\": [-37.00204088519748], \"type\": \"scatter\"}]}, {\"data\": [{\"text\": \"2020-09-08 11:22:48+00:00\", \"x\": [1.5646387968348476], \"y\": [-33.51988173860541], \"type\": \"scatter\"}]}, {\"data\": [{\"text\": \"2020-09-08 11:22:58+00:00\", \"x\": [3.024933264777265], \"y\": [-29.792021901026942], \"type\": \"scatter\"}]}, {\"data\": [{\"text\": \"2020-09-08 11:23:08+00:00\", \"x\": [4.462553820534741], \"y\": [-25.82397426710084], \"type\": \"scatter\"}]}, {\"data\": [{\"text\": \"2020-09-08 11:23:18+00:00\", \"x\": [5.879911280266388], \"y\": [-21.63047326499249], \"type\": \"scatter\"}]}, {\"data\": [{\"text\": \"2020-09-08 11:23:28+00:00\", \"x\": [7.279353568915425], \"y\": [-17.236890336936323], \"type\": \"scatter\"}]}, {\"data\": [{\"text\": \"2020-09-08 11:23:38+00:00\", \"x\": [8.663164442936893], \"y\": [-12.679761765959325], \"type\": \"scatter\"}]}, {\"data\": [{\"text\": \"2020-09-08 11:23:48+00:00\", \"x\": [10.033570497521495], \"y\": [-8.0060204739403], \"type\": \"scatter\"}]}, {\"data\": [{\"text\": \"2020-09-08 11:23:58+00:00\", \"x\": [11.39274107709228], \"y\": [-3.270728926921112], \"type\": \"scatter\"}]}, {\"data\": [{\"text\": \"2020-09-08 11:24:08+00:00\", \"x\": [12.742788912710292], \"y\": [1.4665390080567744], \"type\": \"scatter\"}]}, {\"data\": [{\"text\": \"2020-09-08 11:24:18+00:00\", \"x\": [14.085777983030189], \"y\": [6.146130311157207], \"type\": \"scatter\"}]}, {\"data\": [{\"text\": \"2020-09-08 11:24:28+00:00\", \"x\": [15.423724273779605], \"y\": [10.712760762590058], \"type\": \"scatter\"}]}, {\"data\": [{\"text\": \"2020-09-08 11:24:38+00:00\", \"x\": [16.758596847682902], \"y\": [15.119176185434934], \"type\": \"scatter\"}]}, {\"data\": [{\"text\": \"2020-09-08 11:24:48+00:00\", \"x\": [18.092325272381363], \"y\": [19.328476329944756], \"type\": \"scatter\"}]}, {\"data\": [{\"text\": \"2020-09-08 11:24:58+00:00\", \"x\": [19.42680014553615], \"y\": [23.31493793252153], \"type\": \"scatter\"}]}, {\"data\": [{\"text\": \"2020-09-08 11:25:08+00:00\", \"x\": [20.763873604734084], \"y\": [27.06352993756142], \"type\": \"scatter\"}]}, {\"data\": [{\"text\": \"2020-09-08 11:25:18+00:00\", \"x\": [22.105365487457842], \"y\": [30.56852359011001], \"type\": \"scatter\"}]}, {\"data\": [{\"text\": \"2020-09-08 11:25:28+00:00\", \"x\": [23.453062803060206], \"y\": [33.831645383221094], \"type\": \"scatter\"}]}, {\"data\": [{\"text\": \"2020-09-08 11:25:38+00:00\", \"x\": [24.80871894574786], \"y\": [36.86014590925246], \"type\": \"scatter\"}]}, {\"data\": [{\"text\": \"2020-09-08 11:25:48+00:00\", \"x\": [26.174057875424783], \"y\": [39.665032354163735], \"type\": \"scatter\"}]}, {\"data\": [{\"text\": \"2020-09-08 11:25:58+00:00\", \"x\": [27.55077182854387], \"y\": [42.25959313692601], \"type\": \"scatter\"}]}, {\"data\": [{\"text\": \"2020-09-08 11:26:08+00:00\", \"x\": [28.940518526731296], \"y\": [44.65825038322225], \"type\": \"scatter\"}]}, {\"data\": [{\"text\": \"2020-09-08 11:26:18+00:00\", \"x\": [30.34492266770696], \"y\": [46.875719272365004], \"type\": \"scatter\"}]}, {\"data\": [{\"text\": \"2020-09-08 11:26:28+00:00\", \"x\": [31.76557115005429], \"y\": [48.92642867768027], \"type\": \"scatter\"}]}, {\"data\": [{\"text\": \"2020-09-08 11:26:38+00:00\", \"x\": [33.204007516982365], \"y\": [50.82414751133208], \"type\": \"scatter\"}]}, {\"data\": [{\"text\": \"2020-09-08 11:26:48+00:00\", \"x\": [34.66173002391056], \"y\": [52.581763992731695], \"type\": \"scatter\"}]}, {\"data\": [{\"text\": \"2020-09-08 11:26:58+00:00\", \"x\": [36.140183605926644], \"y\": [54.21117586082637], \"type\": \"scatter\"}]}, {\"data\": [{\"text\": \"2020-09-08 11:27:08+00:00\", \"x\": [37.64075083832529], \"y\": [55.72325609705999], \"type\": \"scatter\"}]}, {\"data\": [{\"text\": \"2020-09-08 11:27:18+00:00\", \"x\": [39.16474587283468], \"y\": [57.12786717141979], \"type\": \"scatter\"}]}, {\"data\": [{\"text\": \"2020-09-08 11:27:28+00:00\", \"x\": [40.71340253498154], \"y\": [58.433906884186456], \"type\": \"scatter\"}]}, {\"data\": [{\"text\": \"2020-09-08 11:27:38+00:00\", \"x\": [42.28786129399473], \"y\": [59.64937166661419], \"type\": \"scatter\"}]}, {\"data\": [{\"text\": \"2020-09-08 11:27:48+00:00\", \"x\": [43.88915873544429], \"y\": [60.781427427135384], \"type\": \"scatter\"}]}, {\"data\": [{\"text\": \"2020-09-08 11:27:58+00:00\", \"x\": [45.51821166255867], \"y\": [61.836483945408204], \"type\": \"scatter\"}]}, {\"data\": [{\"text\": \"2020-09-08 11:28:08+00:00\", \"x\": [47.17580026736098], \"y\": [62.820268117680754], \"type\": \"scatter\"}]}, {\"data\": [{\"text\": \"2020-09-08 11:28:18+00:00\", \"x\": [48.862553676572794], \"y\": [63.73789295911937], \"type\": \"scatter\"}]}, {\"data\": [{\"text\": \"2020-09-08 11:28:28+00:00\", \"x\": [50.57893106843292], \"y\": [64.593922981706], \"type\": \"scatter\"}]}, {\"data\": [{\"text\": \"2020-09-08 11:28:38+00:00\", \"x\": [52.325202559400964], \"y\": [65.39243445429246], \"type\": \"scatter\"}]}, {\"data\": [{\"text\": \"2020-09-08 11:28:48+00:00\", \"x\": [54.10143296780647], \"y\": [66.13706962915377], \"type\": \"scatter\"}]}, {\"data\": [{\"text\": \"2020-09-08 11:28:58+00:00\", \"x\": [55.90746275429115], \"y\": [66.83108679325026], \"type\": \"scatter\"}]}, {\"data\": [{\"text\": \"2020-09-08 11:29:08+00:00\", \"x\": [57.742890422546836], \"y\": [67.47740543824456], \"type\": \"scatter\"}]}, {\"data\": [{\"text\": \"2020-09-08 11:29:18+00:00\", \"x\": [59.60705766219692], \"y\": [68.07864668667982], \"type\": \"scatter\"}]}, {\"data\": [{\"text\": \"2020-09-08 11:29:28+00:00\", \"x\": [61.49903676728626], \"y\": [68.63716967119083], \"type\": \"scatter\"}]}, {\"data\": [{\"text\": \"2020-09-08 11:29:38+00:00\", \"x\": [63.4176184729642], \"y\": [69.15510506932776], \"type\": \"scatter\"}]}, {\"data\": [{\"text\": \"2020-09-08 11:29:48+00:00\", \"x\": [65.36130708887902], \"y\": [69.63438423296853], \"type\": \"scatter\"}]}, {\"data\": [{\"text\": \"2020-09-08 11:29:58+00:00\", \"x\": [67.32831743896608], \"y\": [70.07676613511416], \"type\": \"scatter\"}]}, {\"data\": [{\"text\": \"2020-09-08 11:30:08+00:00\", \"x\": [69.31657709921788], \"y\": [70.48386153754329], \"type\": \"scatter\"}]}, {\"data\": [{\"text\": \"2020-09-08 11:30:18+00:00\", \"x\": [71.3237360015139], \"y\": [70.85715405548842], \"type\": \"scatter\"}]}, {\"data\": [{\"text\": \"2020-09-08 11:30:28+00:00\", \"x\": [73.34718002755221], \"y\": [71.19801953967493], \"type\": \"scatter\"}]}, {\"data\": [{\"text\": \"2020-09-08 11:30:38+00:00\", \"x\": [75.3840508895133], \"y\": [71.50774323562383], \"type\": \"scatter\"}]}, {\"data\": [{\"text\": \"2020-09-08 11:30:48+00:00\", \"x\": [77.4312734341475], \"y\": [71.78753439426785], \"type\": \"scatter\"}]}, {\"data\": [{\"text\": \"2020-09-08 11:30:58+00:00\", \"x\": [79.4855869678709], \"y\": [72.03853949813487], \"type\": \"scatter\"}]}, {\"data\": [{\"text\": \"2020-09-08 11:31:08+00:00\", \"x\": [81.5435817386698], \"y\": [72.26185359722402], \"type\": \"scatter\"}]}, {\"data\": [{\"text\": \"2020-09-08 11:31:18+00:00\", \"x\": [83.60174067502278], \"y\": [72.4585294894346], \"type\": \"scatter\"}]}, {\"data\": [{\"text\": \"2020-09-08 11:31:28+00:00\", \"x\": [85.65648283302467], \"y\": [72.62958571362401], \"type\": \"scatter\"}]}, {\"data\": [{\"text\": \"2020-09-08 11:31:38+00:00\", \"x\": [87.70420870304928], \"y\": [72.77601295014968], \"type\": \"scatter\"}]}, {\"data\": [{\"text\": \"2020-09-08 11:31:48+00:00\", \"x\": [89.74134682638532], \"y\": [72.89877866996616], \"type\": \"scatter\"}]}]);\n",
       "                        }).then(function(){\n",
       "                            \n",
       "var gd = document.getElementById('831e7f21-7184-4e35-a4f4-f23d44e3dddf');\n",
       "var x = new MutationObserver(function (mutations, observer) {{\n",
       "        var display = window.getComputedStyle(gd).display;\n",
       "        if (!display || display === 'none') {{\n",
       "            console.log([gd, 'removed!']);\n",
       "            Plotly.purge(gd);\n",
       "            observer.disconnect();\n",
       "        }}\n",
       "}});\n",
       "\n",
       "// Listen for the removal of the full notebook cells\n",
       "var notebookContainer = gd.closest('#notebook-container');\n",
       "if (notebookContainer) {{\n",
       "    x.observe(notebookContainer, {childList: true});\n",
       "}}\n",
       "\n",
       "// Listen for the clearing of the current output cell\n",
       "var outputEl = gd.closest('.output');\n",
       "if (outputEl) {{\n",
       "    x.observe(outputEl, {childList: true});\n",
       "}}\n",
       "\n",
       "                        })\n",
       "                };\n",
       "                });\n",
       "            </script>\n",
       "        </div>"
      ]
     },
     "metadata": {},
     "output_type": "display_data"
    }
   ],
   "source": [
    "import plotly.graph_objects as go\n",
    "\n",
    "local_frames = [go.Frame(data=go.Scatter(x=[p], y=[l], text=str(txt)))  for p, l, c, txt in zip(phis, lams, coor_e1, time_points) if c > 0]\n",
    "\n",
    "fig = go.Figure(\n",
    "    data=[go.Scatter(x=phis, y=lams, text=time_points)],\n",
    "    layout=go.Layout(\n",
    "        xaxis=dict(range=[-90, 90], autorange=False),\n",
    "        yaxis=dict(range=[-90, 90], autorange=False),\n",
    "        title=\"Start Title\",\n",
    "        transition= {'duration':1 },\n",
    "        updatemenus=[dict(\n",
    "            type=\"buttons\",\n",
    "            buttons=[dict(label=\"Play\",\n",
    "                          method=\"animate\",\n",
    "                          args=[None, {\"frame\": {\"duration\": 100},}])])]\n",
    "    ),\n",
    "    frames=local_frames\n",
    ")\n",
    "\n",
    "fig.show()"
   ]
  },
  {
   "cell_type": "code",
   "execution_count": null,
   "metadata": {},
   "outputs": [],
   "source": []
  },
  {
   "cell_type": "code",
   "execution_count": null,
   "metadata": {},
   "outputs": [],
   "source": []
  }
 ],
 "metadata": {
  "kernelspec": {
   "display_name": "Python 3",
   "language": "python",
   "name": "python3"
  },
  "language_info": {
   "codemirror_mode": {
    "name": "ipython",
    "version": 3
   },
   "file_extension": ".py",
   "mimetype": "text/x-python",
   "name": "python",
   "nbconvert_exporter": "python",
   "pygments_lexer": "ipython3",
   "version": "3.7.3"
  }
 },
 "nbformat": 4,
 "nbformat_minor": 4
}
